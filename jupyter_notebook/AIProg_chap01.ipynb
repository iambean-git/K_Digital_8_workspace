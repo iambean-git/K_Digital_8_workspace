{
 "cells": [
  {
   "cell_type": "code",
   "execution_count": 1,
   "id": "b2264ac2-1955-4490-a104-e783d7dacbd0",
   "metadata": {},
   "outputs": [
    {
     "data": {
      "text/plain": [
       "\u001b[1;31mSignature:\u001b[0m \u001b[0mlen\u001b[0m\u001b[1;33m(\u001b[0m\u001b[0mobj\u001b[0m\u001b[1;33m,\u001b[0m \u001b[1;33m/\u001b[0m\u001b[1;33m)\u001b[0m\u001b[1;33m\u001b[0m\u001b[1;33m\u001b[0m\u001b[0m\n",
       "\u001b[1;31mDocstring:\u001b[0m Return the number of items in a container.\n",
       "\u001b[1;31mType:\u001b[0m      builtin_function_or_method"
      ]
     },
     "metadata": {},
     "output_type": "display_data"
    }
   ],
   "source": [
    "len?"
   ]
  },
  {
   "cell_type": "code",
   "execution_count": 2,
   "id": "27aec385-0fc2-4707-80bd-c0b886ea2462",
   "metadata": {},
   "outputs": [],
   "source": [
    "l = [1,2,3,4,5]"
   ]
  },
  {
   "cell_type": "code",
   "execution_count": 3,
   "id": "d8c0ebf7-7d56-4a6e-97ea-cace6d00664c",
   "metadata": {},
   "outputs": [
    {
     "name": "stdout",
     "output_type": "stream",
     "text": [
      "[1, 2, 3, 4, 5]\n"
     ]
    }
   ],
   "source": [
    "print(l)"
   ]
  },
  {
   "cell_type": "code",
   "execution_count": 1,
   "id": "9cc3edff-32e8-4aad-8a06-213ab8bd3af6",
   "metadata": {},
   "outputs": [
    {
     "data": {
      "text/plain": [
       "'C:\\\\workspace_ptyhon\\\\jupyter_notebook'"
      ]
     },
     "execution_count": 1,
     "metadata": {},
     "output_type": "execute_result"
    }
   ],
   "source": [
    "%pwd"
   ]
  },
  {
   "cell_type": "code",
   "execution_count": 2,
   "id": "ef51654c-72eb-4d7e-b5f1-c2897a3fba65",
   "metadata": {},
   "outputs": [
    {
     "name": "stdout",
     "output_type": "stream",
     "text": [
      " C 드라이브의 볼륨에는 이름이 없습니다.\n",
      " 볼륨 일련 번호: 58B3-92B1\n",
      "\n",
      " C:\\workspace_ptyhon\\jupyter_notebook 디렉터리\n",
      "\n",
      "2024-11-12  오전 10:50    <DIR>          .\n",
      "2024-11-12  오전 10:50    <DIR>          ..\n",
      "2024-11-12  오전 10:50    <DIR>          .ipynb_checkpoints\n",
      "2024-11-12  오전 10:50             2,179 AIProg_chap01.ipynb\n",
      "2024-11-12  오전 10:50               147 myscript.py\n",
      "               2개 파일               2,326 바이트\n",
      "               3개 디렉터리  420,306,644,992 바이트 남음\n"
     ]
    }
   ],
   "source": [
    "%ls"
   ]
  },
  {
   "cell_type": "code",
   "execution_count": 3,
   "id": "eeb61a0e-d06d-442e-b462-7b1c8f44143c",
   "metadata": {},
   "outputs": [
    {
     "name": "stdout",
     "output_type": "stream",
     "text": [
      "1 의 제곱은  1\n",
      "2 의 제곱은  4\n",
      "3 의 제곱은  9\n"
     ]
    }
   ],
   "source": [
    "%run myscript.py"
   ]
  },
  {
   "cell_type": "code",
   "execution_count": 5,
   "id": "5a89b288-1c5a-4559-8df6-7988c84d88c5",
   "metadata": {},
   "outputs": [],
   "source": [
    "import numpy as np"
   ]
  },
  {
   "cell_type": "code",
   "execution_count": null,
   "id": "04b74896-9a3e-4889-9275-abb9a3eda44d",
   "metadata": {},
   "outputs": [],
   "source": []
  }
 ],
 "metadata": {
  "kernelspec": {
   "display_name": "Python 3 (ipykernel)",
   "language": "python",
   "name": "python3"
  },
  "language_info": {
   "codemirror_mode": {
    "name": "ipython",
    "version": 3
   },
   "file_extension": ".py",
   "mimetype": "text/x-python",
   "name": "python",
   "nbconvert_exporter": "python",
   "pygments_lexer": "ipython3",
   "version": "3.12.6"
  }
 },
 "nbformat": 4,
 "nbformat_minor": 5
}
