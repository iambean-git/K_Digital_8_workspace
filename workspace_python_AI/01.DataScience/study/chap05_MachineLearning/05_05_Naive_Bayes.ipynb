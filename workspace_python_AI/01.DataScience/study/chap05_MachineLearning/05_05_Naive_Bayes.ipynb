{
 "cells": [
  {
   "cell_type": "markdown",
   "metadata": {},
   "source": [
    "# 심화학습: Naive Bayes Classification\n",
    "\n",
    "+ 참고 : https://m.blog.naver.com/arceus2/222072830355"
   ]
  },
  {
   "cell_type": "code",
   "execution_count": null,
   "metadata": {},
   "outputs": [],
   "source": []
  }
 ],
 "metadata": {
  "language_info": {
   "name": "python"
  }
 },
 "nbformat": 4,
 "nbformat_minor": 2
}
