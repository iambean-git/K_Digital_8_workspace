{
 "cells": [
  {
   "cell_type": "markdown",
   "metadata": {},
   "source": [
    "## FremontBridge 데이터 분석 실습 과제\n",
    "\n",
    "\n",
    "\n",
    "\n",
    "\n"
   ]
  },
  {
   "cell_type": "code",
   "execution_count": 1,
   "metadata": {},
   "outputs": [],
   "source": [
    "import pandas as pd\n",
    "import numpy as np"
   ]
  },
  {
   "cell_type": "code",
   "execution_count": 2,
   "metadata": {},
   "outputs": [
    {
     "name": "stderr",
     "output_type": "stream",
     "text": [
      "C:\\Users\\user\\AppData\\Local\\Temp\\ipykernel_2828\\278646655.py:1: UserWarning: Could not infer format, so each element will be parsed individually, falling back to `dateutil`. To ensure parsing is consistent and as-expected, please specify a format.\n",
      "  data = pd.read_csv('FremontBridge.csv', index_col='Date', parse_dates=True)\n"
     ]
    },
    {
     "data": {
      "text/html": [
       "<div>\n",
       "<style scoped>\n",
       "    .dataframe tbody tr th:only-of-type {\n",
       "        vertical-align: middle;\n",
       "    }\n",
       "\n",
       "    .dataframe tbody tr th {\n",
       "        vertical-align: top;\n",
       "    }\n",
       "\n",
       "    .dataframe thead th {\n",
       "        text-align: right;\n",
       "    }\n",
       "</style>\n",
       "<table border=\"1\" class=\"dataframe\">\n",
       "  <thead>\n",
       "    <tr style=\"text-align: right;\">\n",
       "      <th></th>\n",
       "      <th>Total</th>\n",
       "      <th>West</th>\n",
       "      <th>East</th>\n",
       "    </tr>\n",
       "    <tr>\n",
       "      <th>Date</th>\n",
       "      <th></th>\n",
       "      <th></th>\n",
       "      <th></th>\n",
       "    </tr>\n",
       "  </thead>\n",
       "  <tbody>\n",
       "    <tr>\n",
       "      <th>2012-10-02 13:00:00</th>\n",
       "      <td>55.0</td>\n",
       "      <td>7.0</td>\n",
       "      <td>48.0</td>\n",
       "    </tr>\n",
       "    <tr>\n",
       "      <th>2012-10-02 14:00:00</th>\n",
       "      <td>130.0</td>\n",
       "      <td>55.0</td>\n",
       "      <td>75.0</td>\n",
       "    </tr>\n",
       "    <tr>\n",
       "      <th>2012-10-02 15:00:00</th>\n",
       "      <td>152.0</td>\n",
       "      <td>81.0</td>\n",
       "      <td>71.0</td>\n",
       "    </tr>\n",
       "    <tr>\n",
       "      <th>2012-10-02 16:00:00</th>\n",
       "      <td>278.0</td>\n",
       "      <td>167.0</td>\n",
       "      <td>111.0</td>\n",
       "    </tr>\n",
       "    <tr>\n",
       "      <th>2012-10-02 17:00:00</th>\n",
       "      <td>563.0</td>\n",
       "      <td>393.0</td>\n",
       "      <td>170.0</td>\n",
       "    </tr>\n",
       "  </tbody>\n",
       "</table>\n",
       "</div>"
      ],
      "text/plain": [
       "                     Total   West   East\n",
       "Date                                    \n",
       "2012-10-02 13:00:00   55.0    7.0   48.0\n",
       "2012-10-02 14:00:00  130.0   55.0   75.0\n",
       "2012-10-02 15:00:00  152.0   81.0   71.0\n",
       "2012-10-02 16:00:00  278.0  167.0  111.0\n",
       "2012-10-02 17:00:00  563.0  393.0  170.0"
      ]
     },
     "execution_count": 2,
     "metadata": {},
     "output_type": "execute_result"
    }
   ],
   "source": [
    "data = pd.read_csv('FremontBridge.csv', index_col='Date', parse_dates=True)\n",
    "data.columns = ['Total', 'West', 'East']\n",
    "data.head()"
   ]
  },
  {
   "cell_type": "markdown",
   "metadata": {},
   "source": [
    "### 과제 1: 데이터 선택 및 조건 필터링\n",
    "1. iloc 사용\n",
    "데이터셋의 첫 15개의 행에서 west와 east 열만 선택하여 출력하세요.\n",
    "\n",
    "2. loc 사용\n",
    "west 열과 east 열의 값이 모두 50 이상인 데이터를 선택하고, 해당 데이터의 west와 east 열 각각의 평균을 계산하세요.\n",
    "\n",
    "3. 조건에 따른 데이터 필터링\n",
    "west 열의 값이 400 이상이고 east 열의 값이 0.6 이상인 데이터를 선택하여 출력하세요."
   ]
  },
  {
   "cell_type": "code",
   "execution_count": 3,
   "metadata": {},
   "outputs": [
    {
     "data": {
      "text/plain": [
       "(105144, 3)"
      ]
     },
     "execution_count": 3,
     "metadata": {},
     "output_type": "execute_result"
    }
   ],
   "source": [
    "data.shape"
   ]
  },
  {
   "cell_type": "code",
   "execution_count": 4,
   "metadata": {},
   "outputs": [
    {
     "data": {
      "text/html": [
       "<div>\n",
       "<style scoped>\n",
       "    .dataframe tbody tr th:only-of-type {\n",
       "        vertical-align: middle;\n",
       "    }\n",
       "\n",
       "    .dataframe tbody tr th {\n",
       "        vertical-align: top;\n",
       "    }\n",
       "\n",
       "    .dataframe thead th {\n",
       "        text-align: right;\n",
       "    }\n",
       "</style>\n",
       "<table border=\"1\" class=\"dataframe\">\n",
       "  <thead>\n",
       "    <tr style=\"text-align: right;\">\n",
       "      <th></th>\n",
       "      <th>West</th>\n",
       "      <th>East</th>\n",
       "    </tr>\n",
       "    <tr>\n",
       "      <th>Date</th>\n",
       "      <th></th>\n",
       "      <th></th>\n",
       "    </tr>\n",
       "  </thead>\n",
       "  <tbody>\n",
       "    <tr>\n",
       "      <th>2012-10-02 13:00:00</th>\n",
       "      <td>7.0</td>\n",
       "      <td>48.0</td>\n",
       "    </tr>\n",
       "    <tr>\n",
       "      <th>2012-10-02 14:00:00</th>\n",
       "      <td>55.0</td>\n",
       "      <td>75.0</td>\n",
       "    </tr>\n",
       "    <tr>\n",
       "      <th>2012-10-02 15:00:00</th>\n",
       "      <td>81.0</td>\n",
       "      <td>71.0</td>\n",
       "    </tr>\n",
       "    <tr>\n",
       "      <th>2012-10-02 16:00:00</th>\n",
       "      <td>167.0</td>\n",
       "      <td>111.0</td>\n",
       "    </tr>\n",
       "    <tr>\n",
       "      <th>2012-10-02 17:00:00</th>\n",
       "      <td>393.0</td>\n",
       "      <td>170.0</td>\n",
       "    </tr>\n",
       "    <tr>\n",
       "      <th>2012-10-02 18:00:00</th>\n",
       "      <td>236.0</td>\n",
       "      <td>145.0</td>\n",
       "    </tr>\n",
       "    <tr>\n",
       "      <th>2012-10-02 19:00:00</th>\n",
       "      <td>104.0</td>\n",
       "      <td>71.0</td>\n",
       "    </tr>\n",
       "    <tr>\n",
       "      <th>2012-10-02 20:00:00</th>\n",
       "      <td>51.0</td>\n",
       "      <td>35.0</td>\n",
       "    </tr>\n",
       "    <tr>\n",
       "      <th>2012-10-02 21:00:00</th>\n",
       "      <td>35.0</td>\n",
       "      <td>28.0</td>\n",
       "    </tr>\n",
       "    <tr>\n",
       "      <th>2012-10-02 22:00:00</th>\n",
       "      <td>27.0</td>\n",
       "      <td>15.0</td>\n",
       "    </tr>\n",
       "    <tr>\n",
       "      <th>2012-10-02 23:00:00</th>\n",
       "      <td>9.0</td>\n",
       "      <td>4.0</td>\n",
       "    </tr>\n",
       "    <tr>\n",
       "      <th>2012-10-03 00:00:00</th>\n",
       "      <td>9.0</td>\n",
       "      <td>4.0</td>\n",
       "    </tr>\n",
       "    <tr>\n",
       "      <th>2012-10-03 01:00:00</th>\n",
       "      <td>6.0</td>\n",
       "      <td>4.0</td>\n",
       "    </tr>\n",
       "    <tr>\n",
       "      <th>2012-10-03 02:00:00</th>\n",
       "      <td>1.0</td>\n",
       "      <td>1.0</td>\n",
       "    </tr>\n",
       "    <tr>\n",
       "      <th>2012-10-03 03:00:00</th>\n",
       "      <td>3.0</td>\n",
       "      <td>2.0</td>\n",
       "    </tr>\n",
       "  </tbody>\n",
       "</table>\n",
       "</div>"
      ],
      "text/plain": [
       "                      West   East\n",
       "Date                             \n",
       "2012-10-02 13:00:00    7.0   48.0\n",
       "2012-10-02 14:00:00   55.0   75.0\n",
       "2012-10-02 15:00:00   81.0   71.0\n",
       "2012-10-02 16:00:00  167.0  111.0\n",
       "2012-10-02 17:00:00  393.0  170.0\n",
       "2012-10-02 18:00:00  236.0  145.0\n",
       "2012-10-02 19:00:00  104.0   71.0\n",
       "2012-10-02 20:00:00   51.0   35.0\n",
       "2012-10-02 21:00:00   35.0   28.0\n",
       "2012-10-02 22:00:00   27.0   15.0\n",
       "2012-10-02 23:00:00    9.0    4.0\n",
       "2012-10-03 00:00:00    9.0    4.0\n",
       "2012-10-03 01:00:00    6.0    4.0\n",
       "2012-10-03 02:00:00    1.0    1.0\n",
       "2012-10-03 03:00:00    3.0    2.0"
      ]
     },
     "execution_count": 4,
     "metadata": {},
     "output_type": "execute_result"
    }
   ],
   "source": [
    "# 문제1 iloc 사용\n",
    "# 데이터셋의 첫 15개의 행에서 west와 east 열만 선택하여 출력하세요.\n",
    "data.iloc[:15,1:]"
   ]
  },
  {
   "cell_type": "code",
   "execution_count": 5,
   "metadata": {},
   "outputs": [
    {
     "name": "stdout",
     "output_type": "stream",
     "text": [
      "                     Total   West   East\n",
      "Date                                    \n",
      "2012-10-02 14:00:00  130.0   55.0   75.0\n",
      "2012-10-02 15:00:00  152.0   81.0   71.0\n",
      "2012-10-02 16:00:00  278.0  167.0  111.0\n",
      "2012-10-02 17:00:00  563.0  393.0  170.0\n",
      "2012-10-02 18:00:00  381.0  236.0  145.0\n",
      "...                    ...    ...    ...\n",
      "2024-09-29 18:00:00  157.0   70.0   87.0\n",
      "2024-09-30 07:00:00  260.0   96.0  164.0\n",
      "2024-09-30 08:00:00  388.0  137.0  251.0\n",
      "2024-09-30 09:00:00  269.0   76.0  193.0\n",
      "2024-09-30 12:00:00  124.0   53.0   71.0\n",
      "\n",
      "[32124 rows x 3 columns]\n",
      "\n",
      " West열의 평균 : 110.62012825301954\n",
      "\n",
      " East열의 평균 : 146.88559955173702\n"
     ]
    }
   ],
   "source": [
    "#문제2. loc 사용\n",
    "# west 열과 east 열의 값이 모두 50 이상인 데이터를 선택하고, \n",
    "# 해당 데이터의 west와 east 열 각각의 평균을 계산하세요.\n",
    "\n",
    "new_data = data.loc[(data['West']>=50) & (data['East']>=50)]\n",
    "print(new_data)\n",
    "print(\"\\n West열의 평균 :\",new_data.loc[:,'West'].mean())\n",
    "print(\"\\n East열의 평균 :\",new_data['East'].mean())"
   ]
  },
  {
   "cell_type": "code",
   "execution_count": 6,
   "metadata": {},
   "outputs": [
    {
     "data": {
      "text/html": [
       "<div>\n",
       "<style scoped>\n",
       "    .dataframe tbody tr th:only-of-type {\n",
       "        vertical-align: middle;\n",
       "    }\n",
       "\n",
       "    .dataframe tbody tr th {\n",
       "        vertical-align: top;\n",
       "    }\n",
       "\n",
       "    .dataframe thead th {\n",
       "        text-align: right;\n",
       "    }\n",
       "</style>\n",
       "<table border=\"1\" class=\"dataframe\">\n",
       "  <thead>\n",
       "    <tr style=\"text-align: right;\">\n",
       "      <th></th>\n",
       "      <th>Total</th>\n",
       "      <th>West</th>\n",
       "      <th>East</th>\n",
       "    </tr>\n",
       "    <tr>\n",
       "      <th>Date</th>\n",
       "      <th></th>\n",
       "      <th></th>\n",
       "      <th></th>\n",
       "    </tr>\n",
       "  </thead>\n",
       "  <tbody>\n",
       "    <tr>\n",
       "      <th>2012-10-09 17:00:00</th>\n",
       "      <td>597.0</td>\n",
       "      <td>400.0</td>\n",
       "      <td>197.0</td>\n",
       "    </tr>\n",
       "    <tr>\n",
       "      <th>2013-04-24 17:00:00</th>\n",
       "      <td>688.0</td>\n",
       "      <td>435.0</td>\n",
       "      <td>253.0</td>\n",
       "    </tr>\n",
       "    <tr>\n",
       "      <th>2013-04-25 17:00:00</th>\n",
       "      <td>618.0</td>\n",
       "      <td>416.0</td>\n",
       "      <td>202.0</td>\n",
       "    </tr>\n",
       "    <tr>\n",
       "      <th>2013-05-01 17:00:00</th>\n",
       "      <td>803.0</td>\n",
       "      <td>542.0</td>\n",
       "      <td>261.0</td>\n",
       "    </tr>\n",
       "    <tr>\n",
       "      <th>2013-05-01 18:00:00</th>\n",
       "      <td>666.0</td>\n",
       "      <td>409.0</td>\n",
       "      <td>257.0</td>\n",
       "    </tr>\n",
       "    <tr>\n",
       "      <th>...</th>\n",
       "      <td>...</td>\n",
       "      <td>...</td>\n",
       "      <td>...</td>\n",
       "    </tr>\n",
       "    <tr>\n",
       "      <th>2019-06-11 08:00:00</th>\n",
       "      <td>892.0</td>\n",
       "      <td>423.0</td>\n",
       "      <td>469.0</td>\n",
       "    </tr>\n",
       "    <tr>\n",
       "      <th>2019-07-26 21:00:00</th>\n",
       "      <td>620.0</td>\n",
       "      <td>541.0</td>\n",
       "      <td>79.0</td>\n",
       "    </tr>\n",
       "    <tr>\n",
       "      <th>2022-04-24 14:00:00</th>\n",
       "      <td>664.0</td>\n",
       "      <td>464.0</td>\n",
       "      <td>200.0</td>\n",
       "    </tr>\n",
       "    <tr>\n",
       "      <th>2022-07-09 12:00:00</th>\n",
       "      <td>593.0</td>\n",
       "      <td>425.0</td>\n",
       "      <td>168.0</td>\n",
       "    </tr>\n",
       "    <tr>\n",
       "      <th>2024-06-21 13:00:00</th>\n",
       "      <td>689.0</td>\n",
       "      <td>585.0</td>\n",
       "      <td>104.0</td>\n",
       "    </tr>\n",
       "  </tbody>\n",
       "</table>\n",
       "<p>259 rows × 3 columns</p>\n",
       "</div>"
      ],
      "text/plain": [
       "                     Total   West   East\n",
       "Date                                    \n",
       "2012-10-09 17:00:00  597.0  400.0  197.0\n",
       "2013-04-24 17:00:00  688.0  435.0  253.0\n",
       "2013-04-25 17:00:00  618.0  416.0  202.0\n",
       "2013-05-01 17:00:00  803.0  542.0  261.0\n",
       "2013-05-01 18:00:00  666.0  409.0  257.0\n",
       "...                    ...    ...    ...\n",
       "2019-06-11 08:00:00  892.0  423.0  469.0\n",
       "2019-07-26 21:00:00  620.0  541.0   79.0\n",
       "2022-04-24 14:00:00  664.0  464.0  200.0\n",
       "2022-07-09 12:00:00  593.0  425.0  168.0\n",
       "2024-06-21 13:00:00  689.0  585.0  104.0\n",
       "\n",
       "[259 rows x 3 columns]"
      ]
     },
     "execution_count": 6,
     "metadata": {},
     "output_type": "execute_result"
    }
   ],
   "source": [
    "# 3. 조건에 따른 데이터 필터링\n",
    "# west 열의 값이 400 이상이고 east 열의 값이 0.6 이상인 데이터를 선택하여 출력하세요.\n",
    "data.loc[(data['West']>=400) & (data['East']>=0.6)]"
   ]
  },
  {
   "cell_type": "markdown",
   "metadata": {},
   "source": [
    "### 과제 2: 누락 데이터 처리\n",
    "1. 누락 데이터 생성\n",
    "DIS라는 새로운 열을 추가하고, 무작위로 15%의 데이터를 NaN 값으로 설정하세요.\n",
    "\n",
    "2. 누락 데이터 처리\n",
    "(a) 누락 데이터를 포함하는 행을 삭제한 새로운 데이터를 생성하고, 이를 확인하세요.\n",
    "(b) 누락 데이터를 DIS 열의 중앙값으로 대체한 새로운 데이터를 생성하고, 이를 확인하세요."
   ]
  },
  {
   "cell_type": "code",
   "execution_count": 7,
   "metadata": {},
   "outputs": [
    {
     "data": {
      "text/html": [
       "<div>\n",
       "<style scoped>\n",
       "    .dataframe tbody tr th:only-of-type {\n",
       "        vertical-align: middle;\n",
       "    }\n",
       "\n",
       "    .dataframe tbody tr th {\n",
       "        vertical-align: top;\n",
       "    }\n",
       "\n",
       "    .dataframe thead th {\n",
       "        text-align: right;\n",
       "    }\n",
       "</style>\n",
       "<table border=\"1\" class=\"dataframe\">\n",
       "  <thead>\n",
       "    <tr style=\"text-align: right;\">\n",
       "      <th></th>\n",
       "      <th>Total</th>\n",
       "      <th>West</th>\n",
       "      <th>East</th>\n",
       "    </tr>\n",
       "    <tr>\n",
       "      <th>Date</th>\n",
       "      <th></th>\n",
       "      <th></th>\n",
       "      <th></th>\n",
       "    </tr>\n",
       "  </thead>\n",
       "  <tbody>\n",
       "    <tr>\n",
       "      <th>2012-10-02 13:00:00</th>\n",
       "      <td>55.0</td>\n",
       "      <td>7.0</td>\n",
       "      <td>48.0</td>\n",
       "    </tr>\n",
       "    <tr>\n",
       "      <th>2012-10-02 14:00:00</th>\n",
       "      <td>130.0</td>\n",
       "      <td>55.0</td>\n",
       "      <td>75.0</td>\n",
       "    </tr>\n",
       "    <tr>\n",
       "      <th>2012-10-02 15:00:00</th>\n",
       "      <td>152.0</td>\n",
       "      <td>81.0</td>\n",
       "      <td>71.0</td>\n",
       "    </tr>\n",
       "    <tr>\n",
       "      <th>2012-10-02 16:00:00</th>\n",
       "      <td>278.0</td>\n",
       "      <td>167.0</td>\n",
       "      <td>111.0</td>\n",
       "    </tr>\n",
       "    <tr>\n",
       "      <th>2012-10-02 17:00:00</th>\n",
       "      <td>563.0</td>\n",
       "      <td>393.0</td>\n",
       "      <td>170.0</td>\n",
       "    </tr>\n",
       "    <tr>\n",
       "      <th>...</th>\n",
       "      <td>...</td>\n",
       "      <td>...</td>\n",
       "      <td>...</td>\n",
       "    </tr>\n",
       "    <tr>\n",
       "      <th>2024-09-30 08:00:00</th>\n",
       "      <td>388.0</td>\n",
       "      <td>137.0</td>\n",
       "      <td>251.0</td>\n",
       "    </tr>\n",
       "    <tr>\n",
       "      <th>2024-09-30 09:00:00</th>\n",
       "      <td>269.0</td>\n",
       "      <td>76.0</td>\n",
       "      <td>193.0</td>\n",
       "    </tr>\n",
       "    <tr>\n",
       "      <th>2024-09-30 10:00:00</th>\n",
       "      <td>118.0</td>\n",
       "      <td>48.0</td>\n",
       "      <td>70.0</td>\n",
       "    </tr>\n",
       "    <tr>\n",
       "      <th>2024-09-30 11:00:00</th>\n",
       "      <td>103.0</td>\n",
       "      <td>37.0</td>\n",
       "      <td>66.0</td>\n",
       "    </tr>\n",
       "    <tr>\n",
       "      <th>2024-09-30 12:00:00</th>\n",
       "      <td>124.0</td>\n",
       "      <td>53.0</td>\n",
       "      <td>71.0</td>\n",
       "    </tr>\n",
       "  </tbody>\n",
       "</table>\n",
       "<p>105144 rows × 3 columns</p>\n",
       "</div>"
      ],
      "text/plain": [
       "                     Total   West   East\n",
       "Date                                    \n",
       "2012-10-02 13:00:00   55.0    7.0   48.0\n",
       "2012-10-02 14:00:00  130.0   55.0   75.0\n",
       "2012-10-02 15:00:00  152.0   81.0   71.0\n",
       "2012-10-02 16:00:00  278.0  167.0  111.0\n",
       "2012-10-02 17:00:00  563.0  393.0  170.0\n",
       "...                    ...    ...    ...\n",
       "2024-09-30 08:00:00  388.0  137.0  251.0\n",
       "2024-09-30 09:00:00  269.0   76.0  193.0\n",
       "2024-09-30 10:00:00  118.0   48.0   70.0\n",
       "2024-09-30 11:00:00  103.0   37.0   66.0\n",
       "2024-09-30 12:00:00  124.0   53.0   71.0\n",
       "\n",
       "[105144 rows x 3 columns]"
      ]
     },
     "execution_count": 7,
     "metadata": {},
     "output_type": "execute_result"
    }
   ],
   "source": [
    "data"
   ]
  },
  {
   "cell_type": "code",
   "execution_count": null,
   "metadata": {},
   "outputs": [
    {
     "data": {
      "text/html": [
       "<div>\n",
       "<style scoped>\n",
       "    .dataframe tbody tr th:only-of-type {\n",
       "        vertical-align: middle;\n",
       "    }\n",
       "\n",
       "    .dataframe tbody tr th {\n",
       "        vertical-align: top;\n",
       "    }\n",
       "\n",
       "    .dataframe thead th {\n",
       "        text-align: right;\n",
       "    }\n",
       "</style>\n",
       "<table border=\"1\" class=\"dataframe\">\n",
       "  <thead>\n",
       "    <tr style=\"text-align: right;\">\n",
       "      <th></th>\n",
       "      <th>Total</th>\n",
       "      <th>West</th>\n",
       "      <th>East</th>\n",
       "      <th>DIS</th>\n",
       "    </tr>\n",
       "    <tr>\n",
       "      <th>Date</th>\n",
       "      <th></th>\n",
       "      <th></th>\n",
       "      <th></th>\n",
       "      <th></th>\n",
       "    </tr>\n",
       "  </thead>\n",
       "  <tbody>\n",
       "    <tr>\n",
       "      <th>2012-10-02 13:00:00</th>\n",
       "      <td>55.0</td>\n",
       "      <td>7.0</td>\n",
       "      <td>48.0</td>\n",
       "      <td>0</td>\n",
       "    </tr>\n",
       "    <tr>\n",
       "      <th>2012-10-02 14:00:00</th>\n",
       "      <td>130.0</td>\n",
       "      <td>55.0</td>\n",
       "      <td>75.0</td>\n",
       "      <td>0</td>\n",
       "    </tr>\n",
       "    <tr>\n",
       "      <th>2012-10-02 15:00:00</th>\n",
       "      <td>152.0</td>\n",
       "      <td>81.0</td>\n",
       "      <td>71.0</td>\n",
       "      <td>0</td>\n",
       "    </tr>\n",
       "    <tr>\n",
       "      <th>2012-10-02 16:00:00</th>\n",
       "      <td>278.0</td>\n",
       "      <td>167.0</td>\n",
       "      <td>111.0</td>\n",
       "      <td>0</td>\n",
       "    </tr>\n",
       "    <tr>\n",
       "      <th>2012-10-02 17:00:00</th>\n",
       "      <td>563.0</td>\n",
       "      <td>393.0</td>\n",
       "      <td>170.0</td>\n",
       "      <td>0</td>\n",
       "    </tr>\n",
       "    <tr>\n",
       "      <th>...</th>\n",
       "      <td>...</td>\n",
       "      <td>...</td>\n",
       "      <td>...</td>\n",
       "      <td>...</td>\n",
       "    </tr>\n",
       "    <tr>\n",
       "      <th>2024-09-30 08:00:00</th>\n",
       "      <td>388.0</td>\n",
       "      <td>137.0</td>\n",
       "      <td>251.0</td>\n",
       "      <td>0</td>\n",
       "    </tr>\n",
       "    <tr>\n",
       "      <th>2024-09-30 09:00:00</th>\n",
       "      <td>269.0</td>\n",
       "      <td>76.0</td>\n",
       "      <td>193.0</td>\n",
       "      <td>0</td>\n",
       "    </tr>\n",
       "    <tr>\n",
       "      <th>2024-09-30 10:00:00</th>\n",
       "      <td>118.0</td>\n",
       "      <td>48.0</td>\n",
       "      <td>70.0</td>\n",
       "      <td>0</td>\n",
       "    </tr>\n",
       "    <tr>\n",
       "      <th>2024-09-30 11:00:00</th>\n",
       "      <td>103.0</td>\n",
       "      <td>37.0</td>\n",
       "      <td>66.0</td>\n",
       "      <td>0</td>\n",
       "    </tr>\n",
       "    <tr>\n",
       "      <th>2024-09-30 12:00:00</th>\n",
       "      <td>124.0</td>\n",
       "      <td>53.0</td>\n",
       "      <td>71.0</td>\n",
       "      <td>0</td>\n",
       "    </tr>\n",
       "  </tbody>\n",
       "</table>\n",
       "<p>105144 rows × 4 columns</p>\n",
       "</div>"
      ],
      "text/plain": [
       "                     Total   West   East  DIS\n",
       "Date                                         \n",
       "2012-10-02 13:00:00   55.0    7.0   48.0    0\n",
       "2012-10-02 14:00:00  130.0   55.0   75.0    0\n",
       "2012-10-02 15:00:00  152.0   81.0   71.0    0\n",
       "2012-10-02 16:00:00  278.0  167.0  111.0    0\n",
       "2012-10-02 17:00:00  563.0  393.0  170.0    0\n",
       "...                    ...    ...    ...  ...\n",
       "2024-09-30 08:00:00  388.0  137.0  251.0    0\n",
       "2024-09-30 09:00:00  269.0   76.0  193.0    0\n",
       "2024-09-30 10:00:00  118.0   48.0   70.0    0\n",
       "2024-09-30 11:00:00  103.0   37.0   66.0    0\n",
       "2024-09-30 12:00:00  124.0   53.0   71.0    0\n",
       "\n",
       "[105144 rows x 4 columns]"
      ]
     },
     "execution_count": 8,
     "metadata": {},
     "output_type": "execute_result"
    }
   ],
   "source": [
    "#문제1\n",
    "data['DIS'] = 0\n",
    "data"
   ]
  },
  {
   "cell_type": "code",
   "execution_count": 9,
   "metadata": {},
   "outputs": [
    {
     "name": "stdout",
     "output_type": "stream",
     "text": [
      "\n",
      "NaN 갯수 : 15771\n",
      "\n",
      "                     Total   West   East  DIS\n",
      "Date                                         \n",
      "2012-10-02 13:00:00   55.0    7.0   48.0  0.0\n",
      "2012-10-02 14:00:00  130.0   55.0   75.0  0.0\n",
      "2012-10-02 15:00:00  152.0   81.0   71.0  0.0\n",
      "2012-10-02 16:00:00  278.0  167.0  111.0  0.0\n",
      "2012-10-02 17:00:00  563.0  393.0  170.0  0.0\n",
      "...                    ...    ...    ...  ...\n",
      "2024-09-30 08:00:00  388.0  137.0  251.0  0.0\n",
      "2024-09-30 09:00:00  269.0   76.0  193.0  0.0\n",
      "2024-09-30 10:00:00  118.0   48.0   70.0  0.0\n",
      "2024-09-30 11:00:00  103.0   37.0   66.0  0.0\n",
      "2024-09-30 12:00:00  124.0   53.0   71.0  0.0\n",
      "\n",
      "[105144 rows x 4 columns]\n"
     ]
    }
   ],
   "source": [
    "num=int(len(data)*0.15)\n",
    "data.loc[data['DIS'].sample(num).index,'DIS']=np.nan\n",
    "print(\"\\nNaN 갯수 :\", data['DIS'].isnull().sum())\n",
    "print()\n",
    "print(data)"
   ]
  },
  {
   "cell_type": "code",
   "execution_count": 10,
   "metadata": {},
   "outputs": [
    {
     "name": "stdout",
     "output_type": "stream",
     "text": [
      "\n",
      "누락 데이터 삭제 후 형태: (89349, 4)\n",
      "\n",
      "누락 데이터 중앙값 대체 후 샘플:\n",
      "                      Total   West   East  DIS\n",
      "Date                                         \n",
      "2012-10-02 13:00:00   55.0    7.0   48.0  0.0\n",
      "2012-10-02 14:00:00  130.0   55.0   75.0  0.0\n",
      "2012-10-02 15:00:00  152.0   81.0   71.0  0.0\n",
      "2012-10-02 16:00:00  278.0  167.0  111.0  0.0\n",
      "2012-10-02 17:00:00  563.0  393.0  170.0  0.0\n",
      "...                    ...    ...    ...  ...\n",
      "2024-09-30 08:00:00  388.0  137.0  251.0  0.0\n",
      "2024-09-30 09:00:00  269.0   76.0  193.0  0.0\n",
      "2024-09-30 10:00:00  118.0   48.0   70.0  0.0\n",
      "2024-09-30 11:00:00  103.0   37.0   66.0  0.0\n",
      "2024-09-30 12:00:00  124.0   53.0   71.0  0.0\n",
      "\n",
      "[105144 rows x 4 columns]\n"
     ]
    }
   ],
   "source": [
    "# 누락된 행 삭제\n",
    "print(\"\\n누락 데이터 삭제 후 형태:\", data.dropna().shape)\n",
    "\n",
    "# 중앙값으로 누락 데이터 대체\n",
    "print(\"\\n누락 데이터 중앙값 대체 후 샘플:\\n\", data.fillna(data['DIS'].median()))"
   ]
  },
  {
   "cell_type": "code",
   "execution_count": 11,
   "metadata": {},
   "outputs": [
    {
     "data": {
      "text/plain": [
       "Date\n",
       "2012-10-02 13:00:00    0.0\n",
       "2012-10-02 14:00:00    0.0\n",
       "2012-10-02 15:00:00    0.0\n",
       "2012-10-02 16:00:00    0.0\n",
       "2012-10-02 17:00:00    0.0\n",
       "                      ... \n",
       "2024-09-30 08:00:00    0.0\n",
       "2024-09-30 09:00:00    0.0\n",
       "2024-09-30 10:00:00    0.0\n",
       "2024-09-30 11:00:00    0.0\n",
       "2024-09-30 12:00:00    0.0\n",
       "Name: DIS, Length: 105144, dtype: float64"
      ]
     },
     "execution_count": 11,
     "metadata": {},
     "output_type": "execute_result"
    }
   ],
   "source": [
    "data['DIS']"
   ]
  },
  {
   "cell_type": "markdown",
   "metadata": {},
   "source": [
    "### 과제 3: 기상 데이터와 자전거 사용자 수 관계 분석\n",
    "\n",
    "배경\n",
    "기상 데이터(Temperature, Rainfall, 등)가 주어졌다고 가정하고, 이를 Fremont Bridge 데이터와 결합합니다.\n",
    "\n"
   ]
  },
  {
   "cell_type": "code",
   "execution_count": 13,
   "metadata": {},
   "outputs": [
    {
     "name": "stderr",
     "output_type": "stream",
     "text": [
      "C:\\Users\\user\\AppData\\Local\\Temp\\ipykernel_2828\\278646655.py:1: UserWarning: Could not infer format, so each element will be parsed individually, falling back to `dateutil`. To ensure parsing is consistent and as-expected, please specify a format.\n",
      "  data = pd.read_csv('FremontBridge.csv', index_col='Date', parse_dates=True)\n"
     ]
    },
    {
     "data": {
      "text/html": [
       "<div>\n",
       "<style scoped>\n",
       "    .dataframe tbody tr th:only-of-type {\n",
       "        vertical-align: middle;\n",
       "    }\n",
       "\n",
       "    .dataframe tbody tr th {\n",
       "        vertical-align: top;\n",
       "    }\n",
       "\n",
       "    .dataframe thead th {\n",
       "        text-align: right;\n",
       "    }\n",
       "</style>\n",
       "<table border=\"1\" class=\"dataframe\">\n",
       "  <thead>\n",
       "    <tr style=\"text-align: right;\">\n",
       "      <th></th>\n",
       "      <th>Total</th>\n",
       "      <th>West</th>\n",
       "      <th>East</th>\n",
       "    </tr>\n",
       "    <tr>\n",
       "      <th>Date</th>\n",
       "      <th></th>\n",
       "      <th></th>\n",
       "      <th></th>\n",
       "    </tr>\n",
       "  </thead>\n",
       "  <tbody>\n",
       "    <tr>\n",
       "      <th>2012-10-02 13:00:00</th>\n",
       "      <td>55.0</td>\n",
       "      <td>7.0</td>\n",
       "      <td>48.0</td>\n",
       "    </tr>\n",
       "    <tr>\n",
       "      <th>2012-10-02 14:00:00</th>\n",
       "      <td>130.0</td>\n",
       "      <td>55.0</td>\n",
       "      <td>75.0</td>\n",
       "    </tr>\n",
       "    <tr>\n",
       "      <th>2012-10-02 15:00:00</th>\n",
       "      <td>152.0</td>\n",
       "      <td>81.0</td>\n",
       "      <td>71.0</td>\n",
       "    </tr>\n",
       "    <tr>\n",
       "      <th>2012-10-02 16:00:00</th>\n",
       "      <td>278.0</td>\n",
       "      <td>167.0</td>\n",
       "      <td>111.0</td>\n",
       "    </tr>\n",
       "    <tr>\n",
       "      <th>2012-10-02 17:00:00</th>\n",
       "      <td>563.0</td>\n",
       "      <td>393.0</td>\n",
       "      <td>170.0</td>\n",
       "    </tr>\n",
       "  </tbody>\n",
       "</table>\n",
       "</div>"
      ],
      "text/plain": [
       "                     Total   West   East\n",
       "Date                                    \n",
       "2012-10-02 13:00:00   55.0    7.0   48.0\n",
       "2012-10-02 14:00:00  130.0   55.0   75.0\n",
       "2012-10-02 15:00:00  152.0   81.0   71.0\n",
       "2012-10-02 16:00:00  278.0  167.0  111.0\n",
       "2012-10-02 17:00:00  563.0  393.0  170.0"
      ]
     },
     "execution_count": 13,
     "metadata": {},
     "output_type": "execute_result"
    }
   ],
   "source": [
    "data = pd.read_csv('FremontBridge.csv', index_col='Date', parse_dates=True)\n",
    "data.columns = ['Total', 'West', 'East']\n",
    "data.head()"
   ]
  },
  {
   "cell_type": "markdown",
   "metadata": {},
   "source": [
    "\n",
    "실습 문제\n",
    "1) 임의의 기상 데이터를 생성하여 Temperature와 Rainfall 열을 추가하세요.\n",
    "Temperature는 40~80°F 사이의 임의의 정수로 구성됩니다.\n",
    "Rainfall은 0~5mm 사이의 임의의 실수로 구성됩니다."
   ]
  },
  {
   "cell_type": "code",
   "execution_count": 14,
   "metadata": {},
   "outputs": [],
   "source": [
    "data['Temperature'] = np.random.randint(45,80,len(data))\n",
    "data['Rainfall'] = np.random.uniform(0,5,len(data))"
   ]
  },
  {
   "cell_type": "code",
   "execution_count": 16,
   "metadata": {},
   "outputs": [
    {
     "data": {
      "text/html": [
       "<div>\n",
       "<style scoped>\n",
       "    .dataframe tbody tr th:only-of-type {\n",
       "        vertical-align: middle;\n",
       "    }\n",
       "\n",
       "    .dataframe tbody tr th {\n",
       "        vertical-align: top;\n",
       "    }\n",
       "\n",
       "    .dataframe thead th {\n",
       "        text-align: right;\n",
       "    }\n",
       "</style>\n",
       "<table border=\"1\" class=\"dataframe\">\n",
       "  <thead>\n",
       "    <tr style=\"text-align: right;\">\n",
       "      <th></th>\n",
       "      <th>Total</th>\n",
       "      <th>West</th>\n",
       "      <th>East</th>\n",
       "      <th>Temperature</th>\n",
       "      <th>Rainfall</th>\n",
       "    </tr>\n",
       "    <tr>\n",
       "      <th>Date</th>\n",
       "      <th></th>\n",
       "      <th></th>\n",
       "      <th></th>\n",
       "      <th></th>\n",
       "      <th></th>\n",
       "    </tr>\n",
       "  </thead>\n",
       "  <tbody>\n",
       "    <tr>\n",
       "      <th>2012-10-02 13:00:00</th>\n",
       "      <td>55.0</td>\n",
       "      <td>7.0</td>\n",
       "      <td>48.0</td>\n",
       "      <td>53</td>\n",
       "      <td>3.646857</td>\n",
       "    </tr>\n",
       "    <tr>\n",
       "      <th>2012-10-02 14:00:00</th>\n",
       "      <td>130.0</td>\n",
       "      <td>55.0</td>\n",
       "      <td>75.0</td>\n",
       "      <td>79</td>\n",
       "      <td>2.961130</td>\n",
       "    </tr>\n",
       "    <tr>\n",
       "      <th>2012-10-02 15:00:00</th>\n",
       "      <td>152.0</td>\n",
       "      <td>81.0</td>\n",
       "      <td>71.0</td>\n",
       "      <td>58</td>\n",
       "      <td>2.504794</td>\n",
       "    </tr>\n",
       "    <tr>\n",
       "      <th>2012-10-02 16:00:00</th>\n",
       "      <td>278.0</td>\n",
       "      <td>167.0</td>\n",
       "      <td>111.0</td>\n",
       "      <td>46</td>\n",
       "      <td>1.751732</td>\n",
       "    </tr>\n",
       "    <tr>\n",
       "      <th>2012-10-02 17:00:00</th>\n",
       "      <td>563.0</td>\n",
       "      <td>393.0</td>\n",
       "      <td>170.0</td>\n",
       "      <td>51</td>\n",
       "      <td>1.321999</td>\n",
       "    </tr>\n",
       "  </tbody>\n",
       "</table>\n",
       "</div>"
      ],
      "text/plain": [
       "                     Total   West   East  Temperature  Rainfall\n",
       "Date                                                           \n",
       "2012-10-02 13:00:00   55.0    7.0   48.0           53  3.646857\n",
       "2012-10-02 14:00:00  130.0   55.0   75.0           79  2.961130\n",
       "2012-10-02 15:00:00  152.0   81.0   71.0           58  2.504794\n",
       "2012-10-02 16:00:00  278.0  167.0  111.0           46  1.751732\n",
       "2012-10-02 17:00:00  563.0  393.0  170.0           51  1.321999"
      ]
     },
     "execution_count": 16,
     "metadata": {},
     "output_type": "execute_result"
    }
   ],
   "source": [
    "data.head()"
   ]
  },
  {
   "cell_type": "markdown",
   "metadata": {},
   "source": [
    "2) Temperature와 Rainfall이 west와 east 통행량에 미치는 영향을 분석하기 위해, 조건에 따른 데이터를 필터링하세요.\n",
    "- Temperature가 60°F 이상일 때의 통행량 평균.\n",
    "- Rainfall이 2mm 이하일 때의 통행량 평균."
   ]
  },
  {
   "cell_type": "code",
   "execution_count": 18,
   "metadata": {},
   "outputs": [
    {
     "data": {
      "text/plain": [
       "Total          106.360953\n",
       "West            45.663765\n",
       "East            60.697188\n",
       "Temperature     69.517826\n",
       "Rainfall         2.486979\n",
       "dtype: float64"
      ]
     },
     "execution_count": 18,
     "metadata": {},
     "output_type": "execute_result"
    }
   ],
   "source": [
    "data.loc[data['Temperature']>=60].mean()"
   ]
  },
  {
   "cell_type": "code",
   "execution_count": 19,
   "metadata": {},
   "outputs": [
    {
     "data": {
      "text/plain": [
       "Total          107.019533\n",
       "West            45.896857\n",
       "East            61.122676\n",
       "Temperature     62.028201\n",
       "Rainfall         1.000756\n",
       "dtype: float64"
      ]
     },
     "execution_count": 19,
     "metadata": {},
     "output_type": "execute_result"
    }
   ],
   "source": [
    "data.loc[data['Rainfall']<=2].mean()"
   ]
  },
  {
   "cell_type": "markdown",
   "metadata": {},
   "source": [
    "\n",
    "3) 위 데이터를 시각화하여 분석 결과를 그래프로 표현하세요.\n",
    "Temperature와 west 통행량의 관계를 나타내는 산점도.\n",
    "Rainfall과 east 통행량의 관계를 나타내는 선 그래프."
   ]
  },
  {
   "cell_type": "code",
   "execution_count": 20,
   "metadata": {},
   "outputs": [
    {
     "data": {
      "text/plain": [
       "<Axes: xlabel='Date'>"
      ]
     },
     "execution_count": 20,
     "metadata": {},
     "output_type": "execute_result"
    },
    {
     "data": {
      "image/png": "[encoded data removed]",
      "text/plain": [
       "<Figure size 640x480 with 1 Axes>"
      ]
     },
     "metadata": {},
     "output_type": "display_data"
    }
   ],
   "source": [
    "data.plot()"
   ]
  },
  {
   "cell_type": "code",
   "execution_count": 24,
   "metadata": {},
   "outputs": [],
   "source": [
    "%matplotlib inline\n",
    "import matplotlib.pyplot as plt\n",
    "import seaborn; seaborn.set()  "
   ]
  },
  {
   "cell_type": "code",
   "execution_count": 32,
   "metadata": {},
   "outputs": [
    {
     "data": {
      "text/plain": [
       "Text(0, 0.5, 'West Traffic Volume')"
      ]
     },
     "execution_count": 32,
     "metadata": {},
     "output_type": "execute_result"
    },
    {
     "data": {
      "image/png": "[encoded data removed]",
      "text/plain": [
       "<Figure size 640x480 with 1 Axes>"
      ]
     },
     "metadata": {},
     "output_type": "display_data"
    }
   ],
   "source": [
    "plt.scatter(data['Temperature'], data['West'], alpha=0.2, color='blue', label='Temperature vs West')\n",
    "plt.xlabel('Temperature (°F)')\n",
    "plt.ylabel('West Traffic Volume')\n"
   ]
  },
  {
   "cell_type": "code",
   "execution_count": 37,
   "metadata": {},
   "outputs": [
    {
     "data": {
      "text/plain": [
       "Text(0, 0.5, 'East Traffic Volume')"
      ]
     },
     "execution_count": 37,
     "metadata": {},
     "output_type": "execute_result"
    },
    {
     "data": {
      "image/png": "[encoded data removed]",
      "text/plain": [
       "<Figure size 640x480 with 1 Axes>"
      ]
     },
     "metadata": {},
     "output_type": "display_data"
    }
   ],
   "source": [
    "sorted_Data = data.sort_values(by='Rainfall')\n",
    "\n",
    "plt.plot(sorted_Data['Rainfall'], sorted_Data['East'], color='green', label='Rainfall vs East')\n",
    "plt.xlabel('Rainfall (mm)')\n",
    "plt.ylabel('East Traffic Volume')"
   ]
  }
 ],
 "metadata": {
  "kernelspec": {
   "display_name": "Python 3",
   "language": "python",
   "name": "python3"
  },
  "language_info": {
   "codemirror_mode": {
    "name": "ipython",
    "version": 3
   },
   "file_extension": ".py",
   "mimetype": "text/x-python",
   "name": "python",
   "nbconvert_exporter": "python",
   "pygments_lexer": "ipython3",
   "version": "3.12.6"
  }
 },
 "nbformat": 4,
 "nbformat_minor": 2
}
