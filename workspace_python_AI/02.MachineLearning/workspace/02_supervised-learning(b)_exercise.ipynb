{
 "cells": [
  {
   "cell_type": "markdown",
   "metadata": {
    "id": "PKXjV0eXpK18"
   },
   "source": [
    "# 결정트리\n"
   ]
  },
  {
   "cell_type": "markdown",
   "metadata": {},
   "source": [
    "## 공통"
   ]
  },
  {
   "cell_type": "code",
   "execution_count": 1,
   "metadata": {},
   "outputs": [],
   "source": [
    "%config InlineBackend.figure_format = \"retina\"\n",
    "%config InlineBackend.figure_formats = [\"pdf\", \"svg\"]"
   ]
  },
  {
   "cell_type": "code",
   "execution_count": 2,
   "metadata": {},
   "outputs": [],
   "source": [
    "from preamble import * "
   ]
  },
  {
   "cell_type": "markdown",
   "metadata": {},
   "source": [
    "## 연습문제 01"
   ]
  },
  {
   "cell_type": "markdown",
   "metadata": {},
   "source": [
    "### 연습문제01. load_iris 데이터를 로드하고, 데이터를 탐색하세요.\n",
    "- 데이터셋의 특성과 타깃(target)의 개수를 확인하세요.\n",
    "- 각 특성의 기초 통계 정보를 출력하세요."
   ]
  },
  {
   "cell_type": "code",
   "execution_count": 3,
   "metadata": {},
   "outputs": [
    {
     "name": "stdout",
     "output_type": "stream",
     "text": [
      "target 갯수 : (150,)\n"
     ]
    }
   ],
   "source": [
    "from sklearn.datasets import load_iris\n",
    "\n",
    "iris = load_iris()\n",
    "print(f\"target 갯수 : {iris.target.shape}\")"
   ]
  },
  {
   "cell_type": "markdown",
   "metadata": {},
   "source": [
    "### 연습문제01-2. 데이터를 학습 데이터와 테스트 데이터로 나누세요.\n",
    "- 학습 데이터와 테스트 데이터의 크기를 출력하세요.\n",
    "    - 데이터 분할은 train_test_split 함수를 사용하세요.\n",
    "    - 학습 데이터와 테스트 데이터의 비율은 80:20으로 설정하세요."
   ]
  },
  {
   "cell_type": "code",
   "execution_count": null,
   "metadata": {},
   "outputs": [],
   "source": []
  },
  {
   "cell_type": "markdown",
   "metadata": {},
   "source": [
    "### 연습문제01-3. DecisionTreeClassifier를 사용하여 모델을 생성하세요.\n",
    "- 학습 데이터를 사용하여 모델을 학습시키세요.\n",
    "- 학습 완료 후, 학습 데이터에 대한 정확도를 출력하세요"
   ]
  },
  {
   "cell_type": "code",
   "execution_count": null,
   "metadata": {},
   "outputs": [],
   "source": []
  },
  {
   "cell_type": "markdown",
   "metadata": {},
   "source": [
    "### 연습문제04. 학습된 모델을 사용하여 테스트 데이터를 예측하세요.\n",
    "- 테스트 데이터에 대한 정확도를 출력하세요.\n",
    "- classification_report를 사용하여 평가 결과를 상세히 출력하세요."
   ]
  },
  {
   "cell_type": "code",
   "execution_count": null,
   "metadata": {},
   "outputs": [],
   "source": []
  },
  {
   "cell_type": "markdown",
   "metadata": {},
   "source": [
    "### 연습문제05. 학습된 결정 트리를 시각화하세요.\n",
    "- plot_tree 함수를 사용하여 결정 트리의 구조를 그리세요.\n",
    "- 트리 시각화를 통해 어떤 특성이 중요한지 설명하세요."
   ]
  },
  {
   "cell_type": "code",
   "execution_count": null,
   "metadata": {},
   "outputs": [],
   "source": []
  }
 ],
 "metadata": {
  "colab": {
   "provenance": []
  },
  "environment": {
   "kernel": "python3",
   "name": "common-cpu.m102",
   "type": "gcloud",
   "uri": "gcr.io/deeplearning-platform-release/base-cpu:m102"
  },
  "kernelspec": {
   "display_name": "Python 3",
   "language": "python",
   "name": "python3"
  },
  "language_info": {
   "codemirror_mode": {
    "name": "ipython",
    "version": 3
   },
   "file_extension": ".py",
   "mimetype": "text/x-python",
   "name": "python",
   "nbconvert_exporter": "python",
   "pygments_lexer": "ipython3",
   "version": "3.12.6"
  },
  "latex_metadata": {
   "author": "Andreas C. M\\\"ller",
   "title": "Machine Learning with Python"
  }
 },
 "nbformat": 4,
 "nbformat_minor": 0
}
