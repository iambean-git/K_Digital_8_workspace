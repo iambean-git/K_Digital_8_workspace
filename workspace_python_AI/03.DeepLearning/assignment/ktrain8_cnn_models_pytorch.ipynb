{
  "cells": [
    {
      "cell_type": "markdown",
      "metadata": {
        "id": "vMrFQJ-PmeDg"
      },
      "source": [
        "# ImageNet Winners"
      ]
    },
    {
      "cell_type": "markdown",
      "metadata": {
        "id": "9B4X-0B8nb7a"
      },
      "source": [
        "https://www.kaggle.com/discussions/getting-started/149448"
      ]
    },
    {
      "cell_type": "markdown",
      "metadata": {
        "id": "hwMPiLRfYF3O"
      },
      "source": [
        "### Alexnet\n",
        "\n",
        "<img src=\"https://drive.google.com/uc?id=1lMNMahrKOsGmLu6V7Hctq5MbizfG1SCb\" width=800/>\n"
      ]
    },
    {
      "cell_type": "code",
      "execution_count": 94,
      "metadata": {},
      "outputs": [],
      "source": [
        "import torch"
      ]
    },
    {
      "cell_type": "code",
      "execution_count": 95,
      "metadata": {},
      "outputs": [],
      "source": [
        "device = torch.device(\"cuda:0\" if torch.cuda.is_available() else \"cpu\")"
      ]
    },
    {
      "cell_type": "markdown",
      "metadata": {
        "id": "cdstJ0oRIRw7"
      },
      "source": [
        "# torch.nn.Conv2d 및 nn.ReLU 와 nn.Dropout 레이어를 사용하여 다음 모델을 구현해 보세요.\n",
        "\n",
        "* input data: (32, 3, 224, 224)\n",
        "* kernel size 3x3\n",
        "* output data: (32, 48, 222, 222)"
      ]
    },
    {
      "cell_type": "code",
      "execution_count": 2,
      "metadata": {
        "id": "Y0a3I9KCIhhT"
      },
      "outputs": [],
      "source": [
        "import torch"
      ]
    },
    {
      "cell_type": "code",
      "execution_count": 3,
      "metadata": {
        "id": "1yMKBMaPQ8Pw"
      },
      "outputs": [],
      "source": [
        "import torch.nn as nn"
      ]
    },
    {
      "cell_type": "code",
      "execution_count": 4,
      "metadata": {
        "colab": {
          "base_uri": "https://localhost:8080/"
        },
        "id": "sTVLSnNLRBlJ",
        "outputId": "3461c659-5294-48fd-e1de-90d8f1d0fb02"
      },
      "outputs": [
        {
          "data": {
            "text/plain": [
              "torch.Size([32, 48, 222, 222])"
            ]
          },
          "execution_count": 4,
          "metadata": {},
          "output_type": "execute_result"
        }
      ],
      "source": [
        "input = torch.rand(32, 3, 224, 224)\n",
        "conv = nn.Conv2d(3, 48, 3)\n",
        "x = conv(input)\n",
        "x.shape"
      ]
    },
    {
      "cell_type": "code",
      "execution_count": 5,
      "metadata": {
        "colab": {
          "base_uri": "https://localhost:8080/"
        },
        "id": "kFTvdIjYRwyo",
        "outputId": "ff8123f4-3d51-4c9a-9399-23f51ff1e2ae"
      },
      "outputs": [
        {
          "data": {
            "text/plain": [
              "torch.Size([32, 48, 222, 222])"
            ]
          },
          "execution_count": 5,
          "metadata": {},
          "output_type": "execute_result"
        }
      ],
      "source": [
        "relu = nn.ReLU()\n",
        "x = relu(x)\n",
        "x.shape"
      ]
    },
    {
      "cell_type": "code",
      "execution_count": 6,
      "metadata": {
        "colab": {
          "base_uri": "https://localhost:8080/"
        },
        "id": "WE27x3vTSjKn",
        "outputId": "92dec247-bca7-4508-c50e-1564571ecb4f"
      },
      "outputs": [
        {
          "data": {
            "text/plain": [
              "torch.Size([32, 48, 222, 222])"
            ]
          },
          "execution_count": 6,
          "metadata": {},
          "output_type": "execute_result"
        }
      ],
      "source": [
        "dropout = nn.Dropout()\n",
        "dropout(x).shape"
      ]
    },
    {
      "cell_type": "markdown",
      "metadata": {
        "id": "N8ho1N4pYIml"
      },
      "source": [
        "### VGG16\n",
        "\n",
        "<img src=\"https://www.researchgate.net/profile/Max-Ferguson/publication/322512435/figure/fig3/AS:697390994567179@1543282378794/Fig-A1-The-standard-VGG-16-network-architecture-as-proposed-in-32-Note-that-only.png\" width=800 />\n",
        "\n",
        "* 작은(3x3) 합성 필터를 사용하여 매우 간단하고 균일하게 설계\n",
        "* 네트워크의 깊이를 늘리면 성능이 크게 향상됨\n",
        "* 사전 학습된 VGG 모델은 다른 작업을 위한 강력한 기능 추출기로 널리 사용됨\n",
        "\n",
        "* ref.: neurohive, VGG16 - Convolutional Network for Classification and Detection, 2018, https://neurohive.io/en/popular-networks/vgg16/\n",
        "* ref.: Simonyan, Karen, and Andrew Zisserman. 2015. \"Very Deep Convolutional Networks for Large-Scale Image Recognition.\" arXiv preprint arXiv:1409.1556.\n",
        "\n"
      ]
    },
    {
      "cell_type": "markdown",
      "metadata": {
        "id": "GmEDZfItzTLf"
      },
      "source": [
        "## 1. torch.rand 를 이용하여 (32, 1, 224, 224) 크기의 데이터를 생성해 input 변수에 저장하세요."
      ]
    },
    {
      "cell_type": "code",
      "execution_count": 1,
      "metadata": {},
      "outputs": [],
      "source": [
        "import torch\n"
      ]
    },
    {
      "cell_type": "code",
      "execution_count": 24,
      "metadata": {
        "colab": {
          "base_uri": "https://localhost:8080/"
        },
        "id": "5couCFCZyHJ_",
        "outputId": "22b4329f-7585-43cd-8508-d82c58dd1761"
      },
      "outputs": [
        {
          "data": {
            "text/plain": [
              "torch.Size([32, 1, 224, 224])"
            ]
          },
          "execution_count": 24,
          "metadata": {},
          "output_type": "execute_result"
        }
      ],
      "source": [
        "input = torch.rand(32, 1, 224, 224)\n",
        "input.shape"
      ]
    },
    {
      "cell_type": "markdown",
      "metadata": {
        "id": "b1Be1C7e1wLF"
      },
      "source": [
        "## 2. torch.nn.Conv2d 를 이용하여 (32, 8, 224, 224) 출력을 내는 CNN 레이어를 생성하여 cnn1 변수에 저장하세요. (hint: padding='same' 사용해 보기)"
      ]
    },
    {
      "cell_type": "code",
      "execution_count": 25,
      "metadata": {
        "id": "1w6zrnImzlQE"
      },
      "outputs": [],
      "source": [
        "from torch.nn import Conv2d"
      ]
    },
    {
      "cell_type": "code",
      "execution_count": 26,
      "metadata": {
        "id": "NWY0lkxt1PLG"
      },
      "outputs": [
        {
          "data": {
            "text/plain": [
              "torch.Size([32, 8, 224, 224])"
            ]
          },
          "execution_count": 26,
          "metadata": {},
          "output_type": "execute_result"
        }
      ],
      "source": [
        "cnn1 = Conv2d(1, 8, 5, padding='same')\n",
        "cnn1(input).shape"
      ]
    },
    {
      "cell_type": "markdown",
      "metadata": {
        "id": "XGJtuZKr28LA"
      },
      "source": [
        "## 3. input 데이터를 cnn1 레이어에 통과시킨 후, activation function(torch.nn.ReLU) 레이어를 생성하여 relu1 변수에 저장하고, x 를 여기에 적용한 결과를 다시 x 변수에 저장하세요."
      ]
    },
    {
      "cell_type": "code",
      "execution_count": 27,
      "metadata": {
        "id": "sFv0Utjw1ttD"
      },
      "outputs": [],
      "source": [
        "from torch.nn import ReLU"
      ]
    },
    {
      "cell_type": "code",
      "execution_count": 28,
      "metadata": {
        "colab": {
          "base_uri": "https://localhost:8080/"
        },
        "id": "NA4MxU2W2MpH",
        "outputId": "ef8387fa-505d-43cf-910c-58b95516dd23"
      },
      "outputs": [
        {
          "data": {
            "text/plain": [
              "torch.Size([32, 8, 224, 224])"
            ]
          },
          "execution_count": 28,
          "metadata": {},
          "output_type": "execute_result"
        }
      ],
      "source": [
        "relu = ReLU()\n",
        "x = relu(cnn1(input))\n",
        "x.shape"
      ]
    },
    {
      "cell_type": "markdown",
      "metadata": {
        "id": "NfMxMJdp3XYK"
      },
      "source": [
        "## 4. x 변수에 저장된 feature maps 데이터의 width, height 의 크기를 절반으로 만드는 torch.nn.MaxPool2D 를 생성하여 pool1 변수에 저장합니다. 다음으로 생성한 풀링 레이어에 x 변수를 통과시켜 그 결과를 다시 x 변수에 저장하세요. 단, x 변수의 입력 전과 입력 후의 shape 을 출력하여 크기가 절반으로 줄어 들었는지 확인해 봅니다."
      ]
    },
    {
      "cell_type": "code",
      "execution_count": 29,
      "metadata": {
        "id": "3zHFKZwW2P3C"
      },
      "outputs": [],
      "source": [
        "from torch.nn import MaxPool2d"
      ]
    },
    {
      "cell_type": "code",
      "execution_count": 30,
      "metadata": {
        "id": "6hFK-bHkIs9T"
      },
      "outputs": [
        {
          "name": "stdout",
          "output_type": "stream",
          "text": [
            "torch.Size([32, 8, 224, 224])\n",
            "torch.Size([32, 8, 112, 112])\n"
          ]
        }
      ],
      "source": [
        "print(x.shape)\n",
        "pool1 = MaxPool2d(kernel_size=2, stride=2)\n",
        "x = pool1(x)\n",
        "print(x.shape)"
      ]
    },
    {
      "cell_type": "markdown",
      "metadata": {
        "id": "4fWKNkFyr8dq"
      },
      "source": [
        "### Inception (2014)\n",
        "\n",
        "<!-- <img src=\"https://drive.usercontent.google.com/download?id=1fTiTKlfVvOpPLXfeJoA7sZ-1bm-X9TCT&authuser=0\" /> -->\n",
        "<img src=\"./images/figure3.png\" width=1000 />\n",
        "\n",
        "\n",
        "* Inception의 핵심 개념은 모듈에서 여러 계층을 결합하여 계산 리소스를 효율적으로 활용하는 방법\n",
        "* 이 아키텍처는 계산 비용을 크게 증가시키지 않고도 네트워크의 깊이와 너비(더 많은 계층과 계층당 더 많은 필터)를 모두 늘릴 수 있음\n",
        "    * 다양한 필터 크기(1x1, 3x3 및 5x5)의 convolutions 을 포함\n",
        "    * 이미지의 세부 사항 뿐만 아니라 전반적인 맥락을 학습하고 더 풍부한 표현을 만듬\n",
        "    * 1x1 컨볼루션을 사용하여 채널 수를 줄여 계산 오버헤드를 제한함\n",
        "    * AlexNet보다 10배 적은 매개변수를 사용 (61.1M -> 6.6M)\n",
        "\n",
        "* ref.: Szegedy, Christian, Wei Liu, Yangqing Jia, Pierre Sermanet, Scott Reed, Dragomir Anguelov, Dumitru Erhan, Vincent Vanhoucke, and Andrew Rabinovich. 2014. \"Going Deeper with Convolutions.\" arXiv preprint arXiv:1409.4842.\n",
        "\n",
        "<!-- <img src=\"https://drive.google.com/uc?id=1G5GuROyqTVIKi3uo1B4b_1hdDG8A-t4z\" width=800/> -->\n",
        "<img src=\"./images/figure2.png\" width=800 />\n",
        "\n",
        "\n"
      ]
    },
    {
      "cell_type": "markdown",
      "metadata": {
        "id": "KoSdpGv1VTE2"
      },
      "source": [
        "## 1. Inception Module with demension reductions 버전을 구현하여 inception 변수에 저장하세요. 이때 마지막 출력 전에 각 레이어의 출력을 모으기 위해 torch.cat([x1, x2, x3, x4], dim=1) 코드를 사용해 보세요. 다음으로 (1, 192, 224, 224) 입력 데이터를 torch.rand 로 생성 후, inception 모듈의 입력으로 전달합니다. 마지막으로 출력이 (1, 256, 224, 224)  가 나오는지 확인하세요."
      ]
    },
    {
      "cell_type": "markdown",
      "metadata": {},
      "source": [
        "관련내용 교재 311p 참조"
      ]
    },
    {
      "cell_type": "markdown",
      "metadata": {},
      "source": [
        "32채널, 128채널, 64채널, 32채널"
      ]
    },
    {
      "cell_type": "code",
      "execution_count": 62,
      "metadata": {
        "id": "4OhvAs7l912M"
      },
      "outputs": [],
      "source": [
        "x = torch.rand(1, 192, 224, 224)"
      ]
    },
    {
      "cell_type": "code",
      "execution_count": 63,
      "metadata": {},
      "outputs": [
        {
          "data": {
            "text/plain": [
              "torch.Size([1, 32, 224, 224])"
            ]
          },
          "execution_count": 63,
          "metadata": {},
          "output_type": "execute_result"
        }
      ],
      "source": [
        "conv1 = nn.Conv2d(192, 32, 1)\n",
        "x1 = conv1(x)\n",
        "x1.shape"
      ]
    },
    {
      "cell_type": "code",
      "execution_count": 65,
      "metadata": {},
      "outputs": [
        {
          "data": {
            "text/plain": [
              "torch.Size([1, 128, 224, 224])"
            ]
          },
          "execution_count": 65,
          "metadata": {},
          "output_type": "execute_result"
        }
      ],
      "source": [
        "conv2 = nn.Conv2d(192, 128, 1)\n",
        "conv3 = nn.Conv2d(128, 128, 3, padding='same')\n",
        "\n",
        "x2 = conv3(conv2(x))\n",
        "x2.shape"
      ]
    },
    {
      "cell_type": "code",
      "execution_count": 66,
      "metadata": {},
      "outputs": [
        {
          "data": {
            "text/plain": [
              "torch.Size([1, 64, 224, 224])"
            ]
          },
          "execution_count": 66,
          "metadata": {},
          "output_type": "execute_result"
        }
      ],
      "source": [
        "conv4 = nn.Conv2d(192, 64, 1)\n",
        "conv5 = nn.Conv2d(64, 64, 5, padding='same')\n",
        "\n",
        "x3 = conv5(conv4(x))\n",
        "x3.shape"
      ]
    },
    {
      "cell_type": "code",
      "execution_count": 68,
      "metadata": {},
      "outputs": [
        {
          "data": {
            "text/plain": [
              "torch.Size([1, 32, 224, 224])"
            ]
          },
          "execution_count": 68,
          "metadata": {},
          "output_type": "execute_result"
        }
      ],
      "source": [
        "maxpool3 = nn.MaxPool2d(kernel_size=3, stride=1, padding=1)\n",
        "conv_m = nn.Conv2d(192,32,1)\n",
        "x4 = conv_m(maxpool3(x))\n",
        "x4.shape"
      ]
    },
    {
      "cell_type": "code",
      "execution_count": 71,
      "metadata": {},
      "outputs": [
        {
          "data": {
            "text/plain": [
              "(torch.Size([1, 32, 224, 224]),\n",
              " torch.Size([1, 128, 224, 224]),\n",
              " torch.Size([1, 64, 224, 224]),\n",
              " torch.Size([1, 32, 224, 224]))"
            ]
          },
          "execution_count": 71,
          "metadata": {},
          "output_type": "execute_result"
        }
      ],
      "source": [
        "x1.shape, x2.shape, x3.shape, x4.shape"
      ]
    },
    {
      "cell_type": "code",
      "execution_count": 70,
      "metadata": {},
      "outputs": [
        {
          "data": {
            "text/plain": [
              "torch.Size([1, 256, 224, 224])"
            ]
          },
          "execution_count": 70,
          "metadata": {},
          "output_type": "execute_result"
        }
      ],
      "source": [
        "torch.cat([x1,x2,x3,x4], dim=1).shape"
      ]
    },
    {
      "cell_type": "markdown",
      "metadata": {
        "id": "dUnFu-2vYWa2"
      },
      "source": [
        "### Resnet (2015)\n",
        "\n",
        "<img src=\"https://huggingface.co/datasets/huggingface/documentation-images/resolve/main/resnet_architecture.png\" width=800 />\n",
        "\n",
        "* 심층 신경망은 레이어 수가 증가함에 따라 학습이 더 어려워지며, 깊이가 추가됨에 따라 정확도가 포화 상태(accuracy saturates)가 된 후 감소하는 Degradation Problem 가 발생 (vanishing/exploding gradients)\n",
        "*  새로운 잔차 학습 프레임워크 (residual learning framework) 를 제시하여 이 문제를 효과적으로 해결하여 훨씬 더 깊은 네트워크를 학습할 수 있도록 함\n",
        "  * 레이어가 원하는 전체 매핑(full mappings)을 직접 학습하는 대신 잔차 매핑 (residual mappings)을 학습하도록 하는 것 F(x) + x = H(x)\n",
        "  * 잔차 매핑은 지름길 연결 (shortcut connections)로 실현\n",
        "* 최대 152개의 레이어를 가진 ResNet 아키텍처를 성공적으로 학습하고 좋은 성능을 보임\n",
        "* COCO 데이터셋에 대한 object detection 에서 향상된 성능을 보임 (28% relative improvement)\n",
        "* 110 레이어 버전의 ResNet이 CIFAR-10에서 성공적으로 훈련되고 다른 모델의 성능을 능가하여 작은 데이터 세트 설정에서도 깊이를 늘리는 데 도움이 될 수 있음을 보임\n",
        "\n",
        "* ref: He, Kaiming, Xiangyu Zhang, Shaoqing Ren, and Jian Sun. 2016. \"Deep Residual Learning for Image Recognition.\" In Proceedings of the IEEE conference on computer vision and pattern recognition, 770-778."
      ]
    },
    {
      "cell_type": "markdown",
      "metadata": {
        "id": "Ze0Bcg0aWvac"
      },
      "source": [
        "#### Bottleneck Building Block\n",
        "\n",
        "<!-- <img src=\"https://drive.google.com/uc?id=1TnHn_kej-fER8nNxwyx6ck3--CxwCpKX\" width=800/> -->\n",
        "<img src=\"./images/figure5.png\" width=800/>"
      ]
    },
    {
      "cell_type": "markdown",
      "metadata": {
        "id": "BOS1GYbvX73L"
      },
      "source": [
        "## 1. 그림 5의 오른쪽 residual 모듈을 구현하여 residual 변수에 저장해 보세요. 지름길 경로는 shorcut 변수에 저장해 보세요. 내부의 output channels 은 64 를 사용해 보세요. 다음으로 입력 데이터 x 를 (1, 64, 224, 224) residual 모듈의 입력으로 받아 출력 데이터를 (32, 256, 224, 224) 생성해 보세요.\n"
      ]
    },
    {
      "cell_type": "code",
      "execution_count": 104,
      "metadata": {
        "id": "vvMe-aRgWCCW"
      },
      "outputs": [],
      "source": [
        "import torch\n",
        "from torch.nn import Conv2d, ReLU, Sequential"
      ]
    },
    {
      "cell_type": "code",
      "execution_count": 106,
      "metadata": {},
      "outputs": [],
      "source": [
        "residual = Sequential(\n",
        "    Conv2d(256, 64, 1),\n",
        "    ReLU(),\n",
        "    Conv2d(64, 64, 3, padding='same'),\n",
        "    ReLU(),\n",
        "    Conv2d(64, 256, 1)\n",
        ")"
      ]
    },
    {
      "cell_type": "code",
      "execution_count": 107,
      "metadata": {
        "id": "g9GIXoklXuOe"
      },
      "outputs": [],
      "source": [
        "shortcut = Conv2d(256, 256, 1)"
      ]
    },
    {
      "cell_type": "code",
      "execution_count": 108,
      "metadata": {},
      "outputs": [
        {
          "data": {
            "text/plain": [
              "(torch.Size([32, 256, 224, 224]), torch.Size([32, 256, 224, 224]))"
            ]
          },
          "execution_count": 108,
          "metadata": {},
          "output_type": "execute_result"
        }
      ],
      "source": [
        "x = torch.rand(32, 256, 224, 224)\n",
        "residual(x).shape, shortcut(x).shape"
      ]
    },
    {
      "cell_type": "code",
      "execution_count": 109,
      "metadata": {},
      "outputs": [
        {
          "data": {
            "text/plain": [
              "torch.Size([32, 256, 224, 224])"
            ]
          },
          "execution_count": 109,
          "metadata": {},
          "output_type": "execute_result"
        }
      ],
      "source": [
        "x = residual(x) + shortcut(x)\n",
        "x.shape"
      ]
    },
    {
      "cell_type": "code",
      "execution_count": 110,
      "metadata": {},
      "outputs": [
        {
          "data": {
            "text/plain": [
              "torch.Size([32, 256, 224, 224])"
            ]
          },
          "execution_count": 110,
          "metadata": {},
          "output_type": "execute_result"
        }
      ],
      "source": [
        "relu = ReLU()\n",
        "x = relu(x)\n",
        "x.shape"
      ]
    }
  ],
  "metadata": {
    "colab": {
      "provenance": []
    },
    "kernelspec": {
      "display_name": "torch_book",
      "language": "python",
      "name": "python3"
    },
    "language_info": {
      "codemirror_mode": {
        "name": "ipython",
        "version": 3
      },
      "file_extension": ".py",
      "mimetype": "text/x-python",
      "name": "python",
      "nbconvert_exporter": "python",
      "pygments_lexer": "ipython3",
      "version": "3.11.7"
    }
  },
  "nbformat": 4,
  "nbformat_minor": 0
}
