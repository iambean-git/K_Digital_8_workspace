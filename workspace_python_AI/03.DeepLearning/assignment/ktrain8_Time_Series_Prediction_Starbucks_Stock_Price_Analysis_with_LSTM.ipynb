{
  "cells": [
    {
      "cell_type": "markdown",
      "metadata": {
        "id": "G3KD7xHe2vNc"
      },
      "source": [
        "# 0. 자신이 사용하는 torch 버전과 GPU 사용 가능 여부를 확인하세요."
      ]
    },
    {
      "cell_type": "code",
      "execution_count": 2,
      "metadata": {
        "colab": {
          "base_uri": "https://localhost:8080/"
        },
        "id": "-Xgl77Km2t0F",
        "outputId": "5d569ce3-6533-4fd5-de43-ff726503e4f2"
      },
      "outputs": [
        {
          "data": {
            "text/plain": [
              "'2.2.2'"
            ]
          },
          "execution_count": 2,
          "metadata": {},
          "output_type": "execute_result"
        }
      ],
      "source": [
        "import torch\n",
        "torch.__version__"
      ]
    },
    {
      "cell_type": "code",
      "execution_count": 176,
      "metadata": {
        "colab": {
          "base_uri": "https://localhost:8080/"
        },
        "id": "relTZHRB22m8",
        "outputId": "d781e123-964c-499e-c39c-48446b6b4265"
      },
      "outputs": [
        {
          "data": {
            "text/plain": [
              "True"
            ]
          },
          "execution_count": 176,
          "metadata": {},
          "output_type": "execute_result"
        }
      ],
      "source": [
        "torch.cuda.is_available()"
      ]
    },
    {
      "cell_type": "code",
      "execution_count": 3,
      "metadata": {},
      "outputs": [],
      "source": [
        "device = torch.device(\"cuda:0\" if torch.cuda.is_available() else \"cpu\")"
      ]
    },
    {
      "cell_type": "markdown",
      "metadata": {
        "id": "k5W6bnNp2MoG"
      },
      "source": [
        "# 1. input_size 가 1이고, hidden_size 10인 RNN 객체를 생성하시오. (1, 1, 1) 데이터를 torch.rand 로 생성 후, RNN 객체에 전달하여 출력값을 확인하시오. (데이터 값, shape)\n",
        "\n",
        "* RNN 객체 생성 시 batch 데이터의 위치를 고려하시오.\n",
        "* RNN 객체의 반환값 형태에 주의하시오. (공식 문서 참고)"
      ]
    },
    {
      "cell_type": "code",
      "execution_count": 178,
      "metadata": {},
      "outputs": [],
      "source": [
        "import torch.nn as nn"
      ]
    },
    {
      "cell_type": "code",
      "execution_count": 179,
      "metadata": {},
      "outputs": [],
      "source": [
        "rnn = nn.RNN(input_size=1, hidden_size=10, batch_first=True)"
      ]
    },
    {
      "cell_type": "code",
      "execution_count": 180,
      "metadata": {},
      "outputs": [],
      "source": [
        "input = torch.rand(1,1,1)\n"
      ]
    },
    {
      "cell_type": "code",
      "execution_count": 181,
      "metadata": {
        "colab": {
          "base_uri": "https://localhost:8080/"
        },
        "id": "U8QwqpEW1MJJ",
        "outputId": "be6aee8f-19e2-48ed-91da-1e15d5220360"
      },
      "outputs": [
        {
          "data": {
            "text/plain": [
              "(tensor([[[ 0.0558, -0.2637, -0.3996, -0.1998, -0.3193,  0.4653,  0.1288,\n",
              "            0.2217, -0.2201,  0.4212]]], grad_fn=<TransposeBackward1>),\n",
              " tensor([[[ 0.0558, -0.2637, -0.3996, -0.1998, -0.3193,  0.4653,  0.1288,\n",
              "            0.2217, -0.2201,  0.4212]]], grad_fn=<StackBackward0>))"
            ]
          },
          "execution_count": 181,
          "metadata": {},
          "output_type": "execute_result"
        }
      ],
      "source": [
        "y, h = rnn(input)\n",
        "y, h"
      ]
    },
    {
      "cell_type": "code",
      "execution_count": 182,
      "metadata": {},
      "outputs": [
        {
          "data": {
            "text/plain": [
              "(torch.Size([1, 1, 10]), torch.Size([1, 1, 10]))"
            ]
          },
          "execution_count": 182,
          "metadata": {},
          "output_type": "execute_result"
        }
      ],
      "source": [
        "y.shape, h.shape "
      ]
    },
    {
      "cell_type": "markdown",
      "metadata": {
        "id": "phA0iH892-08"
      },
      "source": [
        "# 2. input_size 가 2이고, hidden_size 5인 RNN 객체를 생성하시오. (1, 1, 2) 데이터를 torch.rand 로 생성 후, RNN 객체에 전달하여 출력값을 확인하시오. (데이터 값, shape)"
      ]
    },
    {
      "cell_type": "code",
      "execution_count": 183,
      "metadata": {
        "colab": {
          "base_uri": "https://localhost:8080/"
        },
        "id": "J1gVN6B_3FVn",
        "outputId": "b0ff6e10-a3c7-480b-8417-b966d83933fc"
      },
      "outputs": [
        {
          "data": {
            "text/plain": [
              "(torch.Size([1, 1, 5]), torch.Size([1, 1, 5]))"
            ]
          },
          "execution_count": 183,
          "metadata": {},
          "output_type": "execute_result"
        }
      ],
      "source": [
        "rnn2 = nn.RNN(input_size=2, hidden_size=5, batch_first=True)\n",
        "input2 = torch.rand(1,1,2)\n",
        "y2, h2 = rnn2(input2)\n",
        "y2.shape, h2.shape"
      ]
    },
    {
      "cell_type": "code",
      "execution_count": 184,
      "metadata": {
        "colab": {
          "base_uri": "https://localhost:8080/"
        },
        "id": "wdbFkU5C3G6y",
        "outputId": "d82c8f1b-05b1-422f-98be-819b0c2ee21f"
      },
      "outputs": [
        {
          "data": {
            "text/plain": [
              "(tensor([[[-0.4009,  0.4971, -0.4532,  0.5516, -0.1204]]],\n",
              "        grad_fn=<TransposeBackward1>),\n",
              " tensor([[[-0.4009,  0.4971, -0.4532,  0.5516, -0.1204]]],\n",
              "        grad_fn=<StackBackward0>))"
            ]
          },
          "execution_count": 184,
          "metadata": {},
          "output_type": "execute_result"
        }
      ],
      "source": [
        "y2, h2"
      ]
    },
    {
      "cell_type": "markdown",
      "metadata": {
        "id": "6o2cWJCV3MJA"
      },
      "source": [
        "# 3. input_size 가 1이고, hidden_size 10인 LSTM 객체를 생성하시오. (1, 1, 1) 데이터를 torch.rand 로 생성 후, LSTM 객체에 전달하여 출력값을 확인하시오. (데이터 값, shape)\n",
        "\n",
        "* LSTM 객체 생성 시 batch 데이터의 위치를 고려하시오.\n",
        "* LSTM 객체의 반환값 형태에 주의하시오. (공식 문서 참고)"
      ]
    },
    {
      "cell_type": "code",
      "execution_count": 185,
      "metadata": {
        "colab": {
          "base_uri": "https://localhost:8080/"
        },
        "id": "Evt9Y21z3Uh2",
        "outputId": "fe7754a7-43d2-4dd2-ea28-cb1ee1faa8b7"
      },
      "outputs": [
        {
          "data": {
            "text/plain": [
              "(torch.Size([1, 1, 10]), torch.Size([1, 1, 10]), torch.Size([1, 1, 10]))"
            ]
          },
          "execution_count": 185,
          "metadata": {},
          "output_type": "execute_result"
        }
      ],
      "source": [
        "lstm3 = nn.LSTM(input_size=1, hidden_size=10, batch_first=True)\n",
        "input3 = torch.rand(1,1,1)\n",
        "y3, (h3, c3) = lstm3(input3)\n",
        "y3.shape, h3.shape, c3.shape"
      ]
    },
    {
      "cell_type": "code",
      "execution_count": 186,
      "metadata": {
        "colab": {
          "base_uri": "https://localhost:8080/"
        },
        "id": "ILCL-zca3V4N",
        "outputId": "3bb2681b-43f4-4a30-854b-208f238bf360"
      },
      "outputs": [
        {
          "data": {
            "text/plain": [
              "(tensor([[[ 0.0046,  0.0263,  0.0157, -0.0643,  0.0477, -0.0476, -0.0167,\n",
              "           -0.0536, -0.0607,  0.0198]]], grad_fn=<TransposeBackward0>),\n",
              " tensor([[[ 0.0046,  0.0263,  0.0157, -0.0643,  0.0477, -0.0476, -0.0167,\n",
              "           -0.0536, -0.0607,  0.0198]]], grad_fn=<StackBackward0>),\n",
              " tensor([[[ 0.0110,  0.0458,  0.0359, -0.1053,  0.0942, -0.0827, -0.0353,\n",
              "           -0.1417, -0.1093,  0.0416]]], grad_fn=<StackBackward0>))"
            ]
          },
          "execution_count": 186,
          "metadata": {},
          "output_type": "execute_result"
        }
      ],
      "source": [
        "y3, h3, c3"
      ]
    },
    {
      "cell_type": "markdown",
      "metadata": {
        "id": "vqHj1xY73iLM"
      },
      "source": [
        "# 4. input_size 가 2이고, hidden_size 5인 LSTM 객체를 생성하시오. (1, 1, 2) 데이터를 torch.rand 로 생성 후, LSTM 객체에 전달하여 출력값을 확인하시오. (데이터 값, shape)"
      ]
    },
    {
      "cell_type": "code",
      "execution_count": 187,
      "metadata": {
        "colab": {
          "base_uri": "https://localhost:8080/"
        },
        "id": "TsYFH4D33Zj-",
        "outputId": "df36c195-03f3-450a-84d0-04e2f0796aba"
      },
      "outputs": [
        {
          "data": {
            "text/plain": [
              "(torch.Size([1, 1, 5]), torch.Size([1, 1, 5]), torch.Size([1, 1, 5]))"
            ]
          },
          "execution_count": 187,
          "metadata": {},
          "output_type": "execute_result"
        }
      ],
      "source": [
        "lstm4 = nn.LSTM(input_size=2, hidden_size=5, batch_first=True)\n",
        "input4 = torch.rand(1,1,2)\n",
        "out = lstm4(input4)\n",
        "y4, (h4, c4)= lstm4(input4)\n",
        "y4.shape, h4.shape, c4.shape"
      ]
    },
    {
      "cell_type": "code",
      "execution_count": 188,
      "metadata": {
        "colab": {
          "base_uri": "https://localhost:8080/"
        },
        "id": "-JfOzctd30Ga",
        "outputId": "fb722173-ab79-4a1e-d8de-ffbf7cb355a2"
      },
      "outputs": [
        {
          "data": {
            "text/plain": [
              "(tensor([[[-0.1153,  0.1171,  0.0778,  0.1202,  0.0508]]],\n",
              "        grad_fn=<TransposeBackward0>),\n",
              " tensor([[[-0.1153,  0.1171,  0.0778,  0.1202,  0.0508]]],\n",
              "        grad_fn=<StackBackward0>),\n",
              " tensor([[[-0.2303,  0.3171,  0.1948,  0.2137,  0.1344]]],\n",
              "        grad_fn=<StackBackward0>))"
            ]
          },
          "execution_count": 188,
          "metadata": {},
          "output_type": "execute_result"
        }
      ],
      "source": [
        "y4, h4, c4"
      ]
    },
    {
      "cell_type": "markdown",
      "metadata": {
        "id": "l-rxn_C933q8"
      },
      "source": [
        "# 5. input_size 가 1 이고 seq_len 이 30 인 입력 데이터를 torch.rand 로 생성하시오. 3번에서 생성한 LSTM 객체를 이용하여 LSTM 객체에 전달하여 출력값을 확인하시오 (shape)"
      ]
    },
    {
      "cell_type": "code",
      "execution_count": 189,
      "metadata": {
        "colab": {
          "base_uri": "https://localhost:8080/"
        },
        "id": "Vcfo8lBo31dh",
        "outputId": "1ceb73ae-1592-468a-ad75-0dcf462b0171"
      },
      "outputs": [
        {
          "data": {
            "text/plain": [
              "(torch.Size([1, 30, 10]), torch.Size([1, 1, 10]), torch.Size([1, 1, 10]))"
            ]
          },
          "execution_count": 189,
          "metadata": {},
          "output_type": "execute_result"
        }
      ],
      "source": [
        "input5 = torch.rand(1, 30, 1)\n",
        "y5, (h5, c5) = lstm3(input5)\n",
        "y5.shape, h5.shape, c5.shape"
      ]
    },
    {
      "cell_type": "markdown",
      "metadata": {
        "id": "pUbbZ93i4lwM"
      },
      "source": [
        "# 6. input_size 가 2 이고 seq_len 이 60 인 입력 데이터를 torch.rand 로 생성하시오. 4번에서 생성한 LSTM 객체를 이용하여 LSTM 객체에 전달하여 출력값을 확인하시오 (shape)"
      ]
    },
    {
      "cell_type": "code",
      "execution_count": 190,
      "metadata": {
        "colab": {
          "base_uri": "https://localhost:8080/"
        },
        "id": "344ZjsEJ4jlV",
        "outputId": "07bdbfcd-9d9c-4368-bfa3-f03b059fabf0"
      },
      "outputs": [
        {
          "data": {
            "text/plain": [
              "(torch.Size([1, 60, 5]), torch.Size([1, 1, 5]), torch.Size([1, 1, 5]))"
            ]
          },
          "execution_count": 190,
          "metadata": {},
          "output_type": "execute_result"
        }
      ],
      "source": [
        "input6 = torch.rand(1, 60, 2)\n",
        "y6, (h6, c6) = lstm4(input6)\n",
        "y6.shape, h6.shape, c6.shape"
      ]
    },
    {
      "cell_type": "markdown",
      "metadata": {
        "id": "7_hSd57h45o_"
      },
      "source": [
        "# 7. 순환신경망에서 many-to-one 모델은 여러 개의 입력을 받아 하나의 값을 출력하는 구조이다.\n",
        "\n",
        "* 예를 들어, 스타벅스 주가를 예측하려고 할 때, **과거 30일의 주가 데이터**를 이용하여 **내일의 주가**를 예측하는 경우이다.\n",
        "\n",
        "* 예를 참고하여 이에 알맞은 입력 데이터와 LSTM 모델을 생성하고 출력값의 shape 을 확인하세요. (단, batch_size=32, hidden_size=10 이다.)"
      ]
    },
    {
      "cell_type": "code",
      "execution_count": 191,
      "metadata": {},
      "outputs": [
        {
          "data": {
            "text/plain": [
              "(torch.Size([32, 30, 10]), torch.Size([1, 32, 10]), torch.Size([1, 32, 10]))"
            ]
          },
          "execution_count": 191,
          "metadata": {},
          "output_type": "execute_result"
        }
      ],
      "source": [
        "data = torch.rand(32, 30, 1)\n",
        "lstm = nn.LSTM(1, 10, batch_first=True)\n",
        "y, (h, c) = lstm(data)\n",
        "y.shape, h.shape, c.shape"
      ]
    },
    {
      "cell_type": "markdown",
      "metadata": {
        "id": "uTlLyM3172kz"
      },
      "source": [
        "# 8. 순환신경망에서 many-to-one 모델은 여러 개의 입력을 받아 하나의 값을 출력하는 구조이다.\n",
        "\n",
        "* 예를 들어, 스타벅스 주가를 예측하려고 할 때, **과거 30일의 주가와 거래량 데이터**를 이용하여 **내일의 주가**를 예측하는 경우이다.\n",
        "\n",
        "* 예를 참고하여 이에 알맞은 입력 데이터와 LSTM 모델을 생성하고 출력값의 shape 을 확인하세요. (단, batch_size=32, hidden_size=10 이다.)"
      ]
    },
    {
      "cell_type": "code",
      "execution_count": 192,
      "metadata": {
        "colab": {
          "base_uri": "https://localhost:8080/"
        },
        "id": "1AOz5_Ge6Ldz",
        "outputId": "cdf01344-9644-4c42-a738-9e86488fbaf6"
      },
      "outputs": [
        {
          "data": {
            "text/plain": [
              "(torch.Size([32, 30, 10]), torch.Size([1, 32, 10]), torch.Size([1, 32, 10]))"
            ]
          },
          "execution_count": 192,
          "metadata": {},
          "output_type": "execute_result"
        }
      ],
      "source": [
        "data = torch.rand(32, 30, 2)\n",
        "lstm = nn.LSTM(2, 10, batch_first=True)\n",
        "y, (h, c) = lstm(data)\n",
        "y.shape, h.shape, c.shape"
      ]
    },
    {
      "cell_type": "markdown",
      "metadata": {
        "id": "KE7SMjEP8UUi"
      },
      "source": [
        "# 9. 8번의 출력에서 가장 마지막 출력값을 내일의 스타벅스 주가로 정했다. 해당 값을 출력하시오. (slicing 이용)"
      ]
    },
    {
      "cell_type": "code",
      "execution_count": 193,
      "metadata": {
        "colab": {
          "base_uri": "https://localhost:8080/"
        },
        "id": "aZKRZB4E8P-y",
        "outputId": "7f5eceef-1d42-4efb-fd06-c6178da5469c"
      },
      "outputs": [
        {
          "data": {
            "text/plain": [
              "torch.Size([30, 10])"
            ]
          },
          "execution_count": 193,
          "metadata": {},
          "output_type": "execute_result"
        }
      ],
      "source": [
        "y[-1].shape"
      ]
    },
    {
      "cell_type": "code",
      "execution_count": 194,
      "metadata": {},
      "outputs": [
        {
          "data": {
            "text/plain": [
              "torch.Size([32, 10])"
            ]
          },
          "execution_count": 194,
          "metadata": {},
          "output_type": "execute_result"
        }
      ],
      "source": [
        "y[:,-1,:].shape"
      ]
    },
    {
      "cell_type": "markdown",
      "metadata": {
        "id": "1y54DIPz8rMm"
      },
      "source": [
        "# 10. 9번의 마지막 출력값의 모양이 1이 아니라 10이다. 이를 위해, Linear 레이어를 추가하여 마지막 출력이 (32, 1) 가 되도록 코드를 작성하시오.\n",
        "\n",
        "* 입력데이터 > LSTM > Linear > 출력데이터 순서로 코드를 작성하시오."
      ]
    },
    {
      "cell_type": "code",
      "execution_count": 195,
      "metadata": {
        "colab": {
          "base_uri": "https://localhost:8080/"
        },
        "id": "Gc3cWwgl8nEh",
        "outputId": "19afc49a-94de-4333-f9a4-4ba79c7b617d"
      },
      "outputs": [
        {
          "data": {
            "text/plain": [
              "torch.Size([32, 1])"
            ]
          },
          "execution_count": 195,
          "metadata": {},
          "output_type": "execute_result"
        }
      ],
      "source": [
        "data = torch.rand(32, 30, 1)\n",
        "lstm = nn.LSTM(1, 10, batch_first=True)\n",
        "y, (h, c) = lstm(data)\n",
        "ln = nn.Linear(10, 1)\n",
        "ln(y[:,-1,:]).shape\n"
      ]
    },
    {
      "cell_type": "markdown",
      "metadata": {
        "id": "KLfUO0M49_gC"
      },
      "source": [
        "# 11. 10번에서 LSTM 객체와 Linear 객체를 nn.Sequential 로 하나로 묶어 model 변수에 저장해 보세요. 그런 다음 입력 데이터를 전달하여 출력을 확인해 보세요. 에러가 발생하면 가능한 방법을 고민하여 구현해 보세요. (hint: nn.Module)"
      ]
    },
    {
      "cell_type": "code",
      "execution_count": 196,
      "metadata": {
        "id": "gyUToyR79bi8"
      },
      "outputs": [],
      "source": [
        "model = nn.Sequential(\n",
        "    nn.LSTM(2, 10, batch_first=True),\n",
        "    nn.Linear(10,1)\n",
        ")"
      ]
    },
    {
      "cell_type": "code",
      "execution_count": null,
      "metadata": {},
      "outputs": [],
      "source": [
        "data = torch.rand(32, 30, 2)\n",
        "model(data)"
      ]
    },
    {
      "cell_type": "markdown",
      "metadata": {},
      "source": [
        "위의 방법은 에러가 남 아래를 보자"
      ]
    },
    {
      "cell_type": "code",
      "execution_count": 153,
      "metadata": {},
      "outputs": [],
      "source": [
        "lstm = nn.LSTM(2, 10, batch_first=True)\n",
        "linear = nn.Linear(10,1)"
      ]
    },
    {
      "cell_type": "code",
      "execution_count": 171,
      "metadata": {},
      "outputs": [],
      "source": [
        "class StockPrediction(nn.Module):\n",
        "    def __init__(self, input_size=1, hidden_size=10, output_size=1) :\n",
        "        super().__init__()\n",
        "        self.input_size = input_size\n",
        "        self.hidden_size = hidden_size\n",
        "        self.output_size = output_size\n",
        "        self.lstm = nn.LSTM(input_size, hidden_size, batch_first=True)\n",
        "        self.linear = nn.Linear(hidden_size, output_size)\n",
        "        \n",
        "    \n",
        "    def forward(self, input) :\n",
        "        y, (h, c) = self.lstm(input)\n",
        "        output = self.linear(y[:,-1,:])\n",
        "        return output"
      ]
    },
    {
      "cell_type": "code",
      "execution_count": 172,
      "metadata": {},
      "outputs": [
        {
          "data": {
            "text/plain": [
              "torch.Size([32, 1])"
            ]
          },
          "execution_count": 172,
          "metadata": {},
          "output_type": "execute_result"
        }
      ],
      "source": [
        "model = StockPrediction()\n",
        "data = torch.rand(32, 30, 1)\n",
        "model(data).shape"
      ]
    },
    {
      "cell_type": "markdown",
      "metadata": {
        "id": "w-84SIT0-02o"
      },
      "source": [
        "# 12. yfinance 라이브러리를 이용하여 스타벅스(ticker=SUBX) 주가를 다운로드 합니다. 다음으로 Close 데이터만 data 변수에 저장한 후, type 과 shape 을 확인해 봅니다.\n",
        "\n",
        "* yfinance 데이터는 column 인덱스가 MultiIndex 입니다.\n",
        "\n",
        "```\n",
        "pip install yfinance\n",
        "```\n",
        "\n"
      ]
    },
    {
      "cell_type": "code",
      "execution_count": null,
      "metadata": {},
      "outputs": [],
      "source": [
        "%pip install yfinance"
      ]
    },
    {
      "cell_type": "code",
      "execution_count": 5,
      "metadata": {
        "colab": {
          "base_uri": "https://localhost:8080/"
        },
        "id": "-gO1qQfo-rX0",
        "outputId": "b61aa8ff-ed4d-4648-fad0-bda370ae41ff"
      },
      "outputs": [
        {
          "name": "stderr",
          "output_type": "stream",
          "text": [
            "[*********************100%***********************]  1 of 1 completed\n"
          ]
        }
      ],
      "source": [
        "import yfinance as yf\n",
        "\n",
        "ticker_symbol = \"SBUX\"\n",
        "df = yf.download(ticker_symbol, start=\"2010-01-01\", end=\"2023-12-31\")"
      ]
    },
    {
      "cell_type": "code",
      "execution_count": 52,
      "metadata": {},
      "outputs": [
        {
          "data": {
            "text/html": [
              "<div>\n",
              "<style scoped>\n",
              "    .dataframe tbody tr th:only-of-type {\n",
              "        vertical-align: middle;\n",
              "    }\n",
              "\n",
              "    .dataframe tbody tr th {\n",
              "        vertical-align: top;\n",
              "    }\n",
              "\n",
              "    .dataframe thead tr th {\n",
              "        text-align: left;\n",
              "    }\n",
              "\n",
              "    .dataframe thead tr:last-of-type th {\n",
              "        text-align: right;\n",
              "    }\n",
              "</style>\n",
              "<table border=\"1\" class=\"dataframe\">\n",
              "  <thead>\n",
              "    <tr>\n",
              "      <th>Price</th>\n",
              "      <th>Close</th>\n",
              "      <th>High</th>\n",
              "      <th>Low</th>\n",
              "      <th>Open</th>\n",
              "      <th>Volume</th>\n",
              "    </tr>\n",
              "    <tr>\n",
              "      <th>Ticker</th>\n",
              "      <th>SBUX</th>\n",
              "      <th>SBUX</th>\n",
              "      <th>SBUX</th>\n",
              "      <th>SBUX</th>\n",
              "      <th>SBUX</th>\n",
              "    </tr>\n",
              "    <tr>\n",
              "      <th>Date</th>\n",
              "      <th></th>\n",
              "      <th></th>\n",
              "      <th></th>\n",
              "      <th></th>\n",
              "      <th></th>\n",
              "    </tr>\n",
              "  </thead>\n",
              "  <tbody>\n",
              "    <tr>\n",
              "      <th>2010-01-04</th>\n",
              "      <td>8.890197</td>\n",
              "      <td>8.998191</td>\n",
              "      <td>8.836200</td>\n",
              "      <td>8.994334</td>\n",
              "      <td>16370000</td>\n",
              "    </tr>\n",
              "    <tr>\n",
              "      <th>2010-01-05</th>\n",
              "      <td>9.098470</td>\n",
              "      <td>9.256603</td>\n",
              "      <td>8.828485</td>\n",
              "      <td>8.855483</td>\n",
              "      <td>30058800</td>\n",
              "    </tr>\n",
              "    <tr>\n",
              "      <th>2010-01-06</th>\n",
              "      <td>9.032902</td>\n",
              "      <td>9.110040</td>\n",
              "      <td>8.971191</td>\n",
              "      <td>9.056043</td>\n",
              "      <td>14209600</td>\n",
              "    </tr>\n",
              "    <tr>\n",
              "      <th>2010-01-07</th>\n",
              "      <td>9.009761</td>\n",
              "      <td>9.075328</td>\n",
              "      <td>8.944193</td>\n",
              "      <td>8.978906</td>\n",
              "      <td>10256000</td>\n",
              "    </tr>\n",
              "    <tr>\n",
              "      <th>2010-01-08</th>\n",
              "      <td>8.978904</td>\n",
              "      <td>9.102325</td>\n",
              "      <td>8.944191</td>\n",
              "      <td>8.948048</td>\n",
              "      <td>10274800</td>\n",
              "    </tr>\n",
              "  </tbody>\n",
              "</table>\n",
              "</div>"
            ],
            "text/plain": [
              "Price          Close      High       Low      Open    Volume\n",
              "Ticker          SBUX      SBUX      SBUX      SBUX      SBUX\n",
              "Date                                                        \n",
              "2010-01-04  8.890197  8.998191  8.836200  8.994334  16370000\n",
              "2010-01-05  9.098470  9.256603  8.828485  8.855483  30058800\n",
              "2010-01-06  9.032902  9.110040  8.971191  9.056043  14209600\n",
              "2010-01-07  9.009761  9.075328  8.944193  8.978906  10256000\n",
              "2010-01-08  8.978904  9.102325  8.944191  8.948048  10274800"
            ]
          },
          "execution_count": 52,
          "metadata": {},
          "output_type": "execute_result"
        }
      ],
      "source": [
        "df.head()"
      ]
    },
    {
      "cell_type": "code",
      "execution_count": 53,
      "metadata": {
        "colab": {
          "base_uri": "https://localhost:8080/"
        },
        "id": "BmcPg-gCAdkF",
        "outputId": "be959923-bd7b-4434-c9e3-ea271ffd465f"
      },
      "outputs": [
        {
          "data": {
            "text/plain": [
              "MultiIndex([( 'Close', 'SBUX'),\n",
              "            (  'High', 'SBUX'),\n",
              "            (   'Low', 'SBUX'),\n",
              "            (  'Open', 'SBUX'),\n",
              "            ('Volume', 'SBUX')],\n",
              "           names=['Price', 'Ticker'])"
            ]
          },
          "execution_count": 53,
          "metadata": {},
          "output_type": "execute_result"
        }
      ],
      "source": [
        "df.columns"
      ]
    },
    {
      "cell_type": "code",
      "execution_count": 55,
      "metadata": {},
      "outputs": [
        {
          "data": {
            "text/plain": [
              "Date\n",
              "2010-01-04     8.890197\n",
              "2010-01-05     9.098470\n",
              "2010-01-06     9.032902\n",
              "2010-01-07     9.009761\n",
              "2010-01-08     8.978904\n",
              "                ...    \n",
              "2023-12-22    93.432343\n",
              "2023-12-26    93.814774\n",
              "2023-12-27    93.442146\n",
              "2023-12-28    94.069733\n",
              "2023-12-29    94.148186\n",
              "Name: (Close, SBUX), Length: 3522, dtype: float64"
            ]
          },
          "execution_count": 55,
          "metadata": {},
          "output_type": "execute_result"
        }
      ],
      "source": [
        "df[( 'Close', 'SBUX')]"
      ]
    },
    {
      "cell_type": "markdown",
      "metadata": {},
      "source": [
        " ↑ multi-index 형태라 데이터를 다루기 불편함\n",
        "\n",
        " single-index(단순 string index로 바꾸기)"
      ]
    },
    {
      "cell_type": "code",
      "execution_count": 6,
      "metadata": {
        "id": "_t3h8ydjTMJm"
      },
      "outputs": [],
      "source": [
        "df.columns = ['Close', 'High', 'Low', 'Open', 'Volume' ]"
      ]
    },
    {
      "cell_type": "code",
      "execution_count": 57,
      "metadata": {},
      "outputs": [
        {
          "data": {
            "text/html": [
              "<div>\n",
              "<style scoped>\n",
              "    .dataframe tbody tr th:only-of-type {\n",
              "        vertical-align: middle;\n",
              "    }\n",
              "\n",
              "    .dataframe tbody tr th {\n",
              "        vertical-align: top;\n",
              "    }\n",
              "\n",
              "    .dataframe thead th {\n",
              "        text-align: right;\n",
              "    }\n",
              "</style>\n",
              "<table border=\"1\" class=\"dataframe\">\n",
              "  <thead>\n",
              "    <tr style=\"text-align: right;\">\n",
              "      <th></th>\n",
              "      <th>Close</th>\n",
              "      <th>High</th>\n",
              "      <th>Low</th>\n",
              "      <th>Open</th>\n",
              "      <th>Volume</th>\n",
              "    </tr>\n",
              "    <tr>\n",
              "      <th>Date</th>\n",
              "      <th></th>\n",
              "      <th></th>\n",
              "      <th></th>\n",
              "      <th></th>\n",
              "      <th></th>\n",
              "    </tr>\n",
              "  </thead>\n",
              "  <tbody>\n",
              "    <tr>\n",
              "      <th>2010-01-04</th>\n",
              "      <td>8.890197</td>\n",
              "      <td>8.998191</td>\n",
              "      <td>8.836200</td>\n",
              "      <td>8.994334</td>\n",
              "      <td>16370000</td>\n",
              "    </tr>\n",
              "    <tr>\n",
              "      <th>2010-01-05</th>\n",
              "      <td>9.098470</td>\n",
              "      <td>9.256603</td>\n",
              "      <td>8.828485</td>\n",
              "      <td>8.855483</td>\n",
              "      <td>30058800</td>\n",
              "    </tr>\n",
              "    <tr>\n",
              "      <th>2010-01-06</th>\n",
              "      <td>9.032902</td>\n",
              "      <td>9.110040</td>\n",
              "      <td>8.971191</td>\n",
              "      <td>9.056043</td>\n",
              "      <td>14209600</td>\n",
              "    </tr>\n",
              "    <tr>\n",
              "      <th>2010-01-07</th>\n",
              "      <td>9.009761</td>\n",
              "      <td>9.075328</td>\n",
              "      <td>8.944193</td>\n",
              "      <td>8.978906</td>\n",
              "      <td>10256000</td>\n",
              "    </tr>\n",
              "    <tr>\n",
              "      <th>2010-01-08</th>\n",
              "      <td>8.978904</td>\n",
              "      <td>9.102325</td>\n",
              "      <td>8.944191</td>\n",
              "      <td>8.948048</td>\n",
              "      <td>10274800</td>\n",
              "    </tr>\n",
              "  </tbody>\n",
              "</table>\n",
              "</div>"
            ],
            "text/plain": [
              "               Close      High       Low      Open    Volume\n",
              "Date                                                        \n",
              "2010-01-04  8.890197  8.998191  8.836200  8.994334  16370000\n",
              "2010-01-05  9.098470  9.256603  8.828485  8.855483  30058800\n",
              "2010-01-06  9.032902  9.110040  8.971191  9.056043  14209600\n",
              "2010-01-07  9.009761  9.075328  8.944193  8.978906  10256000\n",
              "2010-01-08  8.978904  9.102325  8.944191  8.948048  10274800"
            ]
          },
          "execution_count": 57,
          "metadata": {},
          "output_type": "execute_result"
        }
      ],
      "source": [
        "df.head()"
      ]
    },
    {
      "cell_type": "code",
      "execution_count": 59,
      "metadata": {},
      "outputs": [
        {
          "data": {
            "text/plain": [
              "(pandas.core.frame.DataFrame, (3522, 5))"
            ]
          },
          "execution_count": 59,
          "metadata": {},
          "output_type": "execute_result"
        }
      ],
      "source": [
        "type(df), df.shape"
      ]
    },
    {
      "cell_type": "markdown",
      "metadata": {},
      "source": [
        "### 1. 30개 Slicing\n",
        "\n",
        "이 30개를 바탕으로 내일(2010-02-17) 주가를 예상해볼 것이다. "
      ]
    },
    {
      "cell_type": "code",
      "execution_count": 200,
      "metadata": {},
      "outputs": [
        {
          "data": {
            "text/plain": [
              "Date\n",
              "2010-01-04    8.890197\n",
              "2010-01-05    9.098470\n",
              "2010-01-06    9.032902\n",
              "2010-01-07    9.009761\n",
              "2010-01-08    8.978904\n",
              "2010-01-11    8.951912\n",
              "2010-01-12    8.801485\n",
              "2010-01-13    9.017470\n",
              "2010-01-14    9.083041\n",
              "2010-01-15    8.975047\n",
              "2010-01-19    9.094615\n",
              "2010-01-20    8.982763\n",
              "2010-01-21    9.133181\n",
              "2010-01-22    8.836204\n",
              "2010-01-25    8.639498\n",
              "2010-01-26    8.693493\n",
              "2010-01-27    8.643353\n",
              "2010-01-28    8.516077\n",
              "2010-01-29    8.404227\n",
              "2010-02-01    8.573929\n",
              "2010-02-02    8.658781\n",
              "2010-02-03    8.651069\n",
              "2010-02-04    8.411935\n",
              "2010-02-05    8.369512\n",
              "2010-02-08    8.450507\n",
              "2010-02-09    8.558509\n",
              "2010-02-10    8.627922\n",
              "2010-02-11    8.701207\n",
              "2010-02-12    8.716638\n",
              "2010-02-16    8.824627\n",
              "Name: Close, dtype: float64"
            ]
          },
          "execution_count": 200,
          "metadata": {},
          "output_type": "execute_result"
        }
      ],
      "source": [
        "df['Close'].iloc[:30]       # 0~29"
      ]
    },
    {
      "cell_type": "markdown",
      "metadata": {},
      "source": [
        "### 우리가 예측할 값의 실제값을 미리 살펴보자"
      ]
    },
    {
      "cell_type": "code",
      "execution_count": 65,
      "metadata": {},
      "outputs": [
        {
          "data": {
            "text/plain": [
              "8.928765296936035"
            ]
          },
          "execution_count": 65,
          "metadata": {},
          "output_type": "execute_result"
        }
      ],
      "source": [
        "df[\"Close\"].iloc[30]    # 30"
      ]
    },
    {
      "cell_type": "code",
      "execution_count": 7,
      "metadata": {},
      "outputs": [],
      "source": [
        "data = df['Close']"
      ]
    },
    {
      "cell_type": "code",
      "execution_count": 67,
      "metadata": {
        "colab": {
          "base_uri": "https://localhost:8080/"
        },
        "id": "MVMR4xgk_R66",
        "outputId": "68b154d8-33e4-4e5d-a299-c2cd378a0b2a"
      },
      "outputs": [
        {
          "data": {
            "text/plain": [
              "(pandas.core.series.Series, (3522,))"
            ]
          },
          "execution_count": 67,
          "metadata": {},
          "output_type": "execute_result"
        }
      ],
      "source": [
        "type(data), data.shape"
      ]
    },
    {
      "cell_type": "markdown",
      "metadata": {
        "id": "G5Lo-DFL_xEe"
      },
      "source": [
        "# 13. seq_len=30 을 고려하여 X, y dataset 을 생성하는 코드를 작성하세요. 이때, X 는 3d, y 는 2d 로 shape 을 조정해 주세요 (hint: reshape)"
      ]
    },
    {
      "cell_type": "code",
      "execution_count": 8,
      "metadata": {},
      "outputs": [
        {
          "data": {
            "text/plain": [
              "(numpy.ndarray, (3522,))"
            ]
          },
          "execution_count": 8,
          "metadata": {},
          "output_type": "execute_result"
        }
      ],
      "source": [
        "import numpy as np\n",
        "\n",
        "data_np = data.values       ## values 하면 자동으로 numpy로 바뀜\n",
        "type(data_np), data_np.shape"
      ]
    },
    {
      "cell_type": "code",
      "execution_count": 9,
      "metadata": {},
      "outputs": [
        {
          "data": {
            "text/plain": [
              "((30,), 8.928765296936035)"
            ]
          },
          "execution_count": 9,
          "metadata": {},
          "output_type": "execute_result"
        }
      ],
      "source": [
        "seq_len = 30\n",
        "data_np[0:0+seq_len].shape, data_np[0+seq_len]"
      ]
    },
    {
      "cell_type": "markdown",
      "metadata": {},
      "source": [
        "한칸 미뤄서 데이터 만들어보기"
      ]
    },
    {
      "cell_type": "code",
      "execution_count": 204,
      "metadata": {},
      "outputs": [
        {
          "data": {
            "text/plain": [
              "((30,), 8.97119140625)"
            ]
          },
          "execution_count": 204,
          "metadata": {},
          "output_type": "execute_result"
        }
      ],
      "source": [
        "data_np[1:1+seq_len].shape, data_np[1+seq_len]"
      ]
    },
    {
      "cell_type": "markdown",
      "metadata": {},
      "source": [
        "위를 적용해서 다음 30개 데이터 추출"
      ]
    },
    {
      "cell_type": "code",
      "execution_count": 10,
      "metadata": {
        "id": "l8wWed18_lxe"
      },
      "outputs": [],
      "source": [
        "import numpy as np\n",
        "\n",
        "data_np = data.values\n",
        "\n",
        "seq_len = 30\n",
        "X, y = [], []\n"
      ]
    },
    {
      "cell_type": "code",
      "execution_count": 255,
      "metadata": {},
      "outputs": [
        {
          "data": {
            "text/plain": [
              "(3522,)"
            ]
          },
          "execution_count": 255,
          "metadata": {},
          "output_type": "execute_result"
        }
      ],
      "source": [
        "data_np.shape"
      ]
    },
    {
      "cell_type": "code",
      "execution_count": 269,
      "metadata": {},
      "outputs": [],
      "source": [
        "for i in range(len(data)-seq_len) :\n",
        "    X.append(data_np[i:i+seq_len])\n",
        "    y.append(data_np[i+seq_len])"
      ]
    },
    {
      "cell_type": "code",
      "execution_count": 208,
      "metadata": {},
      "outputs": [
        {
          "data": {
            "text/plain": [
              "((3492, 30), (3492,))"
            ]
          },
          "execution_count": 208,
          "metadata": {},
          "output_type": "execute_result"
        }
      ],
      "source": [
        "np.array(X).shape, np.array(y).shape"
      ]
    },
    {
      "cell_type": "code",
      "execution_count": 270,
      "metadata": {},
      "outputs": [],
      "source": [
        "X = np.array(X).reshape(-1, seq_len, 1)\n",
        "y = np.array(y).reshape(-1, 1)"
      ]
    },
    {
      "cell_type": "code",
      "execution_count": 259,
      "metadata": {
        "colab": {
          "base_uri": "https://localhost:8080/"
        },
        "id": "hDPEyBtsBCkp",
        "outputId": "148ac337-7b68-493a-c56c-0c39e90624d6"
      },
      "outputs": [
        {
          "data": {
            "text/plain": [
              "(numpy.ndarray, numpy.ndarray, (3492, 30, 1), (3492, 1))"
            ]
          },
          "execution_count": 259,
          "metadata": {},
          "output_type": "execute_result"
        }
      ],
      "source": [
        "type(X), type(y), X.shape, y.shape"
      ]
    },
    {
      "cell_type": "markdown",
      "metadata": {
        "id": "x3klCQcKB8XM"
      },
      "source": [
        "# 14. 13번에서 생성한 데이터셋을 이용하여 DataLoder 객체를 생성하고, 11번을 참고하여 데이터에 알맞은 모델을 생성합니다 (hidden_size=10)."
      ]
    },
    {
      "cell_type": "code",
      "execution_count": 271,
      "metadata": {
        "id": "P9-OG9IBC8Bi"
      },
      "outputs": [],
      "source": [
        "from torch.utils.data import DataLoader, TensorDataset\n",
        "\n",
        "X_data, y_data = torch.tensor(X).float(), torch.tensor(y).float()\n",
        "loader_train = DataLoader(TensorDataset(X_data, y_data), batch_size=32, shuffle=True)"
      ]
    },
    {
      "cell_type": "code",
      "execution_count": 272,
      "metadata": {},
      "outputs": [],
      "source": [
        "class StockPrediction(nn.Module):\n",
        "    def __init__(self, input_size=1, hidden_size=10, output_size=1) :\n",
        "        super().__init__()\n",
        "        self.input_size = input_size\n",
        "        self.hidden_size = hidden_size\n",
        "        self.output_size = output_size\n",
        "        self.lstm = nn.LSTM(input_size, hidden_size, batch_first=True)\n",
        "        self.linear = nn.Linear(hidden_size, output_size)\n",
        "        \n",
        "    \n",
        "    def forward(self, input) :\n",
        "        y, (h, c) = self.lstm(input)\n",
        "        output = self.linear(y[:,-1,:])\n",
        "        return output"
      ]
    },
    {
      "cell_type": "code",
      "execution_count": 273,
      "metadata": {
        "id": "GtkCQEHfBdjU"
      },
      "outputs": [],
      "source": [
        "model = StockPrediction()"
      ]
    },
    {
      "cell_type": "code",
      "execution_count": 274,
      "metadata": {
        "colab": {
          "base_uri": "https://localhost:8080/"
        },
        "id": "wsl9DgoAC6mY",
        "outputId": "9e19354d-ca3c-46b4-d2fb-6ac21b91363b"
      },
      "outputs": [
        {
          "name": "stdout",
          "output_type": "stream",
          "text": [
            "torch.Size([32, 1])\n"
          ]
        }
      ],
      "source": [
        "for I, label in loader_train:\n",
        "  print(model(I).shape)\n",
        "  break"
      ]
    },
    {
      "cell_type": "markdown",
      "metadata": {
        "id": "ScfzF-AyFFqN"
      },
      "source": [
        "# 15. 모델을 훈련하기 위한 train loop 를 작성하여 모델을 훈련시킵니다. loop 가 한 번만 성공적으로 동작하도록 해 보세요.\n",
        "\n",
        "* Loss: nn.MSELoss\n",
        "* Optimizer: optim.Adam"
      ]
    },
    {
      "cell_type": "code",
      "execution_count": 275,
      "metadata": {
        "id": "tWna3nxoExjq"
      },
      "outputs": [],
      "source": [
        "loss_fn = nn.MSELoss()\n",
        "optimizer = torch.optim.Adam(model.parameters())"
      ]
    },
    {
      "cell_type": "code",
      "execution_count": 276,
      "metadata": {},
      "outputs": [
        {
          "data": {
            "text/plain": [
              "3622.8567338423295"
            ]
          },
          "execution_count": 276,
          "metadata": {},
          "output_type": "execute_result"
        }
      ],
      "source": [
        "total_loss = 0\n",
        "for X_batch, y_batch in loader_train:\n",
        "    # print(X.shape), print(y.shape)\n",
        "    # break\n",
        "    y_pred = model(X_batch)\n",
        "    optimizer.zero_grad()\n",
        "    loss = loss_fn(y_pred, y_batch)\n",
        "    loss.backward()\n",
        "    optimizer.step()\n",
        "    # print(loss.item())\n",
        "    total_loss += loss.item()    \n",
        "    # break\n",
        "total_loss/len(loader_train)"
      ]
    },
    {
      "cell_type": "markdown",
      "metadata": {
        "id": "AUJmZw0MHD6V"
      },
      "source": [
        "# 16. epochs=200 으로 모델을 훈련시킵니다. 한 번의 epoch 마다 loss 값을 출력합니다.\n",
        "\n",
        "* GPU 를 사용할 수 있으면 적극 활용하세요."
      ]
    },
    {
      "cell_type": "code",
      "execution_count": 277,
      "metadata": {
        "colab": {
          "base_uri": "https://localhost:8080/"
        },
        "id": "911aXU5AGw8h",
        "outputId": "28ac2899-7964-4471-95de-63a3d65480f8"
      },
      "outputs": [
        {
          "name": "stdout",
          "output_type": "stream",
          "text": [
            "epoch: 0, loss: 3438.852092950994\n",
            "epoch: 1, loss: 3225.8007779208097\n",
            "epoch: 2, loss: 3071.1118119673297\n",
            "epoch: 3, loss: 2950.5090687144884\n",
            "epoch: 4, loss: 2797.483117120916\n",
            "epoch: 5, loss: 2705.094884144176\n",
            "epoch: 6, loss: 2589.9901311700996\n",
            "epoch: 7, loss: 2518.4672407670455\n",
            "epoch: 8, loss: 2412.474834650213\n",
            "epoch: 9, loss: 2323.5373568448153\n",
            "epoch: 10, loss: 2264.957056773793\n",
            "epoch: 11, loss: 2176.763545920632\n",
            "epoch: 12, loss: 2095.28794000799\n",
            "epoch: 13, loss: 2007.951338334517\n",
            "epoch: 14, loss: 1966.6862515536222\n",
            "epoch: 15, loss: 1863.9657515092329\n",
            "epoch: 16, loss: 1809.3557550603693\n",
            "epoch: 17, loss: 1740.294003018466\n",
            "epoch: 18, loss: 1675.8071766246449\n",
            "epoch: 19, loss: 1630.6479031649503\n",
            "epoch: 20, loss: 1549.2187337322669\n",
            "epoch: 21, loss: 1497.816298606179\n",
            "epoch: 22, loss: 1458.3009327281604\n",
            "epoch: 23, loss: 1399.2691378506747\n",
            "epoch: 24, loss: 1337.524572684548\n",
            "epoch: 25, loss: 1289.3655389959163\n",
            "epoch: 26, loss: 1245.598154518821\n",
            "epoch: 27, loss: 1199.7741233132103\n",
            "epoch: 28, loss: 1169.9777071866122\n",
            "epoch: 29, loss: 1108.8156440734863\n",
            "epoch: 30, loss: 1071.2244839754972\n",
            "epoch: 31, loss: 1036.5745758056642\n",
            "epoch: 32, loss: 989.8621654163708\n",
            "epoch: 33, loss: 950.0885690168901\n",
            "epoch: 34, loss: 919.817456886985\n",
            "epoch: 35, loss: 890.1023268266158\n",
            "epoch: 36, loss: 852.7991554953835\n",
            "epoch: 37, loss: 812.745566073331\n",
            "epoch: 38, loss: 783.4097496726296\n",
            "epoch: 39, loss: 754.1304218639027\n",
            "epoch: 40, loss: 721.6539471019398\n",
            "epoch: 41, loss: 694.9619573419744\n",
            "epoch: 42, loss: 673.5890523737127\n",
            "epoch: 43, loss: 645.0730945933949\n",
            "epoch: 44, loss: 620.8332823319869\n",
            "epoch: 45, loss: 592.4310497262261\n",
            "epoch: 46, loss: 571.3588847767223\n",
            "epoch: 47, loss: 554.8305179942738\n",
            "epoch: 48, loss: 524.8121210878545\n",
            "epoch: 49, loss: 514.4845063643022\n",
            "epoch: 50, loss: 482.5756116588007\n",
            "epoch: 51, loss: 466.97234372225677\n",
            "epoch: 52, loss: 446.68220672607424\n",
            "epoch: 53, loss: 423.8522698489102\n",
            "epoch: 54, loss: 406.0222367026589\n",
            "epoch: 55, loss: 389.53451302268286\n",
            "epoch: 56, loss: 371.9556289672852\n",
            "epoch: 57, loss: 356.6183340246027\n",
            "epoch: 58, loss: 338.4543607885187\n",
            "epoch: 59, loss: 323.99639143510296\n",
            "epoch: 60, loss: 306.34920723655006\n",
            "epoch: 61, loss: 294.566593170166\n",
            "epoch: 62, loss: 277.42351060347124\n",
            "epoch: 63, loss: 261.57781928235835\n",
            "epoch: 64, loss: 248.42876702221957\n",
            "epoch: 65, loss: 235.96472717631946\n",
            "epoch: 66, loss: 223.6415936291218\n",
            "epoch: 67, loss: 212.11052052920516\n",
            "epoch: 68, loss: 203.20781541304154\n",
            "epoch: 69, loss: 192.64688748446378\n",
            "epoch: 70, loss: 179.90391364531084\n",
            "epoch: 71, loss: 172.01536098827015\n",
            "epoch: 72, loss: 160.86595992175015\n",
            "epoch: 73, loss: 153.92313482111152\n",
            "epoch: 74, loss: 144.2309213811701\n",
            "epoch: 75, loss: 136.62839804562654\n",
            "epoch: 76, loss: 129.10009427504107\n",
            "epoch: 77, loss: 120.0453263022683\n",
            "epoch: 78, loss: 112.81461082155054\n",
            "epoch: 79, loss: 109.52469669688831\n",
            "epoch: 80, loss: 100.79724214727229\n",
            "epoch: 81, loss: 93.5930087523027\n",
            "epoch: 82, loss: 87.77067415064032\n",
            "epoch: 83, loss: 83.96972592093728\n",
            "epoch: 84, loss: 78.68168054493991\n",
            "epoch: 85, loss: 72.19750086150385\n",
            "epoch: 86, loss: 68.91399070999839\n",
            "epoch: 87, loss: 64.43180358599533\n",
            "epoch: 88, loss: 59.2049899968234\n",
            "epoch: 89, loss: 55.04775586724281\n",
            "epoch: 90, loss: 51.4496359010989\n",
            "epoch: 91, loss: 47.956111786582255\n",
            "epoch: 92, loss: 45.93886239095168\n",
            "epoch: 93, loss: 41.277039883082566\n",
            "epoch: 94, loss: 38.43807638991963\n",
            "epoch: 95, loss: 35.63101110566746\n",
            "epoch: 96, loss: 32.93660625110973\n",
            "epoch: 97, loss: 30.434748692810537\n",
            "epoch: 98, loss: 28.590531235391442\n",
            "epoch: 99, loss: 25.89087885672396\n",
            "epoch: 100, loss: 24.00925447290594\n",
            "epoch: 101, loss: 22.55208558927883\n",
            "epoch: 102, loss: 20.186725094914436\n",
            "epoch: 103, loss: 18.690514727072284\n",
            "epoch: 104, loss: 17.126847315918315\n",
            "epoch: 105, loss: 15.735766633261333\n",
            "epoch: 106, loss: 14.561330656571823\n",
            "epoch: 107, loss: 13.342132238637317\n",
            "epoch: 108, loss: 12.473402219197967\n",
            "epoch: 109, loss: 11.468080827864734\n",
            "epoch: 110, loss: 10.681183996525677\n",
            "epoch: 111, loss: 9.729859992590818\n",
            "epoch: 112, loss: 9.349956634911624\n",
            "epoch: 113, loss: 8.309613370895386\n",
            "epoch: 114, loss: 7.630165169997649\n",
            "epoch: 115, loss: 7.241361872716383\n",
            "epoch: 116, loss: 6.574568420106714\n",
            "epoch: 117, loss: 6.050019583376971\n",
            "epoch: 118, loss: 5.771931520375339\n",
            "epoch: 119, loss: 5.320591160384091\n",
            "epoch: 120, loss: 4.9650394756685605\n",
            "epoch: 121, loss: 4.491940745034001\n",
            "epoch: 122, loss: 4.129493343152783\n",
            "epoch: 123, loss: 3.9303424016995865\n",
            "epoch: 124, loss: 3.8297507039525294\n",
            "epoch: 125, loss: 3.484391876919703\n",
            "epoch: 126, loss: 3.424570107460022\n",
            "epoch: 127, loss: 3.09754283211448\n",
            "epoch: 128, loss: 2.899743524464694\n",
            "epoch: 129, loss: 2.734463460337032\n",
            "epoch: 130, loss: 2.581256180459803\n",
            "epoch: 131, loss: 2.5410314164378427\n",
            "epoch: 132, loss: 2.3304085682061584\n",
            "epoch: 133, loss: 2.3578285696831616\n",
            "epoch: 134, loss: 2.279625602201982\n",
            "epoch: 135, loss: 2.02608510824767\n",
            "epoch: 136, loss: 2.0100427890365773\n",
            "epoch: 137, loss: 1.956308100982146\n",
            "epoch: 138, loss: 1.881382337754423\n",
            "epoch: 139, loss: 1.8166467433626001\n",
            "epoch: 140, loss: 1.8425869825211438\n",
            "epoch: 141, loss: 1.6890267591584813\n",
            "epoch: 142, loss: 1.6490232263099063\n",
            "epoch: 143, loss: 1.611544481055303\n",
            "epoch: 144, loss: 1.5781676249070602\n",
            "epoch: 145, loss: 1.7313340731642464\n",
            "epoch: 146, loss: 1.5411651761694387\n",
            "epoch: 147, loss: 1.5482513638043947\n",
            "epoch: 148, loss: 1.6592557880011471\n",
            "epoch: 149, loss: 1.56461728093299\n",
            "epoch: 150, loss: 1.6339845662767236\n",
            "epoch: 151, loss: 1.537240846319632\n",
            "epoch: 152, loss: 1.4838868978348645\n",
            "epoch: 153, loss: 1.4011261742223393\n",
            "epoch: 154, loss: 1.4116786073554646\n",
            "epoch: 155, loss: 1.4239482643929395\n",
            "epoch: 156, loss: 1.3435363525694066\n",
            "epoch: 157, loss: 1.4570500088008966\n",
            "epoch: 158, loss: 1.41162709729238\n",
            "epoch: 159, loss: 1.4074126013300636\n",
            "epoch: 160, loss: 1.3194475767287341\n",
            "epoch: 161, loss: 1.3586810209873048\n",
            "epoch: 162, loss: 1.247817892919887\n",
            "epoch: 163, loss: 1.3857680897821079\n",
            "epoch: 164, loss: 1.3546265006065368\n",
            "epoch: 165, loss: 1.3686408823186702\n",
            "epoch: 166, loss: 1.3010305806317113\n",
            "epoch: 167, loss: 1.2413731602105227\n",
            "epoch: 168, loss: 1.4027916607531634\n",
            "epoch: 169, loss: 1.4162753782489084\n",
            "epoch: 170, loss: 1.3052013221112164\n",
            "epoch: 171, loss: 1.2577669420025566\n",
            "epoch: 172, loss: 1.271052293885838\n",
            "epoch: 173, loss: 1.30831000296907\n",
            "epoch: 174, loss: 1.253660258447582\n",
            "epoch: 175, loss: 1.2538364372470163\n",
            "epoch: 176, loss: 1.243282905898311\n",
            "epoch: 177, loss: 1.1790708734230562\n",
            "epoch: 178, loss: 1.3176983123475856\n",
            "epoch: 179, loss: 1.2110357138243588\n",
            "epoch: 180, loss: 1.23711496591568\n",
            "epoch: 181, loss: 1.248854332214052\n",
            "epoch: 182, loss: 1.2431960701942444\n",
            "epoch: 183, loss: 1.3268663596023214\n",
            "epoch: 184, loss: 1.2083969011902809\n",
            "epoch: 185, loss: 1.2666726553981955\n",
            "epoch: 186, loss: 1.1639346584677697\n",
            "epoch: 187, loss: 1.1916072967377576\n",
            "epoch: 188, loss: 1.2732166683131998\n",
            "epoch: 189, loss: 1.2400921577757056\n",
            "epoch: 190, loss: 1.1692209237001159\n",
            "epoch: 191, loss: 1.1610336038199338\n",
            "epoch: 192, loss: 1.1873153005133976\n",
            "epoch: 193, loss: 1.2300669292157347\n",
            "epoch: 194, loss: 1.212432909282771\n",
            "epoch: 195, loss: 1.2028225381265987\n",
            "epoch: 196, loss: 1.250244312394749\n",
            "epoch: 197, loss: 1.2274990325624293\n",
            "epoch: 198, loss: 1.143443109772422\n",
            "epoch: 199, loss: 1.190235762162642\n"
          ]
        }
      ],
      "source": [
        "epochs = 200\n",
        "for epoch in range(epochs):\n",
        "  total_loss = 0\n",
        "  for X_batch, y_batch in loader_train:\n",
        "      # print(X.shape), print(y.shape)\n",
        "      # break\n",
        "      y_pred = model(X_batch)\n",
        "      optimizer.zero_grad()\n",
        "      loss = loss_fn(y_pred, y_batch)\n",
        "      loss.backward()\n",
        "      optimizer.step()\n",
        "      # print(loss.item())\n",
        "      total_loss += loss.item()    \n",
        "      # break\n",
        "\n",
        "  epoch_loss = total_loss / len(loader_train)\n",
        "  print(f'epoch: {epoch}, loss: {epoch_loss}')"
      ]
    },
    {
      "cell_type": "markdown",
      "metadata": {
        "id": "TfHzl8EmO4fD"
      },
      "source": [
        "# 17. 실제 값과 훈련된 모델의 예측값을 plot 으로 그려봅니다."
      ]
    },
    {
      "cell_type": "code",
      "execution_count": 278,
      "metadata": {},
      "outputs": [
        {
          "data": {
            "text/plain": [
              "[<matplotlib.lines.Line2D at 0x1eaa78f5f10>]"
            ]
          },
          "execution_count": 278,
          "metadata": {},
          "output_type": "execute_result"
        },
        {
          "data": {
            "image/png": "[encoded data removed]",
            "text/plain": [
              "<Figure size 640x480 with 1 Axes>"
            ]
          },
          "metadata": {},
          "output_type": "display_data"
        }
      ],
      "source": [
        "import matplotlib.pyplot as plt\n",
        "\n",
        "model.eval()\n",
        "\n",
        "X_tensor = torch.tensor(X).float()\n",
        "with torch.no_grad():\n",
        "  y_pred = model(X_tensor).numpy()\n",
        "  #y_pred = model(X_tensor).cpu().numpy()\n",
        "\n",
        "plt.plot(df.index[seq_len:], y)\n",
        "plt.plot(df.index[seq_len:], y_pred)"
      ]
    },
    {
      "cell_type": "markdown",
      "metadata": {
        "id": "dcPfJKByPBxT"
      },
      "source": [
        "# 18. 모델의 성능을 MSE, RMSE, MAE, R2 메트릭을 이용하여 측정해 봅니다."
      ]
    },
    {
      "cell_type": "code",
      "execution_count": 279,
      "metadata": {
        "colab": {
          "base_uri": "https://localhost:8080/"
        },
        "id": "nF7EoWRXJjGQ",
        "outputId": "bc148b61-a823-44b8-b106-d2ff57c4ebf6"
      },
      "outputs": [
        {
          "data": {
            "text/plain": [
              "'MSE: 1.31612, RMSE: 1.14722, MAE: 0.73450, R2: 0.99850'"
            ]
          },
          "execution_count": 279,
          "metadata": {},
          "output_type": "execute_result"
        }
      ],
      "source": [
        "from sklearn.metrics import mean_squared_error, mean_absolute_error, r2_score\n",
        "\n",
        "mse = mean_squared_error(y, y_pred)\n",
        "rmse = np.sqrt(mse)\n",
        "mae = mean_absolute_error(y, y_pred)\n",
        "r2 = r2_score(y, y_pred)\n",
        "\n",
        "f\"MSE: {mse:.5f}, RMSE: {rmse:.5f}, MAE: {mae:.5f}, R2: {r2:.5f}\""
      ]
    },
    {
      "cell_type": "markdown",
      "metadata": {
        "id": "d41xsezKPMUm"
      },
      "source": [
        "# 19. 12번에서 생성한 데이터를 이용하여 다음을 수행하시오.\n",
        "\n",
        "* sklearn 의 MinMaxScaler 를 이용하여 데이터를 정규화 합니다. (fit_transform)\n",
        "* 9:2 의 비율로 train/test 로 데이터를 split 하여, X_trian, X_test, y_train, y_test 변수에 저장합니다.\n",
        "* train/test 용 DataLoader 객체를 생성하여 loader_train, loader_test 변수에 저장합니다.\n",
        "* 모델 훈련 시에는 loader_train 을 이용하고, 모델의 예측력을 확인할 때는 loader_test 를 이용합니다."
      ]
    },
    {
      "cell_type": "code",
      "execution_count": 302,
      "metadata": {},
      "outputs": [],
      "source": [
        "data = df['Close']\n",
        "data_np = data.values\n",
        "seq_len = 30\n",
        "X, y = [], []"
      ]
    },
    {
      "cell_type": "code",
      "execution_count": 303,
      "metadata": {},
      "outputs": [],
      "source": [
        "for i in range(len(data)-seq_len) :\n",
        "    X.append(data_np[i:i+seq_len])\n",
        "    y.append(data_np[i+seq_len])"
      ]
    },
    {
      "cell_type": "code",
      "execution_count": 304,
      "metadata": {},
      "outputs": [],
      "source": [
        "from sklearn.preprocessing import MinMaxScaler\n",
        "minMaxScaler = MinMaxScaler()\n",
        "mmData = minMaxScaler.fit_transform(X)"
      ]
    },
    {
      "cell_type": "code",
      "execution_count": 306,
      "metadata": {},
      "outputs": [
        {
          "data": {
            "text/plain": [
              "array([0.00669187, 0.00608995, 0.00587752, 0.00559425, 0.00534646])"
            ]
          },
          "execution_count": 306,
          "metadata": {},
          "output_type": "execute_result"
        }
      ],
      "source": [
        "mmData[1,:5]"
      ]
    },
    {
      "cell_type": "code",
      "execution_count": null,
      "metadata": {},
      "outputs": [],
      "source": [
        "from sklearn.model_selection import train_test_split\n",
        "X_train, X_test, y_train, y_test = train_test_split(X, y, stratify=y, random_state=42)"
      ]
    },
    {
      "cell_type": "code",
      "execution_count": 1,
      "metadata": {},
      "outputs": [
        {
          "ename": "NameError",
          "evalue": "name 'torch' is not defined",
          "output_type": "error",
          "traceback": [
            "\u001b[1;31m---------------------------------------------------------------------------\u001b[0m",
            "\u001b[1;31mNameError\u001b[0m                                 Traceback (most recent call last)",
            "Cell \u001b[1;32mIn[1], line 3\u001b[0m\n\u001b[0;32m      1\u001b[0m \u001b[38;5;28;01mfrom\u001b[39;00m \u001b[38;5;21;01mtorch\u001b[39;00m\u001b[38;5;21;01m.\u001b[39;00m\u001b[38;5;21;01mutils\u001b[39;00m\u001b[38;5;21;01m.\u001b[39;00m\u001b[38;5;21;01mdata\u001b[39;00m \u001b[38;5;28;01mimport\u001b[39;00m DataLoader, TensorDataset\n\u001b[1;32m----> 3\u001b[0m X_data, y_data \u001b[38;5;241m=\u001b[39m \u001b[43mtorch\u001b[49m\u001b[38;5;241m.\u001b[39mtensor(X_train)\u001b[38;5;241m.\u001b[39mfloat(), torch\u001b[38;5;241m.\u001b[39mtensor(y_train)\u001b[38;5;241m.\u001b[39mfloat()\n\u001b[0;32m      4\u001b[0m loader_train \u001b[38;5;241m=\u001b[39m DataLoader(TensorDataset(X_data, y_data), batch_size\u001b[38;5;241m=\u001b[39m\u001b[38;5;241m32\u001b[39m, shuffle\u001b[38;5;241m=\u001b[39m\u001b[38;5;28;01mTrue\u001b[39;00m)\n",
            "\u001b[1;31mNameError\u001b[0m: name 'torch' is not defined"
          ]
        }
      ],
      "source": [
        "from torch.utils.data import DataLoader, TensorDataset\n",
        "\n",
        "X_data, y_data = torch.tensor(X_train).float(), torch.tensor(y_train).float()\n",
        "loader_train = DataLoader(TensorDataset(X_data, y_data), batch_size=32, shuffle=True)"
      ]
    },
    {
      "cell_type": "code",
      "execution_count": null,
      "metadata": {
        "colab": {
          "base_uri": "https://localhost:8080/"
        },
        "id": "2mGeMlepOpGh",
        "outputId": "1785dea0-8b6d-40a5-b585-380dd3b33d48"
      },
      "outputs": [
        {
          "name": "stderr",
          "output_type": "stream",
          "text": [
            "\r[*********************100%***********************]  1 of 1 completed\n"
          ]
        },
        {
          "name": "stdout",
          "output_type": "stream",
          "text": [
            "epoch 1/200, loss: 0.09131\n",
            "epoch 2/200, loss: 0.00890\n",
            "epoch 3/200, loss: 0.00104\n",
            "epoch 4/200, loss: 0.00079\n",
            "epoch 5/200, loss: 0.00062\n",
            "epoch 6/200, loss: 0.00052\n",
            "epoch 7/200, loss: 0.00043\n",
            "epoch 8/200, loss: 0.00036\n",
            "epoch 9/200, loss: 0.00031\n",
            "epoch 10/200, loss: 0.00026\n",
            "epoch 11/200, loss: 0.00023\n",
            "epoch 12/200, loss: 0.00020\n",
            "epoch 13/200, loss: 0.00017\n",
            "epoch 14/200, loss: 0.00017\n",
            "epoch 15/200, loss: 0.00016\n",
            "epoch 16/200, loss: 0.00015\n",
            "epoch 17/200, loss: 0.00016\n",
            "epoch 18/200, loss: 0.00015\n",
            "epoch 19/200, loss: 0.00015\n",
            "epoch 20/200, loss: 0.00015\n",
            "epoch 21/200, loss: 0.00016\n",
            "epoch 22/200, loss: 0.00015\n",
            "epoch 23/200, loss: 0.00014\n",
            "epoch 24/200, loss: 0.00014\n",
            "epoch 25/200, loss: 0.00015\n",
            "epoch 26/200, loss: 0.00015\n",
            "epoch 27/200, loss: 0.00014\n",
            "epoch 28/200, loss: 0.00014\n",
            "epoch 29/200, loss: 0.00015\n",
            "epoch 30/200, loss: 0.00014\n",
            "epoch 31/200, loss: 0.00014\n",
            "epoch 32/200, loss: 0.00014\n",
            "epoch 33/200, loss: 0.00014\n",
            "epoch 34/200, loss: 0.00014\n",
            "epoch 35/200, loss: 0.00015\n",
            "epoch 36/200, loss: 0.00013\n",
            "epoch 37/200, loss: 0.00013\n",
            "epoch 38/200, loss: 0.00014\n",
            "epoch 39/200, loss: 0.00013\n",
            "epoch 40/200, loss: 0.00014\n",
            "epoch 41/200, loss: 0.00014\n",
            "epoch 42/200, loss: 0.00014\n",
            "epoch 43/200, loss: 0.00013\n",
            "epoch 44/200, loss: 0.00013\n",
            "epoch 45/200, loss: 0.00013\n",
            "epoch 46/200, loss: 0.00014\n",
            "epoch 47/200, loss: 0.00013\n",
            "epoch 48/200, loss: 0.00013\n",
            "epoch 49/200, loss: 0.00013\n",
            "epoch 50/200, loss: 0.00013\n",
            "epoch 51/200, loss: 0.00013\n",
            "epoch 52/200, loss: 0.00013\n",
            "epoch 53/200, loss: 0.00014\n",
            "epoch 54/200, loss: 0.00013\n",
            "epoch 55/200, loss: 0.00013\n",
            "epoch 56/200, loss: 0.00012\n",
            "epoch 57/200, loss: 0.00012\n",
            "epoch 58/200, loss: 0.00012\n",
            "epoch 59/200, loss: 0.00012\n",
            "epoch 60/200, loss: 0.00012\n",
            "epoch 61/200, loss: 0.00013\n",
            "epoch 62/200, loss: 0.00011\n",
            "epoch 63/200, loss: 0.00012\n",
            "epoch 64/200, loss: 0.00012\n",
            "epoch 65/200, loss: 0.00011\n",
            "epoch 66/200, loss: 0.00012\n",
            "epoch 67/200, loss: 0.00012\n",
            "epoch 68/200, loss: 0.00013\n",
            "epoch 69/200, loss: 0.00011\n",
            "epoch 70/200, loss: 0.00011\n",
            "epoch 71/200, loss: 0.00011\n",
            "epoch 72/200, loss: 0.00012\n",
            "epoch 73/200, loss: 0.00012\n",
            "epoch 74/200, loss: 0.00011\n",
            "epoch 75/200, loss: 0.00011\n",
            "epoch 76/200, loss: 0.00011\n",
            "epoch 77/200, loss: 0.00011\n",
            "epoch 78/200, loss: 0.00011\n",
            "epoch 79/200, loss: 0.00011\n",
            "epoch 80/200, loss: 0.00012\n",
            "epoch 81/200, loss: 0.00011\n",
            "epoch 82/200, loss: 0.00012\n",
            "epoch 83/200, loss: 0.00011\n",
            "epoch 84/200, loss: 0.00011\n",
            "epoch 85/200, loss: 0.00011\n",
            "epoch 86/200, loss: 0.00011\n",
            "epoch 87/200, loss: 0.00011\n",
            "epoch 88/200, loss: 0.00011\n",
            "epoch 89/200, loss: 0.00011\n",
            "epoch 90/200, loss: 0.00011\n",
            "epoch 91/200, loss: 0.00011\n",
            "epoch 92/200, loss: 0.00011\n",
            "epoch 93/200, loss: 0.00011\n",
            "epoch 94/200, loss: 0.00011\n",
            "epoch 95/200, loss: 0.00011\n",
            "epoch 96/200, loss: 0.00011\n",
            "epoch 97/200, loss: 0.00010\n",
            "epoch 98/200, loss: 0.00010\n",
            "epoch 99/200, loss: 0.00010\n",
            "epoch 100/200, loss: 0.00012\n",
            "epoch 101/200, loss: 0.00010\n",
            "epoch 102/200, loss: 0.00010\n",
            "epoch 103/200, loss: 0.00010\n",
            "epoch 104/200, loss: 0.00010\n",
            "epoch 105/200, loss: 0.00010\n",
            "epoch 106/200, loss: 0.00011\n",
            "epoch 107/200, loss: 0.00010\n",
            "epoch 108/200, loss: 0.00010\n",
            "epoch 109/200, loss: 0.00010\n",
            "epoch 110/200, loss: 0.00010\n",
            "epoch 111/200, loss: 0.00010\n",
            "epoch 112/200, loss: 0.00010\n",
            "epoch 113/200, loss: 0.00010\n",
            "epoch 114/200, loss: 0.00010\n",
            "epoch 115/200, loss: 0.00010\n",
            "epoch 116/200, loss: 0.00010\n",
            "epoch 117/200, loss: 0.00009\n",
            "epoch 118/200, loss: 0.00009\n",
            "epoch 119/200, loss: 0.00010\n",
            "epoch 120/200, loss: 0.00010\n",
            "epoch 121/200, loss: 0.00010\n",
            "epoch 122/200, loss: 0.00010\n",
            "epoch 123/200, loss: 0.00009\n",
            "epoch 124/200, loss: 0.00009\n",
            "epoch 125/200, loss: 0.00010\n",
            "epoch 126/200, loss: 0.00009\n",
            "epoch 127/200, loss: 0.00009\n",
            "epoch 128/200, loss: 0.00010\n",
            "epoch 129/200, loss: 0.00009\n",
            "epoch 130/200, loss: 0.00009\n",
            "epoch 131/200, loss: 0.00009\n",
            "epoch 132/200, loss: 0.00009\n",
            "epoch 133/200, loss: 0.00009\n",
            "epoch 134/200, loss: 0.00009\n",
            "epoch 135/200, loss: 0.00009\n",
            "epoch 136/200, loss: 0.00009\n",
            "epoch 137/200, loss: 0.00010\n",
            "epoch 138/200, loss: 0.00009\n",
            "epoch 139/200, loss: 0.00009\n",
            "epoch 140/200, loss: 0.00009\n",
            "epoch 141/200, loss: 0.00009\n",
            "epoch 142/200, loss: 0.00009\n",
            "epoch 143/200, loss: 0.00009\n",
            "epoch 144/200, loss: 0.00009\n",
            "epoch 145/200, loss: 0.00009\n",
            "epoch 146/200, loss: 0.00009\n",
            "epoch 147/200, loss: 0.00009\n",
            "epoch 148/200, loss: 0.00009\n",
            "epoch 149/200, loss: 0.00009\n",
            "epoch 150/200, loss: 0.00009\n",
            "epoch 151/200, loss: 0.00009\n",
            "epoch 152/200, loss: 0.00008\n",
            "epoch 153/200, loss: 0.00009\n",
            "epoch 154/200, loss: 0.00009\n",
            "epoch 155/200, loss: 0.00009\n",
            "epoch 156/200, loss: 0.00009\n",
            "epoch 157/200, loss: 0.00009\n",
            "epoch 158/200, loss: 0.00010\n",
            "epoch 159/200, loss: 0.00008\n",
            "epoch 160/200, loss: 0.00009\n",
            "epoch 161/200, loss: 0.00010\n",
            "epoch 162/200, loss: 0.00010\n",
            "epoch 163/200, loss: 0.00009\n",
            "epoch 164/200, loss: 0.00009\n",
            "epoch 165/200, loss: 0.00008\n",
            "epoch 166/200, loss: 0.00009\n",
            "epoch 167/200, loss: 0.00009\n",
            "epoch 168/200, loss: 0.00009\n",
            "epoch 169/200, loss: 0.00008\n",
            "epoch 170/200, loss: 0.00009\n",
            "epoch 171/200, loss: 0.00009\n",
            "epoch 172/200, loss: 0.00009\n",
            "epoch 173/200, loss: 0.00008\n",
            "epoch 174/200, loss: 0.00008\n",
            "epoch 175/200, loss: 0.00009\n",
            "epoch 176/200, loss: 0.00009\n",
            "epoch 177/200, loss: 0.00009\n",
            "epoch 178/200, loss: 0.00008\n",
            "epoch 179/200, loss: 0.00008\n",
            "epoch 180/200, loss: 0.00008\n",
            "epoch 181/200, loss: 0.00009\n",
            "epoch 182/200, loss: 0.00009\n",
            "epoch 183/200, loss: 0.00009\n",
            "epoch 184/200, loss: 0.00008\n",
            "epoch 185/200, loss: 0.00008\n",
            "epoch 186/200, loss: 0.00009\n",
            "epoch 187/200, loss: 0.00009\n",
            "epoch 188/200, loss: 0.00008\n",
            "epoch 189/200, loss: 0.00009\n",
            "epoch 190/200, loss: 0.00009\n",
            "epoch 191/200, loss: 0.00008\n",
            "epoch 192/200, loss: 0.00008\n",
            "epoch 193/200, loss: 0.00008\n",
            "epoch 194/200, loss: 0.00008\n",
            "epoch 195/200, loss: 0.00009\n",
            "epoch 196/200, loss: 0.00008\n",
            "epoch 197/200, loss: 0.00009\n",
            "epoch 198/200, loss: 0.00009\n",
            "epoch 199/200, loss: 0.00008\n",
            "epoch 200/200, loss: 0.00008\n"
          ]
        }
      ],
      "source": []
    },
    {
      "cell_type": "code",
      "execution_count": null,
      "metadata": {
        "id": "imOSrKADRhOr"
      },
      "outputs": [],
      "source": [
        "model.eval()\n",
        "\n",
        "y_pred_list = []\n",
        "with torch.no_grad():\n",
        "  for X_batch, _ in loader_test:\n",
        "    y_pred = model(X_batch).numpy()\n",
        "    #y_pred = model(X_batch).cpu().numpy()\n",
        "    y_pred_list.append(y_pred)\n",
        "\n",
        "y_pred = np.concatenate(y_pred_list, axis=0)"
      ]
    },
    {
      "cell_type": "code",
      "execution_count": null,
      "metadata": {
        "colab": {
          "base_uri": "https://localhost:8080/",
          "height": 485
        },
        "id": "04vRjZSyQ28r",
        "outputId": "03f5ec01-9fd1-4d59-cce9-1f3dd2ad3b78"
      },
      "outputs": [
        {
          "data": {
            "text/plain": [
              "[<matplotlib.lines.Line2D at 0x728b89298680>]"
            ]
          },
          "execution_count": 168,
          "metadata": {},
          "output_type": "execute_result"
        },
        {
          "data": {
            "image/png": "[encoded data removed]",
            "text/plain": [
              "<Figure size 640x480 with 1 Axes>"
            ]
          },
          "metadata": {},
          "output_type": "display_data"
        }
      ],
      "source": [
        "import matplotlib.pyplot as plt\n",
        "\n",
        "y_test_ori = scaler.inverse_transform(y_test)\n",
        "y_pred_ori = scaler.inverse_transform(y_pred)\n",
        "\n",
        "plt.xticks(rotation=45)\n",
        "plt.plot(df.index[train_size + seq_len:], y_test_ori)\n",
        "plt.plot(df.index[train_size + seq_len:], y_pred_ori)"
      ]
    },
    {
      "cell_type": "code",
      "execution_count": null,
      "metadata": {
        "colab": {
          "base_uri": "https://localhost:8080/"
        },
        "id": "zETuhTcKQ4Wz",
        "outputId": "2aa0eee9-9cd4-4d17-d53f-956bfee43851"
      },
      "outputs": [
        {
          "name": "stdout",
          "output_type": "stream",
          "text": [
            "MSE: 2.65828, RMSE: 1.63042, MAE: 1.14909, R2: 0.94367\n"
          ]
        }
      ],
      "source": [
        "from sklearn.metrics import mean_squared_error, mean_absolute_error, r2_score\n",
        "\n",
        "mse = mean_squared_error(y_test_ori, y_pred_ori)\n",
        "rmse = np.sqrt(mse)\n",
        "mae = mean_absolute_error(y_test_ori, y_pred_ori)\n",
        "r2 = r2_score(y_test_ori, y_pred_ori)\n",
        "\n",
        "print(f\"MSE: {mse:.5f}, RMSE: {rmse:.5f}, MAE: {mae:.5f}, R2: {r2:.5f}\")"
      ]
    },
    {
      "cell_type": "code",
      "execution_count": null,
      "metadata": {
        "id": "ZII2s9VgSmkl"
      },
      "outputs": [],
      "source": []
    }
  ],
  "metadata": {
    "colab": {
      "provenance": []
    },
    "kernelspec": {
      "display_name": "torch_book",
      "language": "python",
      "name": "python3"
    },
    "language_info": {
      "codemirror_mode": {
        "name": "ipython",
        "version": 3
      },
      "file_extension": ".py",
      "mimetype": "text/x-python",
      "name": "python",
      "nbconvert_exporter": "python",
      "pygments_lexer": "ipython3",
      "version": "3.11.7"
    }
  },
  "nbformat": 4,
  "nbformat_minor": 0
}
