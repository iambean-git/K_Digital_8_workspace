{
 "cells": [
  {
   "cell_type": "code",
   "execution_count": 2,
   "metadata": {},
   "outputs": [],
   "source": [
    "import pandas as pd\n",
    "import numpy as np"
   ]
  },
  {
   "cell_type": "markdown",
   "metadata": {},
   "source": [
    "학습 목표\n",
    "1. loc, iloc를 활용한 데이터 선택 및 조건 필터링0\n",
    "2. 누락 데이터 처리(삭제 및 대체)\n",
    "3. 주요 변수와 주택 가격 간의 관계를 산포도로 시각화\n",
    "4. 변수 선택의 중요성을 이해하고 데이터 해석 능력 향상"
   ]
  },
  {
   "cell_type": "code",
   "execution_count": 6,
   "metadata": {
    "colab": {
     "base_uri": "https://localhost:8080/"
    },
    "executionInfo": {
     "elapsed": 315,
     "status": "ok",
     "timestamp": 1714454774916,
     "user": {
      "displayName": "Bonghee Hong",
      "userId": "17805293653427923937"
     },
     "user_tz": -540
    },
    "id": "LMCBvBk5pK2J",
    "outputId": "fb31d7b9-907d-44b7-fdef-40e5ed6e9003"
   },
   "outputs": [
    {
     "name": "stderr",
     "output_type": "stream",
     "text": [
      "<>:3: SyntaxWarning: invalid escape sequence '\\s'\n",
      "<>:3: SyntaxWarning: invalid escape sequence '\\s'\n",
      "C:\\Users\\user\\AppData\\Local\\Temp\\ipykernel_7220\\2852506701.py:3: SyntaxWarning: invalid escape sequence '\\s'\n",
      "  raw_df = pd.read_csv(data_url, sep=\"\\s+\", skiprows=22, header=None)\n"
     ]
    },
    {
     "name": "stdout",
     "output_type": "stream",
     "text": [
      "데이터의 형태: (506, 13)\n"
     ]
    }
   ],
   "source": [
    "# 보스턴 주택 데이터셋이 1.2 버전에서 삭제되므로 다음과 같이 코드를 수정합니다.\n",
    "data_url = \"http://lib.stat.cmu.edu/datasets/boston\"\n",
    "raw_df = pd.read_csv(data_url, sep=\"\\s+\", skiprows=22, header=None)\n",
    "data = np.hstack([raw_df.values[::2, :], raw_df.values[1::2, :2]])\n",
    "target = raw_df.values[1::2, 2]\n",
    "print(\"데이터의 형태:\", data.shape)"
   ]
  },
  {
   "cell_type": "code",
   "execution_count": 5,
   "metadata": {},
   "outputs": [
    {
     "name": "stderr",
     "output_type": "stream",
     "text": [
      "<>:3: SyntaxWarning: invalid escape sequence '\\s'\n",
      "<>:3: SyntaxWarning: invalid escape sequence '\\s'\n",
      "C:\\Users\\user\\AppData\\Local\\Temp\\ipykernel_7220\\3629633481.py:3: SyntaxWarning: invalid escape sequence '\\s'\n",
      "  raw_df = pd.read_csv(data_url, sep=\"\\s+\", skiprows=22, header=None)\n"
     ]
    }
   ],
   "source": [
    "# 보스턴 주택 데이터 불러오기\n",
    "data_url = \"http://lib.stat.cmu.edu/datasets/boston\"\n",
    "raw_df = pd.read_csv(data_url, sep=\"\\s+\", skiprows=22, header=None)"
   ]
  },
  {
   "cell_type": "code",
   "execution_count": 7,
   "metadata": {},
   "outputs": [
    {
     "name": "stdout",
     "output_type": "stream",
     "text": [
      "          0      1      2    3      4      5     6       7    8      9     10\n",
      "0    0.00632  18.00   2.31  0.0  0.538  6.575  65.2  4.0900  1.0  296.0  15.3\n",
      "1  396.90000   4.98  24.00  NaN    NaN    NaN   NaN     NaN  NaN    NaN   NaN\n",
      "2    0.02731   0.00   7.07  0.0  0.469  6.421  78.9  4.9671  2.0  242.0  17.8\n",
      "3  396.90000   9.14  21.60  NaN    NaN    NaN   NaN     NaN  NaN    NaN   NaN\n",
      "4    0.02729   0.00   7.07  0.0  0.469  7.185  61.1  4.9671  2.0  242.0  17.8\n",
      "<class 'pandas.core.frame.DataFrame'>\n",
      "RangeIndex: 1012 entries, 0 to 1011\n",
      "Data columns (total 11 columns):\n",
      " #   Column  Non-Null Count  Dtype  \n",
      "---  ------  --------------  -----  \n",
      " 0   0       1012 non-null   float64\n",
      " 1   1       1012 non-null   float64\n",
      " 2   2       1012 non-null   float64\n",
      " 3   3       506 non-null    float64\n",
      " 4   4       506 non-null    float64\n",
      " 5   5       506 non-null    float64\n",
      " 6   6       506 non-null    float64\n",
      " 7   7       506 non-null    float64\n",
      " 8   8       506 non-null    float64\n",
      " 9   9       506 non-null    float64\n",
      " 10  10      506 non-null    float64\n",
      "dtypes: float64(11)\n",
      "memory usage: 87.1 KB\n",
      "None\n"
     ]
    }
   ],
   "source": [
    "# 데이터프레임의 구조 확인\n",
    "print(raw_df.head())  # 데이터 샘플 출력\n",
    "print(raw_df.info())  # 데이터프레임 정보 (행, 열, 데이터 타입 등)\n"
   ]
  },
  {
   "cell_type": "code",
   "execution_count": 9,
   "metadata": {},
   "outputs": [
    {
     "name": "stdout",
     "output_type": "stream",
     "text": [
      "      CRIM    ZN  INDUS  CHAS    NOX     RM   AGE     DIS  RAD    TAX  \\\n",
      "0  0.00632  18.0   2.31   0.0  0.538  6.575  65.2  4.0900  1.0  296.0   \n",
      "1  0.02731   0.0   7.07   0.0  0.469  6.421  78.9  4.9671  2.0  242.0   \n",
      "2  0.02729   0.0   7.07   0.0  0.469  7.185  61.1  4.9671  2.0  242.0   \n",
      "3  0.03237   0.0   2.18   0.0  0.458  6.998  45.8  6.0622  3.0  222.0   \n",
      "4  0.06905   0.0   2.18   0.0  0.458  7.147  54.2  6.0622  3.0  222.0   \n",
      "\n",
      "   PTRATIO       B  LSTAT  MEDV  \n",
      "0     15.3  396.90   4.98  24.0  \n",
      "1     17.8  396.90   9.14  21.6  \n",
      "2     17.8  392.83   4.03  34.7  \n",
      "3     18.7  394.63   2.94  33.4  \n",
      "4     18.7  396.90   5.33  36.2  \n",
      "<class 'pandas.core.frame.DataFrame'>\n",
      "RangeIndex: 506 entries, 0 to 505\n",
      "Data columns (total 14 columns):\n",
      " #   Column   Non-Null Count  Dtype  \n",
      "---  ------   --------------  -----  \n",
      " 0   CRIM     506 non-null    float64\n",
      " 1   ZN       506 non-null    float64\n",
      " 2   INDUS    506 non-null    float64\n",
      " 3   CHAS     506 non-null    float64\n",
      " 4   NOX      506 non-null    float64\n",
      " 5   RM       506 non-null    float64\n",
      " 6   AGE      506 non-null    float64\n",
      " 7   DIS      506 non-null    float64\n",
      " 8   RAD      506 non-null    float64\n",
      " 9   TAX      506 non-null    float64\n",
      " 10  PTRATIO  506 non-null    float64\n",
      " 11  B        506 non-null    float64\n",
      " 12  LSTAT    506 non-null    float64\n",
      " 13  MEDV     506 non-null    float64\n",
      "dtypes: float64(14)\n",
      "memory usage: 55.5 KB\n",
      "None\n"
     ]
    }
   ],
   "source": [
    "import numpy as np\n",
    "\n",
    "# 데이터 정리 및 컬럼 이름 설정\n",
    "data = np.hstack([raw_df.values[::2, :], raw_df.values[1::2, :2]])\n",
    "target = raw_df.values[1::2, 2]\n",
    "\n",
    "columns = [\n",
    "    \"CRIM\", \"ZN\", \"INDUS\", \"CHAS\", \"NOX\", \"RM\", \"AGE\", \"DIS\", \"RAD\", \"TAX\", \n",
    "    \"PTRATIO\", \"B\", \"LSTAT\"\n",
    "]\n",
    "df = pd.DataFrame(data, columns=columns)\n",
    "df['MEDV'] = target  # MEDV 추가\n",
    "print(df.head())  # 컬럼 이름이 포함된 데이터 출력\n",
    "print(df.info())  # 정리된 데이터프레임의 정보 확인\n"
   ]
  },
  {
   "cell_type": "markdown",
   "metadata": {},
   "source": [
    "컬럼 이름과 의미\n",
    "CRIM (per capita crime rate by town)\n",
    "\n",
    "지역별 인구당 범죄율.\n",
    "ZN (proportion of residential land zoned for lots over 25,000 sq.ft.)\n",
    "\n",
    "25,000 평방피트 이상의 대규모 주택 부지에 할당된 주거 지역의 비율.\n",
    "INDUS (proportion of non-retail business acres per town)\n",
    "\n",
    "비소매 상업 지역 면적 비율.\n",
    "CHAS (Charles River dummy variable)\n",
    "\n",
    "찰스 강 근처에 위치한 지역 여부 (1: 근처, 0: 그 외).\n",
    "NOX (nitric oxides concentration in parts per 10 million)\n",
    "\n",
    "일산화질소 농도 (10ppm 단위).\n",
    "RM (average number of rooms per dwelling)\n",
    "\n",
    "주택당 평균 방 개수.\n",
    "AGE (proportion of owner-occupied units built prior to 1940)\n",
    "\n",
    "1940년 이전에 건축된 자가 소유 주택 비율.\n",
    "DIS (weighted distances to five Boston employment centers)\n",
    "\n",
    "보스턴 고용 센터 5곳까지의 가중 거리.\n",
    "RAD (index of accessibility to radial highways)\n",
    "\n",
    "방사형 고속도로 접근성 지수.\n",
    "TAX (full-value property tax rate per $10,000)\n",
    "\n",
    "10,000달러당 재산세율.\n",
    "PTRATIO (pupil-teacher ratio by town)\n",
    "\n",
    "지역별 학생-교사 비율.\n",
    "B (1000(Bk - 0.63)^2 where Bk is the proportion of Black population by town)\n",
    "\n",
    "지역별 흑인 인구 비율 (비선형 변환 적용).\n",
    "LSTAT (percentage of lower status of the population)\n",
    "\n",
    "저소득층 인구 비율.\n",
    "MEDV (Median value of owner-occupied homes in $1000's)\n",
    "\n",
    "자가 소유 주택의 중앙값 (단위: $1,000).\n"
   ]
  },
  {
   "cell_type": "markdown",
   "metadata": {},
   "source": [
    "### 실습 과제\n",
    "#### 과제 1: 데이터 선택 및 조건 필터링\n",
    "1. iloc를 사용하여 첫 15개의 데이터를 출력하고, CRIM, RM, MEDV 열만 선택하세요.\n",
    "2. loc를 사용하여 RM 값이 6.5 이상인 데이터만 선택하고, 해당 데이터의 평균 MEDV를 계산하세요.\n",
    "3. TAX 값이 400 이상이고 NOX 값이 0.6 이상인 데이터를 선택하세요.\n",
    "\n"
   ]
  },
  {
   "cell_type": "code",
   "execution_count": 24,
   "metadata": {},
   "outputs": [
    {
     "name": "stdout",
     "output_type": "stream",
     "text": [
      "\n",
      "1. 데이터 선택 및 조건 필터링\n",
      "       CRIM     RM  MEDV\n",
      "0   0.00632  6.575  24.0\n",
      "1   0.02731  6.421  21.6\n",
      "2   0.02729  7.185  34.7\n",
      "3   0.03237  6.998  33.4\n",
      "4   0.06905  7.147  36.2\n",
      "5   0.02985  6.430  28.7\n",
      "6   0.08829  6.012  22.9\n",
      "7   0.14455  6.172  27.1\n",
      "8   0.21124  5.631  16.5\n",
      "9   0.17004  6.004  18.9\n",
      "10  0.22489  6.377  15.0\n",
      "11  0.11747  6.009  18.9\n",
      "12  0.09378  5.889  21.7\n",
      "13  0.62976  5.949  20.4\n",
      "14  0.63796  6.096  18.2\n",
      "15  0.62739  5.834  19.9\n",
      "\n",
      "2. RM >= 6.5인 데이터 평균 MEDV:\n",
      "31.061184210526317\n",
      "\n",
      "조건에 맞는 데이터:\n",
      "\n",
      "        CRIM   ZN  INDUS  CHAS    NOX     RM   AGE     DIS  RAD    TAX  \\\n",
      "127  0.25915  0.0  21.89   0.0  0.624  5.693  96.0  1.7883  4.0  437.0   \n",
      "128  0.32543  0.0  21.89   0.0  0.624  6.431  98.8  1.8125  4.0  437.0   \n",
      "129  0.88125  0.0  21.89   0.0  0.624  5.637  94.7  1.9799  4.0  437.0   \n",
      "130  0.34006  0.0  21.89   0.0  0.624  6.458  98.9  2.1185  4.0  437.0   \n",
      "131  1.19294  0.0  21.89   0.0  0.624  6.326  97.7  2.2710  4.0  437.0   \n",
      "..       ...  ...    ...   ...    ...    ...   ...     ...  ...    ...   \n",
      "488  0.15086  0.0  27.74   0.0  0.609  5.454  92.7  1.8209  4.0  711.0   \n",
      "489  0.18337  0.0  27.74   0.0  0.609  5.414  98.3  1.7554  4.0  711.0   \n",
      "490  0.20746  0.0  27.74   0.0  0.609  5.093  98.0  1.8226  4.0  711.0   \n",
      "491  0.10574  0.0  27.74   0.0  0.609  5.983  98.8  1.8681  4.0  711.0   \n",
      "492  0.11132  0.0  27.74   0.0  0.609  5.983  83.5  2.1099  4.0  711.0   \n",
      "\n",
      "     PTRATIO       B  LSTAT  MEDV  \n",
      "127     21.2  392.11  17.19  16.2  \n",
      "128     21.2  396.90  15.39  18.0  \n",
      "129     21.2  396.90  18.34  14.3  \n",
      "130     21.2  395.04  12.60  19.2  \n",
      "131     21.2  396.90  12.26  19.6  \n",
      "..       ...     ...    ...   ...  \n",
      "488     20.1  395.09  18.06  15.2  \n",
      "489     20.1  344.05  23.97   7.0  \n",
      "490     20.1  318.43  29.68   8.1  \n",
      "491     20.1  390.11  18.07  13.6  \n",
      "492     20.1  396.90  13.35  20.1  \n",
      "\n",
      "[155 rows x 14 columns]\n"
     ]
    }
   ],
   "source": [
    "# 과제 1: 데이터 선택 및 조건 필터링\n",
    "\n",
    "#문제1\n",
    "print(\"\\n1. 데이터 선택 및 조건 필터링\")\n",
    "print(df.loc[:15,['CRIM','RM',\"MEDV\"]])  # 첫 15개 데이터, CRIM, RM, MEDV 열\n",
    "\n",
    "#문제2\n",
    "print(\"\\n2. RM >= 6.5인 데이터 평균 MEDV:\", )\n",
    "f_data = df.loc[df.RM>=6.5]\n",
    "print(f_data['MEDV'].mean())\n",
    "\n",
    "#문제3\n",
    "print(\"\\n조건에 맞는 데이터:\\n\", )\n",
    "print(df.loc[(df.TAX>=400) & (df.NOX>=0.6)])"
   ]
  },
  {
   "cell_type": "markdown",
   "metadata": {},
   "source": [
    "\n",
    "과제 2: 누락 데이터 처리\n",
    "1. DIS 열에 무작위로 15%의 데이터를 NaN 값으로 설정하세요.\n",
    "2. 누락 데이터를 확인하고 다음 방법으로 처리하세요:\n",
    "누락 데이터를 포함하는 행을 삭제.\n",
    "누락된 데이터를 DIS 열의 중앙값으로 대체.\n",
    "\n",
    "과제 3: 주요 변수와 주택 가격의 관계 분석\n",
    "1. 주택 가격(MEDV)에 가장 큰 영향을 미칠 것으로 보이는 변수를 선택하세요:\n",
    "예시: RM(방의 개수), LSTAT(낮은 사회경제적 지위 비율), PTRATIO(학생-교사 비율).\n",
    "2. 선택한 변수와 MEDV 간의 관계를 산포도로 시각화하세요.\n",
    "X축: 선택한 변수\n",
    "Y축: MEDV\n",
    "산포도에 적절한 제목과 축 레이블 추가."
   ]
  },
  {
   "cell_type": "code",
   "execution_count": null,
   "metadata": {},
   "outputs": [],
   "source": [
    "\n",
    "\n",
    "# 과제 2: 누락 데이터 처리\n",
    "\n",
    "print(\"\\n2. 누락 데이터 처리\")\n",
    "print(\"누락 데이터 개수:\\n\", )\n",
    "\n",
    "# 2.1. 누락된 행 삭제\n",
    "\n",
    "print(\"\\n누락 데이터 삭제 후 형태:\", )\n",
    "\n",
    "# 2.2. 중앙값으로 누락 데이터 대체\n",
    "\n",
    "print(\"\\n누락 데이터 중앙값 대체 후 샘플:\\n\", )\n",
    "\n",
    "# 과제 3: 주요 변수와 주택 가격의 관계 분석\n",
    "plt.figure(figsize=(10, 6))\n",
    "\n",
    "# 예: RM과 MEDV의 관계\n",
    "plt.scatter(df['RM'], df['MEDV'], alpha=0.6, c='blue', label='RM vs MEDV')\n",
    "plt.title('Relationship between RM and MEDV', fontsize=14)\n",
    "plt.xlabel('RM (Average number of rooms per dwelling)', fontsize=12)\n",
    "plt.ylabel('MEDV (Median value of owner-occupied homes)', fontsize=12)\n",
    "plt.grid(True, linestyle='--', alpha=0.5)\n",
    "plt.legend()\n",
    "plt.show()\n",
    "\n",
    "# 예: LSTAT과 MEDV의 관계\n",
    "plt.figure(figsize=(10, 6))\n",
    "plt.scatter(df['LSTAT'], df['MEDV'], alpha=0.6, c='red', label='LSTAT vs MEDV')\n",
    "plt.title('Relationship between LSTAT and MEDV', fontsize=14)\n",
    "plt.xlabel('LSTAT (% lower status of the population)', fontsize=12)\n",
    "plt.ylabel('MEDV (Median value of owner-occupied homes)', fontsize=12)\n",
    "plt.grid(True, linestyle='--', alpha=0.5)\n",
    "plt.legend()\n",
    "plt.show()\n"
   ]
  }
 ],
 "metadata": {
  "colab": {
   "provenance": [
    {
     "file_id": "1zFYqKAUJzR5sL368FyiEAchvOcekJj27",
     "timestamp": 1697349984423
    }
   ]
  },
  "environment": {
   "kernel": "python3",
   "name": "common-cpu.m102",
   "type": "gcloud",
   "uri": "gcr.io/deeplearning-platform-release/base-cpu:m102"
  },
  "kernelspec": {
   "display_name": "Python 3",
   "language": "python",
   "name": "python3"
  },
  "language_info": {
   "codemirror_mode": {
    "name": "ipython",
    "version": 3
   },
   "file_extension": ".py",
   "mimetype": "text/x-python",
   "name": "python",
   "nbconvert_exporter": "python",
   "pygments_lexer": "ipython3",
   "version": "3.12.6"
  },
  "latex_metadata": {
   "author": "Andreas C. M\\\"ller",
   "title": "Machine Learning with Python"
  }
 },
 "nbformat": 4,
 "nbformat_minor": 4
}
