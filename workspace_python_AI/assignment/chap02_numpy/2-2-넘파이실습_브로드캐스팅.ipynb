{
 "cells": [
  {
   "cell_type": "markdown",
   "metadata": {},
   "source": [
    "# 실습 과제2: 벡터화 연산과 브로드캐스팅 이해하기\n",
    "\n",
    "### 문제 1: 기본 벡터화와 브로드캐스팅 이해하기\n",
    "\n",
    "x = np.linspace(0, 5, 50)와 y = np.linspace(0, 5, 50)[:, np.newaxis]를 생성하세요. 여기서 x는 (50,)의 1차원 배열이고, y는 [:, np.newaxis]를 사용하여 (50, 1)의 2차원 배열로 변환됩니다.\n",
    "\n",
    "x와 y의 형태를 출력하여 브로드캐스팅이 어떻게 이루어지는지 확인하세요."
   ]
  },
  {
   "cell_type": "code",
   "execution_count": 1,
   "metadata": {},
   "outputs": [],
   "source": [
    "import numpy as np"
   ]
  },
  {
   "cell_type": "code",
   "execution_count": 57,
   "metadata": {},
   "outputs": [
    {
     "name": "stdout",
     "output_type": "stream",
     "text": [
      "x의 형태: (2,)\n",
      "x is \n",
      " [0. 5.]\n",
      "\n",
      "y의 형태: (2, 1)\n",
      "y is \n",
      " [[0.]\n",
      " [5.]]\n"
     ]
    }
   ],
   "source": [
    "x = np.linspace(0, 5, 2)\n",
    "y = np.linspace(0, 5, 2)[:,np.newaxis]\n",
    "\n",
    "print(\"x의 형태:\", x.shape)\n",
    "print(\"x is \\n\" , x)\n",
    "print()\n",
    "print(\"y의 형태:\", y.shape)\n",
    "print(\"y is \\n\" , y)"
   ]
  },
  {
   "cell_type": "markdown",
   "metadata": {},
   "source": [
    "### 문제 2: 브로드캐스팅을 활용하여 수식 계산하기\n",
    "z = np.sin(x) ** 200 + np.cos(300 + y * x) * np.cos(x)를 사용하여 z 배열을 계산하세요.\n",
    "\n",
    "z 배열의 형태를 출력하고, 브로드캐스팅에 의해 z의 형태가 (50, 50)이 되었는지 확인하세요.\n"
   ]
  },
  {
   "cell_type": "code",
   "execution_count": null,
   "metadata": {},
   "outputs": [
    {
     "name": "stdout",
     "output_type": "stream",
     "text": [
      "z의 형태: (2, 2)\n",
      "z is \n",
      " [[ 0. 40.]\n",
      " [ 0. 65.]]\n"
     ]
    }
   ],
   "source": [
    "z = np.sin(x) ** 200 + np.cos(300 + y * x) * np.cos(x)\n",
    "\n",
    "print(\"z의 형태:\", z.shape)\n",
    "print(\"z is \\n\" , z)"
   ]
  },
  {
   "cell_type": "markdown",
   "metadata": {},
   "source": [
    "### 문제 3: 벡터화 연산으로 계산 속도 비교하기\n",
    "for 반복문을 사용해 z의 각 요소를 수동으로 계산하는 코드를 작성하고, 벡터화 연산으로 구한 z와 같은 결과가 나오는지 확인하세요.\n",
    "\n",
    "timeit 모듈을 사용하여 반복문을 통한 계산과 벡터화 연산을 각각 수행하는 데 걸리는 시간을 측정하고, 두 연산 방식의 속도 차이를 비교하세요."
   ]
  },
  {
   "cell_type": "code",
   "execution_count": 50,
   "metadata": {},
   "outputs": [],
   "source": [
    "def for_cal():\n",
    "\n",
    "    z2 = np.zeros((50,50))\n",
    "\n",
    "    for i in range(len(x)) :\n",
    "        for j in range(len(y)) :\n",
    "            z2[i, j] = np.sin(x[j]) ** 200 + np.cos(300 + y[i, 0] * x[j]) * np.cos(x[j])\n",
    "\n",
    "    return z2"
   ]
  },
  {
   "cell_type": "code",
   "execution_count": 52,
   "metadata": {},
   "outputs": [
    {
     "name": "stdout",
     "output_type": "stream",
     "text": [
      "33.7 μs ± 152 ns per loop (mean ± std. dev. of 7 runs, 10,000 loops each)\n"
     ]
    }
   ],
   "source": [
    "%timeit z = np.sin(x) ** 200 + np.cos(300 + y * x) * np.cos(x)"
   ]
  },
  {
   "cell_type": "code",
   "execution_count": 51,
   "metadata": {},
   "outputs": [
    {
     "name": "stdout",
     "output_type": "stream",
     "text": [
      "6.76 ms ± 64.1 μs per loop (mean ± std. dev. of 7 runs, 100 loops each)\n"
     ]
    }
   ],
   "source": [
    "%timeit for_cal()"
   ]
  },
  {
   "cell_type": "markdown",
   "metadata": {},
   "source": [
    "\n",
    "### 문제 4: 그래프를 사용해 시각적으로 결과 확인하기\n",
    "z 값을 시각적으로 이해하기 위해 matplotlib 라이브러리를 사용하여 z의 값을 컬러 맵으로 시각화하세요.\n",
    "\n",
    "plt.imshow(z, extent=(0, 5, 0, 5), origin='lower', cmap='viridis')와 plt.colorbar()를 사용해 결과를 시각화하고, 그래프의 형태를 확인하세요."
   ]
  },
  {
   "cell_type": "code",
   "execution_count": 56,
   "metadata": {},
   "outputs": [],
   "source": [
    "import matplotlib.pyplot as plt"
   ]
  }
 ],
 "metadata": {
  "kernelspec": {
   "display_name": "Python 3",
   "language": "python",
   "name": "python3"
  },
  "language_info": {
   "codemirror_mode": {
    "name": "ipython",
    "version": 3
   },
   "file_extension": ".py",
   "mimetype": "text/x-python",
   "name": "python",
   "nbconvert_exporter": "python",
   "pygments_lexer": "ipython3",
   "version": "3.12.6"
  }
 },
 "nbformat": 4,
 "nbformat_minor": 2
}
