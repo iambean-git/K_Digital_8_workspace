{
 "cells": [
  {
   "cell_type": "markdown",
   "metadata": {},
   "source": [
    "책 기준 p363-424 진행 예정"
   ]
  },
  {
   "cell_type": "markdown",
   "metadata": {},
   "source": [
    "## 머신러닝이란?\n",
    "\n",
    "데이터 세트에서 특정 패턴을 찾는 알고리즘\n",
    "(P.364 머신러닝이란 무엇인가 한번 읽어보기)\n",
    "\n",
    "\n",
    "### Categories of Machine Learning (머신러닝의 범주)\n",
    "가장 기본적인 수준에서 머신러닝은 두가지(지도학습/비지도학습) 주요 유형으로 나뉜다.\n",
    "\n",
    "**지도학습** \n",
    "- data에 상응하는 label을 부여해서 학습 시킴 \n",
    "- 이는 다시 분류, 회기로 나뉨\n",
    "\n",
    "**비지도학습**  : \n",
    "- 레이블을 참조하지 않고 데이터세트의 특징을 모델링(즉, label이 없음)함.\n",
    "- 군집화, 차원 축소 같은 작업을 포함\n",
    "\n",
    "\n",
    "### 머신러닝 응용의 정성적 사례\n",
    "\n",
    "#### 분류(**classification**) : 이산적인 레이블 예측하기\n",
    "###### 교재 p.365의 그림 5-1 참고\n",
    "아래 그림에서 각 점들은 두개의 feature(점의 위치 x,y) 와 label(blue/red)을 가짐\n",
    "\n",
    "두 데이터를 보고 경계를 예측하고 그 경계에 따라 새로운 데이터가 주어졌을때 레이블(blue/red)을 예측"
   ]
  },
  {
   "cell_type": "markdown",
   "metadata": {},
   "source": [
    "![](05.01-classification-1.png)"
   ]
  },
  {
   "cell_type": "markdown",
   "metadata": {},
   "source": [
    "#### 회기(**regression**) : 연속적인 레이블 예측하기"
   ]
  },
  {
   "cell_type": "markdown",
   "metadata": {},
   "source": [
    "위의 데이터와 마찬가지로 2차원 데이터가 있다. 하지만 각 점의 색상이 두개로 나뉘는 것이 아니라 연속적인 레이블로 나타남"
   ]
  },
  {
   "cell_type": "markdown",
   "metadata": {},
   "source": [
    "![](05.01-regression-1.png)"
   ]
  },
  {
   "cell_type": "markdown",
   "metadata": {},
   "source": [
    "* 참고 (k-means k-nn 등) https://velog.io/@jhlee508/%EB%A8%B8%EC%8B%A0%EB%9F%AC%EB%8B%9D-K-%ED%8F%89%EA%B7%A0K-Means-%EC%95%8C%EA%B3%A0%EB%A6%AC%EC%A6%98"
   ]
  },
  {
   "cell_type": "markdown",
   "metadata": {},
   "source": [
    "### 차원 축소(Clustering) : 레이블이 없는 데이터의 구조 추론\n",
    "\n",
    "- 참고1 https://brunch.co.kr/@cookery/102\n",
    "- 참고2 https://bkshin.tistory.com/entry/%EB%A8%B8%EC%8B%A0%EB%9F%AC%EB%8B%9D-9-PCA-Principal-Components-Analysis"
   ]
  }
 ],
 "metadata": {
  "language_info": {
   "name": "python"
  }
 },
 "nbformat": 4,
 "nbformat_minor": 2
}
