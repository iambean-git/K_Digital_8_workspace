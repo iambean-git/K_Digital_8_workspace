{
  "cells": [
    {
      "cell_type": "markdown",
      "metadata": {
        "id": "ZYJeA4fpcGNk"
      },
      "source": [
        "# Lab"
      ]
    },
    {
      "cell_type": "markdown",
      "metadata": {
        "id": "AL3MoBZO5NpL"
      },
      "source": [
        "## 1. 정수를 입력받아 해당 숫자가 짝수인지 홀수인지를 판단하는 Number 클래스를 작성하세요. is_even_or_odd() 메서드를 구현하여 입력받은 정수를 판별해야 합니다. 객체를 생성할 때 정수를 입력받아야 합니다."
      ]
    },
    {
      "cell_type": "code",
      "execution_count": 1,
      "metadata": {
        "id": "SBUQ1WRTc1Nz"
      },
      "outputs": [],
      "source": [
        "class Number:\n",
        "  def __init__(self, num):\n",
        "    self.num = num\n",
        "\n",
        "  def is_even_or_odd(self):\n",
        "    if self.num%2==0 : return \"Even\"\n",
        "    else : return \"Odd\""
      ]
    },
    {
      "cell_type": "code",
      "execution_count": 4,
      "metadata": {
        "id": "AopfhDbwfEK-"
      },
      "outputs": [],
      "source": [
        "input_data_even_odd = [5, 2, -3, -4, 0]\n",
        "output_data_even_odd = [\"Odd\", \"Even\", \"Odd\", \"Even\", \"Even\"]\n",
        "\n",
        "for i, o in zip(input_data_even_odd, output_data_even_odd):\n",
        "    num = Number(i)\n",
        "    result = num.is_even_or_odd()\n",
        "    assert result == o"
      ]
    },
    {
      "cell_type": "markdown",
      "metadata": {
        "id": "mGbPfQJEc5pl"
      },
      "source": [
        "## 2. Number 클래스를 확장하여 largest_of_three() 메서드를 추가하세요. 이 메서드는 세 개의 숫자를 입력받아 가장 큰 수를 반환해야 합니다. 인스턴스를 생성할 때 세 개의 숫자를 입력받아야 합니다."
      ]
    },
    {
      "cell_type": "code",
      "execution_count": 11,
      "metadata": {
        "id": "mGAC-9rSc7Qd"
      },
      "outputs": [],
      "source": [
        "class Number:\n",
        "  def __init__(self, a, b=0, c=0):\n",
        "    self.num = a\n",
        "    self.num2 = b\n",
        "    self.num3 = c\n",
        "\n",
        "  def is_even_or_odd(self):\n",
        "    if self.num%2==0 : return \"Even\"\n",
        "    else : return \"Odd\"\n",
        "\n",
        "  def largest_of_three(self):\n",
        "    return(max([self.num, self.num2, self.num3]))"
      ]
    },
    {
      "cell_type": "code",
      "execution_count": 14,
      "metadata": {
        "id": "p3T2cNTyh_c5"
      },
      "outputs": [],
      "source": [
        "input_data_even_odd = [5, 2, -3, -4, 0]\n",
        "output_data_even_odd = [\"Odd\", \"Even\", \"Odd\", \"Even\", \"Even\"]\n",
        "\n",
        "for i, o in zip(input_data_even_odd, output_data_even_odd):\n",
        "    num = Number(i)\n",
        "    result = num.is_even_or_odd()\n",
        "    assert result == o\n",
        "\n",
        "input_data_largest_of_three = [(2, 4, 1), (1, 1, 1), (2, 2, 5), (-1, 0, -2)]\n",
        "output_data_largest_of_three = [4, 1, 5, 0]\n",
        "\n",
        "for i, o in zip(input_data_largest_of_three, output_data_largest_of_three):\n",
        "    num = Number(*i)\n",
        "    result = num.largest_of_three()\n",
        "    assert result == o"
      ]
    },
    {
      "cell_type": "markdown",
      "metadata": {
        "id": "INqFk2K5c7ks"
      },
      "source": [
        "## 3. Number 클래스를 상속받는 SpecialNumber 서브클래스를 작성하고, is_multiple_of_3_and_5() 메서드를 추가하세요. 이 메서드는 입력된 숫자가 3과 5의 배수인지 여부를 확인해야 합니다.\n",
        "\n"
      ]
    },
    {
      "cell_type": "code",
      "execution_count": 21,
      "metadata": {
        "id": "B2c46qWfc8z0"
      },
      "outputs": [],
      "source": [
        "class SpecialNumber(Number):\n",
        "  def __init__(self, num):\n",
        "    super().__init__(num)\n",
        "\n",
        "  def is_multiple_of_3_and_5(self):\n",
        "    if(self.num%3==0 and self.num%5==0): return True\n",
        "    else: return False\n"
      ]
    },
    {
      "cell_type": "code",
      "execution_count": 23,
      "metadata": {
        "id": "ht0-VlpeiAaE"
      },
      "outputs": [],
      "source": [
        "input_data_even_odd = [5, 2, -3, -4, 0]\n",
        "output_data_even_odd = [\"Odd\", \"Even\", \"Odd\", \"Even\", \"Even\"]\n",
        "\n",
        "for i, o in zip(input_data_even_odd, output_data_even_odd):\n",
        "    num = SpecialNumber(i)\n",
        "    result = num.is_even_or_odd()\n",
        "    assert result == o\n",
        "\n",
        "input_data_largest_of_three = [(2, 4, 1), (1, 1, 1), (2, 2, 5), (-1, 0, -2)]\n",
        "output_data_largest_of_three = [4, 1, 5, 0]\n",
        "\n",
        "for i, o in zip(input_data_largest_of_three, output_data_largest_of_three):\n",
        "    num = Number(*i)\n",
        "    result = num.largest_of_three()\n",
        "    assert result == o\n",
        "\n",
        "input_data_multiple_3_5 = [15, 3, 5, 30, 0, -15]\n",
        "output_data_multiple_3_5 = [True, False, False, True, True, True]\n",
        "\n",
        "for i, o in zip(input_data_multiple_3_5, output_data_multiple_3_5):\n",
        "    num = SpecialNumber(i)\n",
        "    result = num.is_multiple_of_3_and_5()\n",
        "    #print(result)\n",
        "    assert result == o"
      ]
    },
    {
      "cell_type": "markdown",
      "metadata": {
        "id": "jAEoPcBXc9kM"
      },
      "source": [
        "## 4. 세 개의 숫자를 입력받아, 이 숫자들이 피타고라스 삼각형을 이루는지 여부를 판단하는 is_pythagorean_triple() static 메서드를 MathUtils 클래스에 작성하세요\n",
        "\n",
        "> A Pythagorean triple consists of three positive integers a, b, and c such that:\n",
        "$$ a^2 + b^2 = c^2, (0 < a \\leq b \\leq c \\leq N) $$\n"
      ]
    },
    {
      "cell_type": "code",
      "execution_count": 89,
      "metadata": {
        "id": "nJN7nZ1Nc-ad"
      },
      "outputs": [],
      "source": [
        "class MathUtils:\n",
        "  @staticmethod\n",
        "  def is_pythagorean_triple(a, b, c):\n",
        "    if(a**2 + b**2 ==c**2 and a>0 and b>0 and c>0) :  return True\n",
        "    else: return False\n"
      ]
    },
    {
      "cell_type": "code",
      "execution_count": 90,
      "metadata": {
        "id": "40DTZh8NYE6X"
      },
      "outputs": [],
      "source": [
        "input_data_pythagorean_triple = [(3, 4, 5), (5, 12, 13), (6, 8, 10), (7, 24, 25), (2, 3, 4), (0, 4, 4)]\n",
        "output_data_pythagorean_triple = [True, True, True, True, False, False]\n",
        "\n",
        "for input_values, output_value in zip(input_data_pythagorean_triple, output_data_pythagorean_triple):\n",
        "    result = MathUtils.is_pythagorean_triple(*input_values)\n",
        "    assert result == output_value"
      ]
    },
    {
      "cell_type": "markdown",
      "metadata": {
        "id": "EkRNBCyLctUY"
      },
      "source": [
        "## 5. Person 클래스를 작성하고 calculate_bmi() 메서드를 구현하세요. 이 메서드는 객체 생성 시 입력받은 체중(kg)과 키(m)를 바탕으로 BMI를 계산하고, 결과에 따라 BMI 카테고리(Underweight, Normal weight, Overweight)를 반환해야 합니다. 또한, 입력값이 유효한지 검증하는 is_valid() 메서드를 추가하고, 체중과 키가 양수인지 확인해야 합니다.\n",
        "\n",
        "### Class Methods\n",
        "\n",
        "* def is_valid(self) -> bool:\n",
        "\n",
        "* def calculate_bmi(self) -> str:\n",
        "\n",
        "### BMI calculation formula\n",
        "\n",
        "BMI = weight(kg) / (height(m)²)\n",
        "\n",
        "\n",
        "### Output\n",
        "\n",
        "* BMI < 18.5: Underweight\n",
        "\n",
        "* 18.5 <= BMI < 25.0: Normal weight\n",
        "\n",
        "* 25.0 <= BMI: Overweight\n",
        "\n",
        "\n",
        "### 유효성 검증\n",
        "\n",
        "체중과 키는 모두 양수여야 합니다.\n",
        "\n",
        "\n",
        "\n"
      ]
    },
    {
      "cell_type": "code",
      "execution_count": 40,
      "metadata": {
        "id": "yujQNQOgZKnI"
      },
      "outputs": [],
      "source": [
        "class Person:\n",
        "    def __init__(self, weight, height):\n",
        "      self.w = weight\n",
        "      self.h = height\n",
        "\n",
        "    def is_valid(self) -> bool:\n",
        "      if self.w > 0 and self.h > 0 : return True\n",
        "      else : return False\n",
        "\n",
        "    def calculate_bmi(self) -> str:\n",
        "      if not(self.is_valid()) : return \"Invalid input\"\n",
        "      else :\n",
        "        bmi = self.w / (self.h**2)\n",
        "        if bmi < 18.5 : return \"Underweight\"\n",
        "        elif bmi < 25 : return \"Normal weight\"\n",
        "        else : return \"Overweight\"\n"
      ]
    },
    {
      "cell_type": "code",
      "execution_count": 43,
      "metadata": {
        "id": "BxdeHEF_cB3C"
      },
      "outputs": [],
      "source": [
        "input_data_bmi_calculator = [(60, 1.7), (45, 1.6), (85, 1.8), (100, 2), (40, 1.5), (60, 0)]\n",
        "output_data_bmi_calculator = [\"Normal weight\", \"Underweight\", \"Overweight\", \"Overweight\", \"Underweight\", \"Invalid input\"]\n",
        "\n",
        "for input_values, output_value in zip(input_data_bmi_calculator, output_data_bmi_calculator):\n",
        "    person = Person(*input_values)\n",
        "    result = person.calculate_bmi()\n",
        "    assert result == output_value"
      ]
    },
    {
      "cell_type": "markdown",
      "metadata": {
        "id": "tdJa-fe6Lu_N"
      },
      "source": [
        "## 6. 문자열이 회문인지 여부와 두 문자열이 애너그램인지 확인하는 기능을 구현하는 String 클래스를 작성하세요. 이를 위해 두 개의 도우미 클래스인 Palindium과 Anagrams를 구현하여 String 클래스에서 사용하세요.\n",
        "\n",
        "#### 회문(Palindium)\n",
        "\n",
        "> 문자열을 뒤집었을 때 원래 문자열과 같은 경우를 말합니다. 예를 들어, \"level\"은 회문이지만 \"hello\"는 아닙니다.\n",
        "\n",
        "#### 애너그램(Anagram)\n",
        "> 한 단어의 모든 문자를 재배열하여 다른 단어를 만드는 경우를 말합니다. 예를 들어, \"listen\"과 \"silent\"는 애너그램입니다. 모든 문자가 동일한 빈도로 나타나야 합니다."
      ]
    },
    {
      "cell_type": "code",
      "execution_count": 51,
      "metadata": {
        "colab": {
          "base_uri": "https://localhost:8080/"
        },
        "id": "ns1JuuY2dVt9",
        "outputId": "c05d2f0c-ca68-478c-93ed-7c7686d26ee2"
      },
      "outputs": [
        {
          "name": "stdout",
          "output_type": "stream",
          "text": [
            "    bb bccdfd\n"
          ]
        }
      ],
      "source": [
        "str1 = \"aaaabbabccdfd\"\n",
        "result = str1.replace(\"a\",\" \")\n",
        "print(result)"
      ]
    },
    {
      "cell_type": "code",
      "execution_count": 57,
      "metadata": {
        "id": "mdV5_-bzb2RH"
      },
      "outputs": [],
      "source": [
        "class Palandium:\n",
        "    def __init__(self, s: str):\n",
        "        self.s = s\n",
        "\n",
        "    def is_palindrome(self) -> bool:\n",
        "        if self.s[::-1] == self.s : return True\n",
        "        else : return False\n",
        "\n",
        "class Anagrams:\n",
        "    def __init__(self, s1: str, s2: str):\n",
        "        self.s1 = s1\n",
        "        self.s2 = s2\n",
        "\n",
        "    def are_anagrams(self) -> bool:\n",
        "        if(sorted(self.s1)==sorted(self.s2)): return True\n",
        "        else: return False\n",
        "\n",
        "class String:\n",
        "    def __init__(self, s1: str, s2: str = None):\n",
        "        self.s1 = s1\n",
        "        self.s2 = s2\n",
        "\n",
        "    def is_palindrome(self) -> bool:\n",
        "        return(Palandium(self.s1).is_palindrome())\n",
        "\n",
        "    def are_anagrams(self) -> bool:\n",
        "        return(Anagrams(self.s1, self.s2).are_anagrams())"
      ]
    },
    {
      "cell_type": "code",
      "execution_count": 59,
      "metadata": {
        "id": "4CuQ-rftL-3y"
      },
      "outputs": [],
      "source": [
        "input_data_palindrome_checker = [\"racecar\", \"madam\", \"hello\", \"level\", \"world\", \"noon\", \"python\"]\n",
        "output_data_palindrome_checker = [True, True, False, True, False, True, False]\n",
        "for input_value, output_value in zip(input_data_palindrome_checker, output_data_palindrome_checker):\n",
        "    string_obj = String(input_value)\n",
        "    result = string_obj.is_palindrome()\n",
        "    #print(result)\n",
        "    assert result == output_value\n",
        "\n",
        "input_data_anagram_checker = [(\"bored\", \"robed\"), (\"listen\", \"silent\"), (\"anagram\", \"nagaram\"), (\"hello\", \"world\"), (\"apple\", \"leppa\"), (\"night\", \"thing\"), (\"abc\", \"def\")]\n",
        "output_data_anagram_checker = [True, True, True, False, True, True, False]\n",
        "\n",
        "for input_values, output_value in zip(input_data_anagram_checker, output_data_anagram_checker):\n",
        "    string_obj = String(*input_values)\n",
        "    result = string_obj.are_anagrams()\n",
        "    #print(result)\n",
        "    assert result == output_value"
      ]
    },
    {
      "cell_type": "markdown",
      "metadata": {
        "id": "mPv8F8IDdsNB"
      },
      "source": [
        "## 7. 세 개의 클래스 (Pattern, Line, Glyph)를 사용하여 다음과 같은 패턴을 생성하는 프로그램을 구현하세요.\n",
        "\n",
        "### Class Responsibilities\n",
        "\n",
        "#### Glyph: 패턴에서 하나의 문자('*' 또는 공백)를 나타냅니다.\n",
        "\n",
        "> Methods:\n",
        "\n",
        "* __init__(self, symbol: str): 전달된 기호(공백 또는 '*')로 Glyph 객체를 초기화합니다.\n",
        "\n",
        "* __str__(self) -> str: Glyph 객체의 문자열 표현을 반환합니다. 이는 기호 자체입니다.\n",
        "\n",
        "\n",
        "#### Line: 여러 개의 Glyph 객체로 구성된 패턴의 한 줄을 나타냅니다.\n",
        "\n",
        "> Methods:\n",
        "\n",
        "* __init__(self, stars: int, spaces: int): 주어진 별(stars)과 공백(spaces)의 수로 Line 객체를 초기화합니다. 이 메서드는 별과 공백을 나타내는 Glyph 객체 리스트를 생성합니다.\n",
        "\n",
        "* __str__(self) -> str: 공백과 별로 구성된 한 줄의 문자열 표현을 반환합니다.\n",
        "\n",
        "\n",
        "#### Pattern: 전체 패턴을 나타내며, 주어진 크기에 따라 여러 Line 객체를 생성하고 출력하는 책임을 가집니다.\n",
        "\n",
        "> Methods:\n",
        "\n",
        "* __init__(self, n: int): 패턴의 줄 수를 나타내는 n으로 Pattern 객체를 초기화합니다.\n",
        "\n",
        "* gen_pattern(self) -> str: 각 줄에 대해 Line 객체를 생성하여 전체 패턴을 생성합니다. 전체 패턴의 문자열 표현을 반환합니다.\n",
        "\n",
        "\n",
        "### Input/Output Example\n",
        "\n",
        "n = 5\n",
        "```\n",
        "*****\n",
        " ****\n",
        "  ***\n",
        "   **\n",
        "    *\n",
        "```"
      ]
    },
    {
      "cell_type": "code",
      "execution_count": 4,
      "metadata": {
        "id": "HXATMsvJfr1f"
      },
      "outputs": [],
      "source": [
        "class Glyph:\n",
        "    def __init__(self, symbol: str):\n",
        "        self.symbol = symbol\n",
        "\n",
        "    def __str__(self) -> str:\n",
        "        return self.symbol\n",
        "\n",
        "\n",
        "class Line:\n",
        "    def __init__(self, stars: int, spaces: int):\n",
        "       self.stars = stars\n",
        "       self.spaces = spaces\n",
        "\n",
        "    def __str__(self) -> str:\n",
        "       return str(Glyph(\" \"))*self.spaces  + str(Glyph(\"*\"))*self.stars + \"\\n\"\n",
        "\n",
        "\n",
        "class Pattern:\n",
        "    def __init__(self, n: int):\n",
        "        self.n = n\n",
        "\n",
        "    def gen_pattern(self) -> str:\n",
        "        result = \"\"\n",
        "        for i in range(self.n) :\n",
        "          result += str(Line(self.n-i,i))\n",
        "        return result.rstrip(\"\\n\")"
      ]
    },
    {
      "cell_type": "code",
      "execution_count": 88,
      "metadata": {
        "id": "tXDgAKGadyDx"
      },
      "outputs": [],
      "source": [
        "input_data_gen_pattern = [5, 3, 6, 1]\n",
        "output_data_gen_pattern = [\"*****\\n ****\\n  ***\\n   **\\n    *\",\n",
        "                           \"***\\n **\\n  *\",\n",
        "                           \"******\\n *****\\n  ****\\n   ***\\n    **\\n     *\",\n",
        "                           \"*\"]\n",
        "\n",
        "for input_value, output_value in zip(input_data_gen_pattern, output_data_gen_pattern):\n",
        "    pattern = Pattern(input_value)\n",
        "    result = pattern.gen_pattern()\n",
        "    #print(result)\n",
        "    assert result == output_value"
      ]
    },
    {
      "cell_type": "markdown",
      "metadata": {
        "id": "aTfwJbtWeNxR"
      },
      "source": [
        "## 8. 쇼핑카트를 나타내는 ShoppingCart 클래스를 작성하세요. 이 클래스는 아이템을 추가, 제거하고 전체 가격을 계산하는 기능을 가져야 합니다. 아이템은 딕셔너리로 저장하며, 딕셔너리의 키는 아이템 이름, 값은 가격과 수량을 포함하는 튜플입니다.\n",
        "\n",
        "#### Methods:\n",
        "\n",
        "* init(): 아이템 이름을 키로 하고 (가격, 수량) 튜플을 값으로 가지는 딕셔너리를 초기화합니다. ShoppingCart 인스턴스가 생성될 때, 카트는 비어 있는 상태로 시작합니다.\n",
        "\n",
        "* add_item(item_name: str, price: float, quantity: int): 이 메서드는 지정된 수량만큼 아이템을 카트에 추가합니다. 만약 이미 카트에 있는 아이템이라면, 해당 아이템의 수량을 증가시킵니다.\n",
        "\n",
        "* remove_item(item_name: str, quantity: int): 카트에서 지정된 수량만큼 아이템을 제거합니다. 제거할 수량이 현재 남아있는 수량보다 크거나 같으면, 해당 아이템을 카트에서 완전히 삭제합니다.\n",
        "\n",
        "* get_total_price(): 카트에 있는 모든 아이템을 순회하며 각 아이템의 가격과 수량을 곱해 총 비용을 계산합니다."
      ]
    },
    {
      "cell_type": "code",
      "execution_count": 2,
      "metadata": {
        "id": "APNy8a6ZeO6l"
      },
      "outputs": [],
      "source": [
        "class ShoppingCart:\n",
        "    def __init__(self):\n",
        "        self.items = {}\n",
        "\n",
        "    def add_item(self, item_name: str, price: float, quantity: int):\n",
        "      if item_name in self.items : \n",
        "         self.items[item_name] = (price, self.items[item_name][1] + quantity)\n",
        "      else: self.items[item_name] = (price, quantity)\n",
        "\n",
        "    def remove_item(self, item_name: str, quantity: int):\n",
        "      if(self.items[item_name][1]<=quantity)  : del(self.items[item_name])\n",
        "      else : self.items[item_name] = (self.items[item_name][0], self.items[item_name][1]-quantity )\n",
        "\n",
        "    def get_total_price(self) -> float:\n",
        "      sum = 0\n",
        "      for iteminfo in self.items.values() :\n",
        "        sum += iteminfo[0] * iteminfo[1]\n",
        "      #print(sum)\n",
        "      return sum"
      ]
    },
    {
      "cell_type": "code",
      "execution_count": 3,
      "metadata": {
        "colab": {
          "base_uri": "https://localhost:8080/"
        },
        "id": "gs4TEi_LlyDs",
        "outputId": "81bdc267-8b58-4756-b94e-1e6114a38034"
      },
      "outputs": [],
      "source": [
        "input_data_cart = [\n",
        "    [(\"apple\", 1.5, 10), (\"banana\", 0.5, 5), (\"apple\", 1.5, 5)],\n",
        "    [(\"orange\", 2.0, 2), (\"banana\", 0.5, 2), (\"apple\", 1.5, 1)],\n",
        "]\n",
        "\n",
        "output_data_cart = [\n",
        "    {\"apple\": (1.5, 15), \"banana\": (0.5, 5)},\n",
        "    {\"orange\": (2.0, 2), \"banana\": (0.5, 2), \"apple\": (1.5, 1)}\n",
        "]\n",
        "\n",
        "total_prices = [25.0, 6.5]\n",
        "\n",
        "for input_data, output_data, expected_total in zip(input_data_cart, output_data_cart, total_prices):\n",
        "    cart = ShoppingCart()\n",
        "\n",
        "    for item_name, price, quantity in input_data:\n",
        "        cart.add_item(item_name, price, quantity)\n",
        "\n",
        "    #print(cart.items)\n",
        "    assert cart.items == output_data\n",
        "\n",
        "    total_price = cart.get_total_price()\n",
        "    assert total_price == expected_total"
      ]
    }
  ],
  "metadata": {
    "colab": {
      "provenance": []
    },
    "kernelspec": {
      "display_name": "Python 3",
      "name": "python3"
    },
    "language_info": {
      "codemirror_mode": {
        "name": "ipython",
        "version": 3
      },
      "file_extension": ".py",
      "mimetype": "text/x-python",
      "name": "python",
      "nbconvert_exporter": "python",
      "pygments_lexer": "ipython3",
      "version": "3.12.6"
    }
  },
  "nbformat": 4,
  "nbformat_minor": 0
}
