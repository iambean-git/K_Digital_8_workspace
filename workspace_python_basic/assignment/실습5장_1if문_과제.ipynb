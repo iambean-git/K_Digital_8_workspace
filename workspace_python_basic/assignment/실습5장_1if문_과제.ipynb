{
 "cells": [
  {
   "cell_type": "code",
   "execution_count": 3,
   "metadata": {},
   "outputs": [
    {
     "name": "stdout",
     "output_type": "stream",
     "text": [
      "mushroom양념이 포함되다\n"
     ]
    }
   ],
   "source": [
    "requested_toppings =['mushroom','onions','pineapple']\n",
    "if 'mushroom' in requested_toppings:\n",
    "    print(f\"{requested_toppings[0]}양념이 포함되다\")\n",
    "else:\n",
    "    print(\"양념없다{}\".format(requested_toppings[2]))"
   ]
  },
  {
   "cell_type": "markdown",
   "metadata": {},
   "source": [
    "if n < 1 :\n",
    "    print\n",
    "elif n < 3:\n",
    "    print\n",
    "else:\n",
    "    print"
   ]
  },
  {
   "cell_type": "code",
   "execution_count": 2,
   "metadata": {},
   "outputs": [
    {
     "name": "stdout",
     "output_type": "stream",
     "text": [
      "빈 리스트\n"
     ]
    }
   ],
   "source": [
    "lst = ()\n",
    "if lst :\n",
    "    for symbol in lst:\n",
    "        print(f\"기호 = {symbol}\")\n",
    "else:\n",
    "    print(\"빈 리스트\")"
   ]
  },
  {
   "cell_type": "markdown",
   "metadata": {},
   "source": [
    "false로 반환되는 값: none, 0, 0.0, 빈컨테이너(빈 문자열, 빈 바이트열, 빈 리스트, 빈 튜플, 빈 딕셔너리)"
   ]
  },
  {
   "cell_type": "code",
   "execution_count": 1,
   "metadata": {},
   "outputs": [
    {
     "name": "stdout",
     "output_type": "stream",
     "text": [
      "lang = Python\n",
      "lang = Java\n",
      "ind = 1\n",
      "lang = C++\n",
      "lang = JavaScript\n",
      "lang = Ruby\n",
      "lang = Java\n",
      "ind = 5\n"
     ]
    }
   ],
   "source": [
    "# 코딩 언어 리스트 초기화\n",
    "languages = ['Python', 'Java', 'C++', 'JavaScript', 'Ruby', 'Java']\n",
    "\n",
    "# enumerate를 사용하여 'Java'가 존재하는지 확인하고 인덱스를 출력\n",
    "for ind, lang in enumerate(languages):\n",
    "    print(f\"lang = {lang}\")\n",
    "    if lang == \"Java\" :\n",
    "        print(f\"ind = {ind}\")"
   ]
  }
 ],
 "metadata": {
  "kernelspec": {
   "display_name": "Python 3",
   "language": "python",
   "name": "python3"
  },
  "language_info": {
   "codemirror_mode": {
    "name": "ipython",
    "version": 3
   },
   "file_extension": ".py",
   "mimetype": "text/x-python",
   "name": "python",
   "nbconvert_exporter": "python",
   "pygments_lexer": "ipython3",
   "version": "3.12.6"
  }
 },
 "nbformat": 4,
 "nbformat_minor": 2
}
