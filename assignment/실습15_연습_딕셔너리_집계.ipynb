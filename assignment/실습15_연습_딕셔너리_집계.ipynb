{
 "cells": [
  {
   "cell_type": "code",
   "execution_count": null,
   "metadata": {
    "vscode": {
     "languageId": "plaintext"
    }
   },
   "outputs": [],
   "source": [
    "# 딕셔너리 (key: 리스트)\n",
    "data = {\n",
    "    'fruits': ['apple', 'banana', 'orange', 'grape', 'pear'],\n",
    "    'vegetables': ['carrot', 'broccoli', 'spinach'],\n",
    "    'drinks': ['water', 'juice']\n",
    "}\n",
    "\n",
    "# 카테고리별 갯수를 저장할 딕셔너리를 만듬\n",
    "category_count = {}\n",
    "\n",
    "# 항목 갯수 집계\n",
    "for category, items in data.items():\n",
    "    # 카테고리별 갯수를 집계\n",
    "    # 카테고리들의 총 갯수를 집계\n",
    "\n",
    "# 결과 출력\n",
    "print(\"카테고리별 항목 갯수:\", category_count)\n",
    "print(\"카테고리 총 항목수\")"
   ]
  }
 ],
 "metadata": {
  "language_info": {
   "name": "python"
  }
 },
 "nbformat": 4,
 "nbformat_minor": 2
}
