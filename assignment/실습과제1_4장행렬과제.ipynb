{
 "cells": [
  {
   "cell_type": "code",
   "execution_count": null,
   "metadata": {},
   "outputs": [],
   "source": [
    "# 리스트 복사하기 (얕은 복사)\n",
    "l = [1, 2, 3]\n",
    "la = l  # la는 l의 참조, 같은 메모리 주소를 가리킴\n",
    "lb = l[:]  # lb는 l의 복사본, 서로 다른 메모리 주소\n",
    "\n",
    "# 리스트에 값 추가하기\n",
    "l.append(4)\n",
    "\n",
    "print(\"원본 리스트 l:\", l)       # [1, 2, 3, 4]\n",
    "print(\"참조한 리스트 la:\", la)   # [1, 2, 3, 4] (la는 l과 동일한 참조)\n",
    "print(\"복사된 리스트 lb:\", lb)   # [1, 2, 3] (lb는 독립적인 리스트)\n",
    "\n",
    "# 튜플 (immutable)\n",
    "t = (1, 2, 3)\n",
    "# t[0] = 10  # 에러: 튜플은 불변(immutable)하기 때문에 요소를 변경할 수 없음\n",
    "\n",
    "print(\"\\n튜플 t:\", t)  # (1, 2, 3)\n",
    "\n",
    "# 슬라이싱 예제 - 리스트는 [::] 형식만 지원\n",
    "matrix = [[0, 1, 2], [3, 4, 5], [6, 7, 8]]\n",
    "\n",
    "# 리스트 슬라이싱 (정상)\n",
    "print(\"\\n리스트 슬라이싱:\")\n",
    "# 행을 역순으로 출력\n",
    "print(matrix[::-1])\n",
    "\n",
    "# 열을 역순으로 출력\n",
    "rmatrix = [row[::-1] for row in matrix]\n",
    "print(rmatrix)\n",
    "\n",
    "#print(matrix[:1, :1])을 구현하는 리스트 슬라이싱\n",
    "# 첫 번째 행에서 첫 번째 열만 슬라이싱 (== matrix[:1, :1])\n",
    "\n",
    "# 잘못된 슬라이싱 시도 - 튜플로 인식되는 경우\n",
    "try:\n",
    "    print(matrix[::-1,::-1])  # 잘못된 사용, TypeError 발생\n",
    "except TypeError as e:\n",
    "    print(\"\\n에러 발생:\", e)\n",
    "\n",
    "lst1 = [a,b] = [1,2]\n",
    "tpl1 = (c,d) = (3,4)\n",
    "lst1[0] = 5\n",
    "#tpl1[0] = 7\n",
    "print(lst1)\n",
    "print(type(lst1[0]))\n",
    "print(type(tpl1[0]))\n",
    "num = range(10)\n",
    "type(num)\n",
    "num\n",
    "\n",
    "import array ## 파이썬의 배열 \n",
    "my_array = array.array('i', [1, 2, 3])  # 'i'는 정수(int)를 의미\n",
    "# 1차원 배열을 리스트로 묶어서 2차원 배열처럼 사용\n",
    "row1 = array.array('i', [1, 2, 3])\n",
    "row2 = array.array('i', [4, 5, 6])\n",
    "row3 = array.array('i', [7, 8, 9])\n",
    "\n",
    "matrix = [row1, row2, row3]  # 리스트로 2차원 배열처럼 표현\n",
    "\n",
    "# 2차원 배열처럼 접근\n",
    "print(matrix[0])     # 첫 번째 행 출력: [1, 2, 3]\n",
    "print(matrix[1][1])  # 두 번째 행의 두 번째 값 출력: 5\n",
    "#matrix[:1,:2] ##  리스트 인덱스는 튜플 사용 안됨\n",
    "### tuple\n",
    "tup = 10,20,30,40\n",
    "#tup[0] = 11\n",
    "print(tup[0])\n",
    "\n",
    "a,b,c = 10,20,30\n",
    "a,b = 11,22\n",
    "a,b = b, a\n",
    "print(f\"a= {a}, b = {b}\")\n",
    "def test():\n",
    "    return 10,20,30\n",
    "\n",
    "x,y,z = test()\n",
    "\n",
    "l = [1, 2, 3]\n",
    "for i, v in enumerate(l):\n",
    "    print(f\"i: {i}, v: {v}\")\n"
   ]
  },
  {
   "cell_type": "markdown",
   "metadata": {},
   "source": [
    "실습과제4_1 2차원 행렬 난수 초기화 > 전치행렬 만들기 출력"
   ]
  },
  {
   "cell_type": "code",
   "execution_count": 9,
   "metadata": {},
   "outputs": [
    {
     "name": "stdout",
     "output_type": "stream",
     "text": [
      "원본 행렬:\n",
      "[[4, 24, 34, 26, 21], [18, 37, 15, 6, 39], [22, 15, 40, 45, 31], [39, 17, 2, 30, 47]]\n",
      "\n",
      "전치 행렬:\n",
      "\n",
      "전치 행렬:[[4, 18, 22, 39], [24, 37, 15, 17], [34, 15, 40, 2], [26, 6, 45, 30], [21, 39, 31, 47]]\n"
     ]
    }
   ],
   "source": [
    "# (3, 5) 크기의 2차원 배열 생성: 3행 5열\n",
    "rows, cols = (3, 5)\n",
    "\n",
    "# 리스트 컴프리헨션과 range()를 사용하여 2차원 배열 만들기\n",
    "## 난수를 사용하여 2차원 배열 만들기\n",
    "import random\n",
    "matrix = [[random.randrange(1,51) for col in range(5)] for row in range(4)]\n",
    "\n",
    "print(\"원본 행렬:\")\n",
    "print(matrix)\n",
    "\n",
    "# 전치 행렬 (행과 열을 뒤바꿈)\n",
    "print(\"\\n전치 행렬:\")\n",
    "tmatrix = [[row[col] for row in matrix] for col in range(len(matrix[0]))]\n",
    "print(f\"\\n전치 행렬:{tmatrix}\")\n"
   ]
  },
  {
   "cell_type": "markdown",
   "metadata": {},
   "source": [
    "실습과제4_2 2차원 행렬의 행과 열을 모두 반전 시키기 > 행을 먼저 역순으로 만든 다음에 열도 역순으로 만든다 "
   ]
  },
  {
   "cell_type": "code",
   "execution_count": 12,
   "metadata": {},
   "outputs": [
    {
     "name": "stdout",
     "output_type": "stream",
     "text": [
      "원본 행렬:\n",
      "[[4, 24, 34, 26, 21], [18, 37, 15, 6, 39], [22, 15, 40, 45, 31], [39, 17, 2, 30, 47]]\n",
      "[[47, 30, 2, 17, 39], [31, 45, 40, 15, 22], [39, 6, 15, 37, 18], [21, 26, 34, 24, 4]]\n",
      "\n",
      "행과 열이 모두 반전된 2차원 배열:\n",
      "[47, 30, 2, 17, 39]\n",
      "[31, 45, 40, 15, 22]\n",
      "[39, 6, 15, 37, 18]\n",
      "[21, 26, 34, 24, 4]\n"
     ]
    }
   ],
   "source": [
    "print(\"원본 행렬:\")\n",
    "print(matrix)\n",
    "\n",
    "# 행을 반전시키고, 각 행의 열도 반전시키기\n",
    "reversed_matrix = [row[::-1] for row in matrix[::-1]]\n",
    "\n",
    "print(\"\\n행과 열이 모두 반전된 2차원 배열:\")\n",
    "for row in reversed_matrix:\n",
    "    print(row)"
   ]
  },
  {
   "cell_type": "markdown",
   "metadata": {},
   "source": [
    "리스트에 대한 사본 만들기: 슬라이싱 > 함수 매개변수 전달시에 슬라이싱으로 만드는 사본을 전달 - 기억해야 한다 \n",
    "리스트 참조변수 공유: la = lst # 같은 list를 두개의 참조변수가 공유"
   ]
  },
  {
   "cell_type": "code",
   "execution_count": 13,
   "metadata": {},
   "outputs": [
    {
     "name": "stdout",
     "output_type": "stream",
     "text": [
      "[0, 11, 2, 3, 4, 5, 6, 7, 8, 9]\n",
      "[99, 8, 7, 6, 5, 4, 3, 2, 1, 0]\n",
      "[11, 11, 2, 3, 4, 5, 6, 7, 8, 9]\n"
     ]
    }
   ],
   "source": [
    "# 리스트[start:stop:step]\n",
    "# start: 시작 인덱스 (포함)\n",
    "# stop: 끝 인덱스 (포함되지 않음)\n",
    "# step: 인덱스 증가 값 (기본값은 1)\n",
    "numbers = [0, 1, 2, 3, 4, 5, 6, 7, 8, 9]\n",
    "# 리스트를 뒤집기\n",
    "reversed_list = numbers[::-1]##함수에 매개변수 전달시에 복사본 전달한다 \n",
    "numbers[1]=11\n",
    "print(numbers)\n",
    "reversed_list[0] = 99\n",
    "print(reversed_list) ##copy - deep copy\n",
    "\n",
    "numbers2 = numbers ##shallow copy\n",
    "numbers2[0] = 11\n",
    "print(numbers)"
   ]
  },
  {
   "cell_type": "markdown",
   "metadata": {},
   "source": [
    "실습과제4_3 2차원 행렬 난수 초기화 > 각 행의 최대값, 다음 최대값, 다다음 최대값을 뽑아 새로운 행렬에 저장한 다음에 출력"
   ]
  },
  {
   "cell_type": "code",
   "execution_count": 14,
   "metadata": {},
   "outputs": [
    {
     "name": "stdout",
     "output_type": "stream",
     "text": [
      "[[17, 11, 44, 18, 9, 30, 25], [43, 23, 9, 39, 26, 23, 46], [47, 37, 33, 32, 5, 47, 49], [36, 5, 36, 48, 24, 9, 42], [22, 23, 15, 47, 16, 36, 19]]\n",
      "\n",
      "결과 행렬 (최대 값부터 3번째 큰 값까지):\n",
      "[[44, 30, 25], [46, 43, 39], [49, 47, 47], [48, 42, 36], [47, 36, 23]]\n"
     ]
    }
   ],
   "source": [
    "import random\n",
    "\n",
    "# 행렬의 크기 정의 (5x7 행렬)\n",
    "rows, cols = 5, 7\n",
    "\n",
    "# 2차원 행렬을 난수로 초기화\n",
    "matrix = [[ random.randrange(1,51) for _ in range(cols)] for _ in range(rows)]\n",
    "\n",
    "# 행렬 출력\n",
    "print(matrix)\n",
    "\n",
    "# 각 행에서 최대 값부터 3번째 큰 값까지 순서대로 행렬 만들기\n",
    "result_matrix = []\n",
    "\n",
    "for row in matrix:\n",
    "    # 행을 정렬하여 최대 값부터 작은 값으로 정렬\n",
    "    row.sort(reverse=True)\n",
    "    \n",
    "    # 최대 값부터 3번째 큰 값까지 가져오기\n",
    "    rowMax = row[:3]\n",
    "    \n",
    "    # 결과 행렬에 추가\n",
    "    result_matrix.append(rowMax)\n",
    "\n",
    "\n",
    "# 결과 행렬 출력\n",
    "print(\"\\n결과 행렬 (최대 값부터 3번째 큰 값까지):\")\n",
    "print(result_matrix)\n"
   ]
  },
  {
   "cell_type": "markdown",
   "metadata": {},
   "source": [
    "실습과제4_4 2차원 행렬 난수 초기화 > 각 열의 최대값, 다음 최대값, 다다음 최대값을 뽑아 새로운 행렬에 저장한 다음에 출력"
   ]
  },
  {
   "cell_type": "code",
   "execution_count": 15,
   "metadata": {},
   "outputs": [
    {
     "name": "stdout",
     "output_type": "stream",
     "text": [
      "[[4, 43, 23, 30, 45, 42, 22], [35, 5, 49, 14, 42, 43, 27], [34, 22, 3, 39, 20, 14, 41], [38, 25, 22, 14, 47, 29, 28], [10, 19, 41, 45, 14, 20, 48]]\n",
      "\n",
      "결과 행렬 (최대 값부터 3번째 큰 값까지):\n",
      "[[38, 35, 34], [43, 25, 22], [49, 41, 23], [45, 39, 30], [47, 45, 42], [43, 42, 29], [48, 41, 28]]\n"
     ]
    }
   ],
   "source": [
    "import random\n",
    "\n",
    "# 행렬의 크기 정의 (5x7 행렬)\n",
    "rows, cols = 5, 7\n",
    "\n",
    "# 2차원 행렬을 난수로 초기화\n",
    "matrix = [[ random.randrange(1,51) for _ in range(cols)] for _ in range(rows)]\n",
    "\n",
    "# 행렬 출력\n",
    "print(matrix)\n",
    "\n",
    "# 전치행렬 만들기\n",
    "tmatrix = [[row[col] for row in matrix] for col in range(len(matrix[0]))]\n",
    "\n",
    "# 각 열에서 최대 값부터 3번째 큰 값까지 순서대로 행렬 만들기\n",
    "result_matrix = []\n",
    "\n",
    "for row in tmatrix:\n",
    "    # 행을 정렬하여 최대 값부터 작은 값으로 정렬\n",
    "    row.sort(reverse=True)\n",
    "    \n",
    "    # 최대 값부터 3번째 큰 값까지 가져오기\n",
    "    rowMax = row[:3]\n",
    "    \n",
    "    # 결과 행렬에 추가\n",
    "    result_matrix.append(rowMax)\n",
    "\n",
    "\n",
    "# 결과 행렬 출력\n",
    "print(\"\\n결과 행렬 (최대 값부터 3번째 큰 값까지):\")\n",
    "print(result_matrix)"
   ]
  },
  {
   "cell_type": "markdown",
   "metadata": {},
   "source": [
    "실습과제4_5 2차원 행렬 난수 초기화 > 두 행렬의 덧셈 결과를 새로운 행렬을 만들어 저장 > 출력"
   ]
  },
  {
   "cell_type": "code",
   "execution_count": 17,
   "metadata": {},
   "outputs": [
    {
     "name": "stdout",
     "output_type": "stream",
     "text": [
      "matrix1 is    [[27, 45, 5, 29, 41, 34, 47], [39, 11, 31, 26, 3, 2, 12], [10, 20, 45, 40, 3, 17, 9], [42, 44, 25, 4, 13, 33, 21], [15, 8, 5, 20, 15, 39, 29]]\n",
      "matrix2 is    [[4, 25, 26, 33, 1, 50, 42], [37, 10, 36, 29, 43, 33, 50], [15, 30, 29, 16, 3, 35, 42], [48, 24, 8, 28, 6, 6, 26], [44, 37, 12, 31, 17, 11, 44]]\n",
      "행렬 덧셈 결과:\n",
      "[31, 70, 31, 62, 42, 84, 89]\n",
      "[76, 21, 67, 55, 46, 35, 62]\n",
      "[25, 50, 74, 56, 6, 52, 51]\n",
      "[90, 68, 33, 32, 19, 39, 47]\n",
      "[59, 45, 17, 51, 32, 50, 73]\n"
     ]
    }
   ],
   "source": [
    "# 두 행렬 (5,7)을 난수를 사용하여 초기화\n",
    "row, col = 5,7\n",
    "matrix1 = [[ random.randrange(1,51) for _ in range(col)] for _ in range(row)]\n",
    "matrix2 = [[ random.randrange(1,51) for _ in range(col)] for _ in range(row)]\n",
    "\n",
    "rows = len(matrix1)\n",
    "cols = len(matrix1[0])\n",
    "\n",
    "# 결과를 저장할 행렬을 0으로 초기화\n",
    "result_add = [[0 for _ in range(cols)] for _ in range(rows)]\n",
    "\n",
    "# 각 요소에 대해 더하기 연산 수행\n",
    "for i in range(rows):\n",
    "        for j in range(cols):\n",
    "              result_add [i][j] = matrix1[i][j] + matrix2[i][j]\n",
    "\n",
    "print(f\"matrix1 is    {matrix1}\")\n",
    "print(f\"matrix2 is    {matrix2}\")\n",
    "\n",
    "print(\"행렬 덧셈 결과:\")\n",
    "for row in result_add:\n",
    "    print(row)"
   ]
  },
  {
   "cell_type": "markdown",
   "metadata": {},
   "source": [
    "실습과제4_6 2차원 행렬 난수 초기화 > 두 행렬의 곱셈 결과를 새로운 행렬을 만들어 저장 > 출력"
   ]
  },
  {
   "cell_type": "code",
   "execution_count": 28,
   "metadata": {},
   "outputs": [
    {
     "name": "stdout",
     "output_type": "stream",
     "text": [
      "첫번째 행렬:\n",
      "[7, 2, 7, 9, 7, 10, 7]\n",
      "[8, 2, 8, 5, 9, 3, 3]\n",
      "[9, 5, 5, 8, 10, 7, 9]\n",
      "[6, 2, 7, 1, 1, 4, 7]\n",
      "[10, 5, 3, 1, 7, 9, 6]\n",
      "\n",
      "두번째 행렬:\n",
      "[1, 7, 1, 10, 10, 8, 8, 6, 8]\n",
      "[3, 7, 7, 8, 3, 6, 6, 8, 7]\n",
      "[5, 9, 1, 9, 3, 10, 5, 3, 10]\n",
      "[8, 3, 6, 8, 7, 7, 5, 3, 9]\n",
      "[7, 7, 3, 3, 7, 8, 8, 10, 7]\n",
      "[9, 1, 4, 1, 8, 3, 10, 5, 1]\n",
      "[4, 10, 4, 3, 8, 7, 2, 2, 10]\n",
      "\n",
      "행렬 곱셈 결과:\n",
      "[287, 282, 171, 273, 345, 336, 318, 240, 350]\n",
      "[196, 253, 111, 247, 256, 293, 249, 214, 299]\n",
      "[282, 334, 191, 303, 374, 372, 335, 286, 396]\n",
      "[126, 203, 80, 175, 189, 206, 162, 120, 222]\n",
      "[202, 253, 135, 223, 300, 272, 288, 239, 272]\n"
     ]
    }
   ],
   "source": [
    "# 두 행렬의 곱셈\n",
    "# 행렬1 (5,7), 행렬2 (7,9)을 난수를 사용하여 초기화\n",
    "matrix1 = [[ random.randrange(1,11) for _ in range(7)] for _ in range(5)]\n",
    "matrix2 = [[ random.randrange(1,11) for _ in range(9)] for _ in range(7)]\n",
    "\n",
    "print(\"첫번째 행렬:\")\n",
    "for row in matrix1:\n",
    "    print(row)\n",
    "\n",
    "print(\"\\n두번째 행렬:\")\n",
    "for row in matrix2:\n",
    "    print(row)\n",
    "\n",
    "rows1 = len(matrix1)\n",
    "rows2 = len(matrix2)\n",
    "cols = len(matrix2[0])\n",
    "\n",
    "# 결과를 저장할 행렬을 0으로 초기화\n",
    "result_multiply = [[0 for _ in range(cols)] for _ in range(rows1)]\n",
    "\n",
    "# 각 요소에 대해 곱셈 연산 수행\n",
    "for i in range(rows1) :\n",
    "    for j in range(cols):\n",
    "        for z in range(rows2) :\n",
    "            result_multiply[i][j] += matrix1[i][z] * matrix2[z][j]\n",
    "\n",
    "\n",
    "print(\"\\n행렬 곱셈 결과:\")\n",
    "for row in result_multiply:\n",
    "    print(row)"
   ]
  }
 ],
 "metadata": {
  "kernelspec": {
   "display_name": "Python 3",
   "language": "python",
   "name": "python3"
  },
  "language_info": {
   "codemirror_mode": {
    "name": "ipython",
    "version": 3
   },
   "file_extension": ".py",
   "mimetype": "text/x-python",
   "name": "python",
   "nbconvert_exporter": "python",
   "pygments_lexer": "ipython3",
   "version": "3.12.6"
  }
 },
 "nbformat": 4,
 "nbformat_minor": 2
}
