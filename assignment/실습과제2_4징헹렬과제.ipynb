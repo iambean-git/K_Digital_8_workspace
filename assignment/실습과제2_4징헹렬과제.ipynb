{
 "cells": [
  {
   "cell_type": "code",
   "execution_count": 71,
   "metadata": {},
   "outputs": [
    {
     "name": "stdout",
     "output_type": "stream",
     "text": [
      "<class 'list'>\n",
      "차는 k9\n",
      "k9\n",
      "차는 genesis\n",
      "genesis\n",
      "차는 sonata\n",
      "sonata\n",
      "차는 canival\n",
      "canival\n"
     ]
    }
   ],
   "source": [
    "list1 = ['k9', 'genesis', 'sonata', 'canival']\n",
    "print(list)\n",
    "\n",
    "for car in list1:\n",
    "    print(f\"차는 {car}\")\n",
    "    print(car)"
   ]
  },
  {
   "cell_type": "code",
   "execution_count": 72,
   "metadata": {},
   "outputs": [
    {
     "name": "stdout",
     "output_type": "stream",
     "text": [
      "0\n",
      "1\n",
      "2\n",
      "3\n",
      "4\n",
      "range(0, 5)\n",
      "<class 'range'>\n",
      "5\n",
      "4\n",
      "3\n",
      "2\n",
      "1\n"
     ]
    }
   ],
   "source": [
    "\n",
    "for value in range(5):\n",
    "    print(value)\n",
    "\n",
    "print(range(5))\n",
    "\n",
    "print(type(range(5)))\n",
    "\n",
    "for value in range(5,0,-1):\n",
    "    print(value)\n",
    "\n",
    "numbers = list(range(1,6))"
   ]
  },
  {
   "cell_type": "code",
   "execution_count": 73,
   "metadata": {},
   "outputs": [
    {
     "name": "stdout",
     "output_type": "stream",
     "text": [
      "\n",
      "리스트 슬라이싱:\n",
      "행을 역순으로 출력\n",
      "[[6, 7, 8], [3, 4, 5], [0, 1, 2]]\n",
      "[[2, 1, 0], [5, 4, 3], [8, 7, 6]]\n",
      "\n",
      "에러 발생: list indices must be integers or slices, not tuple\n"
     ]
    }
   ],
   "source": [
    "# 슬라이싱 예제 - 리스트는 [::] 형식만 지원\n",
    "matrix = [[0, 1, 2], [3, 4, 5], [6, 7, 8]]\n",
    "\n",
    "# 리스트 슬라이싱 (정상)\n",
    "print(\"\\n리스트 슬라이싱:\")\n",
    "\n",
    "# 행을 역순으로 출력\n",
    "print('행을 역순으로 출력')\n",
    "print(matrix[::-1])\n",
    "\n",
    "# 열을 역순으로 출력\n",
    "rmatrix = [row[::-1] for row in matrix]\n",
    "print(rmatrix)\n",
    "\n",
    "#print(matrix[:1, :1])을 구현하는 리스트 슬라이싱\n",
    "# 첫 번째 행에서 첫 번째 열만 슬라이싱 (== matrix[:1, :1])\n",
    "\n",
    "# 잘못된 슬라이싱 시도 - 튜플로 인식되는 경우\n",
    "try:\n",
    "    print(matrix[::-1,::-1])  # 잘못된 사용, TypeError 발생\n",
    "except TypeError as e:\n",
    "    print(\"\\n에러 발생:\", e)"
   ]
  },
  {
   "cell_type": "code",
   "execution_count": 74,
   "metadata": {},
   "outputs": [
    {
     "name": "stdout",
     "output_type": "stream",
     "text": [
      "원본 리스트 l: [1, 2, 3, 4]\n",
      "참조한 리스트 la: [1, 2, 3, 4]\n",
      "복사된 리스트 lb: [1, 2, 3]\n",
      "\n",
      "튜플 t: (1, 2, 3)\n",
      "[5, 2]\n",
      "<class 'int'>\n",
      "<class 'int'>\n",
      "array('i', [1, 2, 3])\n",
      "5\n",
      "10\n",
      "a= 22, b = 11\n",
      "i: 0, v: 1\n",
      "i: 1, v: 2\n",
      "i: 2, v: 3\n"
     ]
    }
   ],
   "source": [
    "# 리스트 복사하기 (얕은 복사)\n",
    "# 함수 매개변수로 리스트 전달할 때 주의\n",
    "l = [1, 2, 3]\n",
    "la = l  # la는 l의 참조, 같은 메모리 주소를 가리킴\n",
    "lb = l[:]  # lb는 l의 복사본, 서로 다른 메모리 주소\n",
    "\n",
    "# 리스트에 값 추가하기\n",
    "l.append(4)\n",
    "\n",
    "print(\"원본 리스트 l:\", l)       # [1, 2, 3, 4]\n",
    "print(\"참조한 리스트 la:\", la)   # [1, 2, 3, 4] (la는 l과 동일한 참조)\n",
    "print(\"복사된 리스트 lb:\", lb)   # [1, 2, 3] (lb는 독립적인 리스트)\n",
    "\n",
    "# 튜플 (immutable)\n",
    "t = (1, 2, 3)\n",
    "# t[0] = 10  # 에러: 튜플은 불변(immutable)하기 때문에 요소를 변경할 수 없음\n",
    "\n",
    "print(\"\\n튜플 t:\", t)  # (1, 2, 3)\n",
    "\n",
    "lst1 = [a,b] = [1,2]\n",
    "tpl1 = (c,d) = (3,4)\n",
    "lst1[0] = 5\n",
    "#tpl1[0] = 7\n",
    "print(lst1)\n",
    "print(type(lst1[0]))\n",
    "print(type(tpl1[0]))\n",
    "num = range(10)\n",
    "type(num)\n",
    "num\n",
    "\n",
    "import array ## 파이썬의 배열 \n",
    "my_array = array.array('i', [1, 2, 3])  # 'i'는 정수(int)를 의미\n",
    "# 1차원 배열을 리스트로 묶어서 2차원 배열처럼 사용\n",
    "row1 = array.array('i', [1, 2, 3])\n",
    "row2 = array.array('i', [4, 5, 6])\n",
    "row3 = array.array('i', [7, 8, 9])\n",
    "\n",
    "matrix = [row1, row2, row3]  # 리스트로 2차원 배열처럼 표현\n",
    "\n",
    "# 2차원 배열처럼 접근\n",
    "print(matrix[0])     # 첫 번째 행 출력: [1, 2, 3]\n",
    "print(matrix[1][1])  # 두 번째 행의 두 번째 값 출력: 5\n",
    "#matrix[:1,:2] ##  리스트 인덱스는 튜플 사용 안됨\n",
    "### tuple\n",
    "tup = 10,20,30,40\n",
    "#tup[0] = 11\n",
    "print(tup[0])\n",
    "\n",
    "a,b,c = 10,20,30\n",
    "a,b = 11,22\n",
    "a,b = b, a\n",
    "print(f\"a= {a}, b = {b}\")\n",
    "\n",
    "#함수만들기와 동시 할당\n",
    "def test():\n",
    "    return 10,20,30\n",
    "x,y,z = test()\n",
    "\n",
    "l = [1, 2, 3]\n",
    "for i, v in enumerate(l):\n",
    "    print(f\"i: {i}, v: {v}\")\n"
   ]
  },
  {
   "cell_type": "code",
   "execution_count": 81,
   "metadata": {},
   "outputs": [
    {
     "name": "stdout",
     "output_type": "stream",
     "text": [
      "원본 행렬: [[1, 2, 3, 4, 5], [6, 7, 8, 9, 10], [11, 12, 13, 14, 15], [16, 17, 18, 19, 20]]\n",
      "[1, 2, 3, 4, 5]\n",
      "[6, 7, 8, 9, 10]\n",
      "[11, 12, 13, 14, 15]\n",
      "[16, 17, 18, 19, 20]\n",
      "\n",
      "전치 행렬:[[1, 6, 11, 16], [2, 7, 12, 17], [3, 8, 13, 18], [4, 9, 14, 19], [5, 10, 15, 20]]\n",
      "[[1, 6, 11, 16], [2, 7, 12, 17], [3, 8, 13, 18], [4, 9, 14, 19], [5, 10, 15, 20]]\n"
     ]
    }
   ],
   "source": [
    "# 3x5 행렬 생성\n",
    "# matrix = [\n",
    "#     [1, 2, 3, 4, 5],\n",
    "#     [6, 7, 8, 9, 10],\n",
    "#     [11, 12, 13, 14, 15]\n",
    "# ]\n",
    "\n",
    "matrix = [[(row*5 + col)+1 for col in range(5)] for row in range(4)]\n",
    "\n",
    "# 난수로 배열만들기\n",
    "# import random\n",
    "# matrix = [[random.randrange(1,51) for _ in range(5)] for _ in range(4)]\n",
    "\n",
    "print(f\"원본 행렬: {matrix}\")\n",
    "for row in matrix :\n",
    "    print(row)\n",
    "\n",
    "    \n",
    "# 전치 행렬 (행과 열을 뒤바꿈)\n",
    "#이중for문 써서 만드는 방식\n",
    "\n",
    "tmatrix = [[] for _ in range(len(matrix[0]))]\n",
    "#tmatrix = [[],[],[],[],[]]\n",
    "\n",
    "for i in range(len(matrix)) :\n",
    "    for j in range(len(matrix[0])) :\n",
    "        tmatrix[j].append(matrix[i][j])\n",
    "\n",
    "##교수님 방식\n",
    "print(f\"\\n전치 행렬:{tmatrix}\")\n",
    "ttmatrix = [[row[col] for row in matrix] for col in range(len(matrix[0]))]\n",
    "print(ttmatrix)"
   ]
  },
  {
   "cell_type": "code",
   "execution_count": 106,
   "metadata": {},
   "outputs": [
    {
     "name": "stdout",
     "output_type": "stream",
     "text": [
      "[99, 8, 7, 6, 5, 4, 3, 2, 1, 0]\n",
      "[0, 1, 2, 3, 4, 5, 6, 7, 8, 9]\n",
      "[11, 1, 2, 3, 4, 5, 6, 7, 8, 9]\n"
     ]
    }
   ],
   "source": [
    "# 리스트[start:stop:step]\n",
    "# start: 시작 인덱스 (포함)\n",
    "# stop: 끝 인덱스 (포함되지 않음)\n",
    "# step: 인덱스 증가 값 (기본값은 1)\n",
    "numbers = [0, 1, 2, 3, 4, 5, 6, 7, 8, 9]\n",
    "# 리스트를 뒤집기\n",
    "reversed_list = sorted(numbers,reverse=True)\n",
    "reversed_list[0] = 99\n",
    "print(reversed_list)\n",
    "\n",
    "print(numbers)\n",
    "numbers2 = numbers\n",
    "numbers2[0] = 11\n",
    "print(numbers)"
   ]
  },
  {
   "cell_type": "code",
   "execution_count": 1,
   "metadata": {},
   "outputs": [
    {
     "name": "stdout",
     "output_type": "stream",
     "text": [
      "[[1, 2, 3, 4, 5, 6, 7, 8], [9, 10, 11, 12, 13, 14, 15, 16], [17, 18, 19, 20, 21, 22, 23, 24], [25, 26, 27, 28, 29, 30, 31, 32], [33, 34, 35, 36, 37, 38, 39, 40]]\n"
     ]
    }
   ],
   "source": [
    "array = [[] for i in range(5)]  \n",
    "for i in range(5):  \n",
    "    for j in range(1, 9):  \n",
    "        array[i].append(j+8*i)  \n",
    "\n",
    "print(array)"
   ]
  },
  {
   "cell_type": "code",
   "execution_count": 100,
   "metadata": {},
   "outputs": [
    {
     "name": "stdout",
     "output_type": "stream",
     "text": [
      "[[32, 30, 31, 31, 17, 6, 8], [27, 47, 33, 28, 2, 47, 26], [48, 38, 45, 28, 13, 36, 36], [32, 38, 48, 47, 27, 12, 37], [46, 31, 28, 27, 17, 20, 32]]\n",
      "[32, 31, 31, 30, 17, 8, 6]\n",
      "[47, 47, 33, 28, 27, 26, 2]\n",
      "[48, 45, 38, 36, 36, 28, 13]\n",
      "[48, 47, 38, 37, 32, 27, 12]\n",
      "[46, 32, 31, 28, 27, 20, 17]\n",
      "[[32, 31, 31], [47, 47, 33], [48, 45, 38], [48, 47, 38], [46, 32, 31]]\n"
     ]
    }
   ],
   "source": [
    "import random\n",
    "\n",
    "# 행렬의 크기 정의 (5x7 행렬)\n",
    "rows, cols = 5, 7\n",
    "\n",
    "# 2차원 행렬을 난수로 초기화\n",
    "import random\n",
    "matrix = [[ random.randrange(1,51) for _ in range(cols)] for _ in range(rows)]\n",
    "\n",
    "# 행렬 출력\n",
    "print(matrix)\n",
    "\n",
    "# 각 행에서 최대 값부터 3번째 큰 값까지 순서대로 행렬 만들기\n",
    "result_matrix = []\n",
    "\n",
    "for row in matrix:\n",
    "    # 행을 정렬하여 최대 값부터 작은 값으로 정렬\n",
    "    row.sort(reverse=True)\n",
    "    \n",
    "    # 최대 값부터 3번째 큰 값까지 가져오기\n",
    "    rowMax = row[:3]\n",
    "    \n",
    "    # 결과 행렬에 추가\n",
    "    result_matrix.append(rowMax)\n",
    "\n",
    "# 결과 행렬 출력\n",
    "print(\"\\n결과 행렬 (최대 값부터 3번째 큰 값까지):\")\n",
    "print(result_matrix)\n"
   ]
  },
  {
   "cell_type": "code",
   "execution_count": 97,
   "metadata": {},
   "outputs": [
    {
     "name": "stdout",
     "output_type": "stream",
     "text": [
      "matrix1 is    [[39, 1, 29, 4, 40, 40, 45], [49, 18, 34, 11, 18, 19, 38], [33, 10, 17, 36, 35, 14, 29], [27, 38, 26, 50, 37, 15, 41], [26, 36, 13, 41, 3, 34, 36]]\n",
      "matrix2 is    [[25, 36, 39, 28, 4, 41, 14], [3, 11, 22, 15, 26, 32, 9], [14, 21, 5, 42, 49, 9, 24], [44, 28, 7, 6, 38, 4, 15], [50, 39, 3, 13, 49, 47, 18]]\n",
      "sum matrix is [[64, 37, 68, 32, 44, 81, 59], [52, 29, 56, 26, 44, 51, 47], [47, 31, 22, 78, 84, 23, 53], [71, 66, 33, 56, 75, 19, 56], [76, 75, 16, 54, 52, 81, 54]]\n"
     ]
    }
   ],
   "source": [
    "row, col = 5,7\n",
    "matrix1 = [[ random.randrange(1,51) for _ in range(col)] for _ in range(row)] #난수를 사용하여 초기화\n",
    "matrix2 = [[ random.randrange(1,51) for _ in range(col)] for _ in range(row)] #난수를 사용하여 초기화\n",
    "\n",
    "##행렬 덧셈\n",
    "result_m = [[0 for _ in range(cols)] for _ in range(rows)]\n",
    "for i in range(row):\n",
    "    for j in range(col):\n",
    "        result_m[i][j] = matrix1[i][j] + matrix2[i][j]\n",
    "\n",
    "print(f\"matrix1 is    {matrix1}\")\n",
    "print(f\"matrix2 is    {matrix2}\")\n",
    "print(f\"sum matrix is {result_m}\")"
   ]
  },
  {
   "cell_type": "code",
   "execution_count": null,
   "metadata": {},
   "outputs": [],
   "source": [
    "import random\n",
    "\n",
    "# 행렬의 크기 정의 (5x7 행렬)\n",
    "rows, cols = 5, 7\n",
    "\n",
    "# 2차원 행렬을 난수로 초기화\n",
    "import random\n",
    "matrix = [[ random.randrange(1,51) for _ in range(cols)] for _ in range(rows)]\n",
    "\n",
    "# 행렬 출력\n",
    "print(matrix)\n",
    "\n",
    "# 각 열에서 최대 값부터 3번째 큰 값까지 순서대로 행렬 만들기\n",
    "## 해법 : 전치 행렬 만들기 -> 열0은 전치 행렬의 행 0 > 각 행을 정렬 > 3개 최대값 출력 (슬라이싱)\n",
    "result_matrix = []\n",
    "\n",
    "for row in matrix:\n",
    "    # 행을 정렬하여 최대 값부터 작은 값으로 정렬\n",
    "    \n",
    "    \n",
    "    # 최대 값부터 3번째 큰 값까지 가져오기\n",
    "  \n",
    "    \n",
    "    # 결과 행렬에 추가\n",
    "\n",
    "\n",
    "# 결과 행렬 출력\n",
    "\n",
    "#print(\"\\n결과 행렬 (최대 값부터 3번째 큰 값까지):\")\n"
   ]
  }
 ],
 "metadata": {
  "kernelspec": {
   "display_name": "Python 3",
   "language": "python",
   "name": "python3"
  },
  "language_info": {
   "codemirror_mode": {
    "name": "ipython",
    "version": 3
   },
   "file_extension": ".py",
   "mimetype": "text/x-python",
   "name": "python",
   "nbconvert_exporter": "python",
   "pygments_lexer": "ipython3",
   "version": "3.12.6"
  }
 },
 "nbformat": 4,
 "nbformat_minor": 2
}
